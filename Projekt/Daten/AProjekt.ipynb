{
 "cells": [
  {
   "cell_type": "code",
   "execution_count": 3,
   "metadata": {},
   "outputs": [],
   "source": [
    "import numpy as np\n",
    "import matplotlib.pyplot as plt"
   ]
  },
  {
   "attachments": {},
   "cell_type": "markdown",
   "metadata": {},
   "source": [
    "In der Datenstruktur geht es um veschiedere Wetterstationen in diesem Fall die Wetterstationen von `Bern`. \n",
    "\n",
    "Die Spaltennamen werden hier unten klar definiert. \n",
    "\n",
    "\n",
    "|  Header   |        Bedeutung        |  Einheit   |\n",
    "| :-------: | :---------------------: | :--------: |\n",
    "|    stn    |      Wetterstation      |     -      |\n",
    "|   time    |       Zeitstempel       | `datetime` |\n",
    "| prestah0  |        Luftdruck        |    hPa     |\n",
    "| tre200h0  |       Temperatur        |     °C     |\n",
    "| rre150h0  |       Regenmenge        |     mm     |\n",
    "| su2000h0  |      Sonnenstunden      |     %      |\n",
    "| time_diff | Stunden seit Messbeginn |     h      |"
   ]
  },
  {
   "attachments": {},
   "cell_type": "markdown",
   "metadata": {},
   "source": [
    "Schon am Anfang beginnen die ersten Probleme aufzutauchen, denn wie wir wissen fehlen gewisse Daten in der Datenstruktur. Um die möglichkeit frei zu behalten zu einem späteren Zeitpunkt fehlender Werte zu ergänzen oder zu filtern haben wir uns für die funktion `genfromtxt` entschieden, denn diese ermöglicht es uns fehlende Werte zu filtern oder zu ergänzen "
   ]
  },
  {
   "cell_type": "code",
   "execution_count": 28,
   "metadata": {},
   "outputs": [],
   "source": [
    "# Hier hat man genfromtxt() benutzt, um die Daten aus der CSV-Datei zu laden.\n",
    "data = np.genfromtxt(\"Bern21-22.csv\", delimiter=';', skip_header=1, dtype='str')"
   ]
  },
  {
   "attachments": {},
   "cell_type": "markdown",
   "metadata": {},
   "source": [
    "In einem nächsten Schritt werden die explizite Daten der Wetterstation in **Bern** gefiltert. Gleich danach wird das Array Transponiert um die Zugewiesenen Variablen den richtigen Spalten zuzuweisen. \n",
    "\n",
    "Eine reduktion von **52'324** auf **7464** Daten kann nach diesem Prozess beobachtet werden. Trotz der gefilterten Daten bleibt  die Zeilenanzahl enthalten. \n"
   ]
  },
  {
   "cell_type": "code",
   "execution_count": 29,
   "metadata": {},
   "outputs": [
    {
     "name": "stdout",
     "output_type": "stream",
     "text": [
      " Der ursprüngliche Datensatz betägt (52324, 7), (7464, 7)\n",
      "52324 7464\n",
      "[['BER' '2021-11-01 00:00:00' '941.4' '7.2' '0.0' '0.0' '0.0']\n",
      " ['BER' '2021-11-01 01:00:00' '941.4' '7.5' '0.0' '0.0' '1.0']\n",
      " ['BER' '2021-11-01 02:00:00' '941.1' '8.3' '0.7' '0.0' '2.0']\n",
      " ['BER' '2021-11-01 04:00:00' '941.3' '9.6' '1.0' '0.0' '4.0']\n",
      " ['BER' '2021-11-01 06:00:00' '942.2' '9.6' '1.7' '0.0' '6.0']]\n"
     ]
    }
   ],
   "source": [
    "# Daten nach BER filtern\n",
    "ber_data = data[np.char.startswith(data[:,0], \"BER\")]\n",
    "\n",
    "# Variablen gemäss Aufgabenstellung zuweisen\n",
    "stn, time, luftdruck, temp, regen, sonne, time_diff = ber_data.T\n",
    "\n",
    "# shape und len() der Arrays ausgeben\n",
    "print(f\" Der ursprüngliche Datensatz betägt {data.shape}, {ber_data.shape}\")\n",
    "print(len(data),len(ber_data))\n",
    "\n",
    "# Die ersten 5 Zeilen ausgeben\n",
    "print(ber_data[:5])"
   ]
  },
  {
   "cell_type": "markdown",
   "metadata": {},
   "source": [
    "Jedoch wollen wir ersteinmal wissen, wieviele Daten, dass überhaupt fehlen, damit wir uns ein Bild machen können. Wir wissen, dass die Wetterdaten über ein Jahr gesammelt worden sind und dass ein Tag aus 24h besteht. "
   ]
  },
  {
   "cell_type": "code",
   "execution_count": 6,
   "metadata": {},
   "outputs": [
    {
     "name": "stdout",
     "output_type": "stream",
     "text": [
      "Es fehlen insgesammt 1296 Datensätze\n"
     ]
    }
   ],
   "source": [
    "datensätze = 365 * 24\n",
    "unsere_datensätze = len(ber_data)\n",
    "print(f\"Es fehlen insgesammt {datensätze - unsere_datensätze} Datensätze\")"
   ]
  },
  {
   "cell_type": "code",
   "execution_count": 7,
   "metadata": {},
   "outputs": [
    {
     "data": {
      "text/plain": [
       "'import pandas as pd\\n# Interpolationspunkte festlegen\\nx = ber_data[\"time_diff\"]\\ny_cols = [\"luftdruck\", \"Temp\", \"regen\", \"sonne\"]\\n\\n# Interpolation durchführen\\ninterp_data = np.broadcast({\"time_diff\": np.arange(x.min(), x.max()+1)})\\nfor col in y_cols:\\n    interp_func = np.interp(interp_data[\"time_diff\"], x, data[col])\\n    interp_data[col] = interp_func\\n\\n# Ergebnis ausgeben\\nprint(interp_data)\\n'"
      ]
     },
     "execution_count": 7,
     "metadata": {},
     "output_type": "execute_result"
    }
   ],
   "source": [
    "\"\"\"import pandas as pd\n",
    "# Interpolationspunkte festlegen\n",
    "x = ber_data[\"time_diff\"]\n",
    "y_cols = [\"luftdruck\", \"Temp\", \"regen\", \"sonne\"]\n",
    "\n",
    "# Interpolation durchführen\n",
    "interp_data = np.broadcast({\"time_diff\": np.arange(x.min(), x.max()+1)})\n",
    "for col in y_cols:\n",
    "    interp_func = np.interp(interp_data[\"time_diff\"], x, data[col])\n",
    "    interp_data[col] = interp_func\n",
    "\n",
    "# Ergebnis ausgeben\n",
    "print(interp_data)\n",
    "\"\"\""
   ]
  },
  {
   "cell_type": "code",
   "execution_count": 8,
   "metadata": {},
   "outputs": [],
   "source": [
    "#BER;2021-11-01 00:00:00;941.4;7.2;0.0;0.0;0.0\n",
    "#BER;2022-11-01 23:00:00;959.1;9.6;0.0;0.0;8783.0"
   ]
  },
  {
   "cell_type": "markdown",
   "metadata": {},
   "source": [
    "Interpolation "
   ]
  },
  {
   "cell_type": "code",
   "execution_count": 9,
   "metadata": {},
   "outputs": [
    {
     "data": {
      "text/plain": [
       "array([['2021-11-01 00:00:00', '941.4', '7.2', '0.0', '0.0', '0.0'],\n",
       "       ['2021-11-01 01:00:00', '941.4', '7.5', '0.0', '0.0', '1.0'],\n",
       "       ['2021-11-01 02:00:00', '941.1', '8.3', '0.7', '0.0', '2.0'],\n",
       "       ...,\n",
       "       ['2022-11-01 21:00:00', '958.6', '11.1', '0.0', '0.0', '8781.0'],\n",
       "       ['2022-11-01 22:00:00', '958.9', '10.0', '0.0', '0.0', '8782.0'],\n",
       "       ['2022-11-01 23:00:00', '959.1', '9.6', '0.0', '0.0', '8783.0']],\n",
       "      dtype='<U19')"
      ]
     },
     "execution_count": 9,
     "metadata": {},
     "output_type": "execute_result"
    }
   ],
   "source": [
    "import numpy as np\n",
    "\n",
    "def remove_ber(data):\n",
    "    # entferne die Spalte \"BER\"\n",
    "    updated_data = np.delete(data, 0, axis=1) & np.delete(data, 0, axis=2)\n",
    "    return updated_data\n",
    "\n",
    "\n",
    "# aktualisiertes Array ohne die Spalte \"BER\"\n",
    "updated_data = remove_ber(ber_data)\n",
    "# aktualisierte Spaltennamen ohne \"BER\"\n",
    "updated_data[:, 2:] = updated_data[:, 2:].astype(float)\n",
    "\n",
    "\n",
    "updated_data"
   ]
  },
  {
   "cell_type": "code",
   "execution_count": 10,
   "metadata": {},
   "outputs": [],
   "source": [
    "import pandas as pd\n",
    "def read_ber_data(filename):\n",
    "    # Einlesen der CSV-Datei\n",
    "    df = pd.read_csv(filename, header=None, sep=';')\n",
    "    \n",
    "    # Filtern nach Datensätzen mit Präfix \"BER\"\n",
    "    df = df[df[0].str.startswith('BER')]\n",
    "    \n",
    "    # Spaltennamen zuweisen\n",
    "    df.columns = ['Station', 'Datum', 'Druck', 'Temp', 'Regen', 'Schnee', 'Wind']\n",
    "    \n",
    "    return df\n"
   ]
  },
  {
   "cell_type": "code",
   "execution_count": 11,
   "metadata": {},
   "outputs": [],
   "source": [
    "df = read_ber_data('Bern21-22.csv')"
   ]
  },
  {
   "cell_type": "code",
   "execution_count": 12,
   "metadata": {},
   "outputs": [
    {
     "data": {
      "text/html": [
       "<div>\n",
       "<style scoped>\n",
       "    .dataframe tbody tr th:only-of-type {\n",
       "        vertical-align: middle;\n",
       "    }\n",
       "\n",
       "    .dataframe tbody tr th {\n",
       "        vertical-align: top;\n",
       "    }\n",
       "\n",
       "    .dataframe thead th {\n",
       "        text-align: right;\n",
       "    }\n",
       "</style>\n",
       "<table border=\"1\" class=\"dataframe\">\n",
       "  <thead>\n",
       "    <tr style=\"text-align: right;\">\n",
       "      <th></th>\n",
       "      <th>Station</th>\n",
       "      <th>Datum</th>\n",
       "      <th>Druck</th>\n",
       "      <th>Temp</th>\n",
       "      <th>Regen</th>\n",
       "      <th>Schnee</th>\n",
       "      <th>Wind</th>\n",
       "    </tr>\n",
       "  </thead>\n",
       "  <tbody>\n",
       "    <tr>\n",
       "      <th>7446</th>\n",
       "      <td>BER</td>\n",
       "      <td>2021-11-01 00:00:00</td>\n",
       "      <td>941.4</td>\n",
       "      <td>7.2</td>\n",
       "      <td>0.0</td>\n",
       "      <td>0.0</td>\n",
       "      <td>0.0</td>\n",
       "    </tr>\n",
       "    <tr>\n",
       "      <th>7447</th>\n",
       "      <td>BER</td>\n",
       "      <td>2021-11-01 01:00:00</td>\n",
       "      <td>941.4</td>\n",
       "      <td>7.5</td>\n",
       "      <td>0.0</td>\n",
       "      <td>0.0</td>\n",
       "      <td>1.0</td>\n",
       "    </tr>\n",
       "    <tr>\n",
       "      <th>7448</th>\n",
       "      <td>BER</td>\n",
       "      <td>2021-11-01 02:00:00</td>\n",
       "      <td>941.1</td>\n",
       "      <td>8.3</td>\n",
       "      <td>0.7</td>\n",
       "      <td>0.0</td>\n",
       "      <td>2.0</td>\n",
       "    </tr>\n",
       "    <tr>\n",
       "      <th>7449</th>\n",
       "      <td>BER</td>\n",
       "      <td>2021-11-01 04:00:00</td>\n",
       "      <td>941.3</td>\n",
       "      <td>9.6</td>\n",
       "      <td>1.0</td>\n",
       "      <td>0.0</td>\n",
       "      <td>4.0</td>\n",
       "    </tr>\n",
       "    <tr>\n",
       "      <th>7450</th>\n",
       "      <td>BER</td>\n",
       "      <td>2021-11-01 06:00:00</td>\n",
       "      <td>942.2</td>\n",
       "      <td>9.6</td>\n",
       "      <td>1.7</td>\n",
       "      <td>0.0</td>\n",
       "      <td>6.0</td>\n",
       "    </tr>\n",
       "    <tr>\n",
       "      <th>...</th>\n",
       "      <td>...</td>\n",
       "      <td>...</td>\n",
       "      <td>...</td>\n",
       "      <td>...</td>\n",
       "      <td>...</td>\n",
       "      <td>...</td>\n",
       "      <td>...</td>\n",
       "    </tr>\n",
       "    <tr>\n",
       "      <th>14905</th>\n",
       "      <td>BER</td>\n",
       "      <td>2022-11-01 18:00:00</td>\n",
       "      <td>958.1</td>\n",
       "      <td>11.1</td>\n",
       "      <td>0.0</td>\n",
       "      <td>0.0</td>\n",
       "      <td>8778.0</td>\n",
       "    </tr>\n",
       "    <tr>\n",
       "      <th>14906</th>\n",
       "      <td>BER</td>\n",
       "      <td>2022-11-01 19:00:00</td>\n",
       "      <td>958.3</td>\n",
       "      <td>10.9</td>\n",
       "      <td>0.0</td>\n",
       "      <td>0.0</td>\n",
       "      <td>8779.0</td>\n",
       "    </tr>\n",
       "    <tr>\n",
       "      <th>14907</th>\n",
       "      <td>BER</td>\n",
       "      <td>2022-11-01 21:00:00</td>\n",
       "      <td>958.6</td>\n",
       "      <td>11.1</td>\n",
       "      <td>0.0</td>\n",
       "      <td>0.0</td>\n",
       "      <td>8781.0</td>\n",
       "    </tr>\n",
       "    <tr>\n",
       "      <th>14908</th>\n",
       "      <td>BER</td>\n",
       "      <td>2022-11-01 22:00:00</td>\n",
       "      <td>958.9</td>\n",
       "      <td>10.0</td>\n",
       "      <td>0.0</td>\n",
       "      <td>0.0</td>\n",
       "      <td>8782.0</td>\n",
       "    </tr>\n",
       "    <tr>\n",
       "      <th>14909</th>\n",
       "      <td>BER</td>\n",
       "      <td>2022-11-01 23:00:00</td>\n",
       "      <td>959.1</td>\n",
       "      <td>9.6</td>\n",
       "      <td>0.0</td>\n",
       "      <td>0.0</td>\n",
       "      <td>8783.0</td>\n",
       "    </tr>\n",
       "  </tbody>\n",
       "</table>\n",
       "<p>7464 rows × 7 columns</p>\n",
       "</div>"
      ],
      "text/plain": [
       "      Station                Datum  Druck  Temp Regen Schnee    Wind\n",
       "7446      BER  2021-11-01 00:00:00  941.4   7.2   0.0    0.0     0.0\n",
       "7447      BER  2021-11-01 01:00:00  941.4   7.5   0.0    0.0     1.0\n",
       "7448      BER  2021-11-01 02:00:00  941.1   8.3   0.7    0.0     2.0\n",
       "7449      BER  2021-11-01 04:00:00  941.3   9.6   1.0    0.0     4.0\n",
       "7450      BER  2021-11-01 06:00:00  942.2   9.6   1.7    0.0     6.0\n",
       "...       ...                  ...    ...   ...   ...    ...     ...\n",
       "14905     BER  2022-11-01 18:00:00  958.1  11.1   0.0    0.0  8778.0\n",
       "14906     BER  2022-11-01 19:00:00  958.3  10.9   0.0    0.0  8779.0\n",
       "14907     BER  2022-11-01 21:00:00  958.6  11.1   0.0    0.0  8781.0\n",
       "14908     BER  2022-11-01 22:00:00  958.9  10.0   0.0    0.0  8782.0\n",
       "14909     BER  2022-11-01 23:00:00  959.1   9.6   0.0    0.0  8783.0\n",
       "\n",
       "[7464 rows x 7 columns]"
      ]
     },
     "execution_count": 12,
     "metadata": {},
     "output_type": "execute_result"
    }
   ],
   "source": [
    "df"
   ]
  },
  {
   "cell_type": "code",
   "execution_count": 13,
   "metadata": {},
   "outputs": [
    {
     "name": "stdout",
     "output_type": "stream",
     "text": [
      "                       7446                 7447                 7448   \\\n",
      "Station                  BER                  BER                  BER   \n",
      "Datum    2021-11-01 00:00:00  2021-11-01 01:00:00  2021-11-01 02:00:00   \n",
      "Druck                  941.4                941.4                941.1   \n",
      "Temp                     7.2                  7.5                  8.3   \n",
      "Regen                    0.0                  0.0                  0.7   \n",
      "Schnee                   0.0                  0.0                  0.0   \n",
      "Wind                     0.0                  1.0                  2.0   \n",
      "\n",
      "                       7449                 7450                 7451   \\\n",
      "Station                  BER                  BER                  BER   \n",
      "Datum    2021-11-01 04:00:00  2021-11-01 06:00:00  2021-11-01 07:00:00   \n",
      "Druck                  941.3                942.2                943.1   \n",
      "Temp                     9.6                  9.6                  9.4   \n",
      "Regen                    1.0                  1.7                  1.7   \n",
      "Schnee                   0.0                  0.0                  0.0   \n",
      "Wind                     4.0                  6.0                  7.0   \n",
      "\n",
      "                       7452                 7453                 7454   \\\n",
      "Station                  BER                  BER                  BER   \n",
      "Datum    2021-11-01 08:00:00  2021-11-01 09:00:00  2021-11-01 10:00:00   \n",
      "Druck                  943.8                943.7                943.1   \n",
      "Temp                     8.5                  8.8                  9.3   \n",
      "Regen                    1.1                  0.3                  0.0   \n",
      "Schnee                   0.0                  0.0                  0.0   \n",
      "Wind                     8.0                  9.0                 10.0   \n",
      "\n",
      "                       7455   ...                14900                14901  \\\n",
      "Station                  BER  ...                  BER                  BER   \n",
      "Datum    2021-11-01 12:00:00  ...  2022-11-01 11:00:00  2022-11-01 12:00:00   \n",
      "Druck                  942.6  ...                958.1                957.8   \n",
      "Temp                     9.2  ...                 13.8                 14.6   \n",
      "Regen                    0.2  ...                  0.0                  0.0   \n",
      "Schnee                   0.0  ...                  0.0                  0.2   \n",
      "Wind                    12.0  ...               8771.0               8772.0   \n",
      "\n",
      "                       14902                14903                14904  \\\n",
      "Station                  BER                  BER                  BER   \n",
      "Datum    2022-11-01 15:00:00  2022-11-01 16:00:00  2022-11-01 17:00:00   \n",
      "Druck                  957.3                957.2                957.5   \n",
      "Temp                    15.0                 14.6                 12.1   \n",
      "Regen                    0.0                  0.0                  0.0   \n",
      "Schnee                   0.2                  0.1                  0.0   \n",
      "Wind                  8775.0               8776.0               8777.0   \n",
      "\n",
      "                       14905                14906                14907  \\\n",
      "Station                  BER                  BER                  BER   \n",
      "Datum    2022-11-01 18:00:00  2022-11-01 19:00:00  2022-11-01 21:00:00   \n",
      "Druck                  958.1                958.3                958.6   \n",
      "Temp                    11.1                 10.9                 11.1   \n",
      "Regen                    0.0                  0.0                  0.0   \n",
      "Schnee                   0.0                  0.0                  0.0   \n",
      "Wind                  8778.0               8779.0               8781.0   \n",
      "\n",
      "                       14908                14909  \n",
      "Station                  BER                  BER  \n",
      "Datum    2022-11-01 22:00:00  2022-11-01 23:00:00  \n",
      "Druck                  958.9                959.1  \n",
      "Temp                    10.0                  9.6  \n",
      "Regen                    0.0                  0.0  \n",
      "Schnee                   0.0                  0.0  \n",
      "Wind                  8782.0               8783.0  \n",
      "\n",
      "[7 rows x 7464 columns]\n"
     ]
    }
   ],
   "source": [
    "\n",
    "x = df.T\n",
    "\n",
    "print(x)\n"
   ]
  },
  {
   "cell_type": "code",
   "execution_count": 27,
   "metadata": {},
   "outputs": [
    {
     "ename": "TypeError",
     "evalue": "ufunc 'bitwise_and' not supported for the input types, and the inputs could not be safely coerced to any supported types according to the casting rule ''safe''",
     "output_type": "error",
     "traceback": [
      "\u001b[0;31m---------------------------------------------------------------------------\u001b[0m",
      "\u001b[0;31mTypeError\u001b[0m                                 Traceback (most recent call last)",
      "\u001b[0;32m/var/folders/x2/gxdsv3mj0xq83n036tnyxl9h0000gp/T/ipykernel_28885/1927015212.py\u001b[0m in \u001b[0;36m<module>\u001b[0;34m\u001b[0m\n\u001b[1;32m      9\u001b[0m \u001b[0;34m\u001b[0m\u001b[0m\n\u001b[1;32m     10\u001b[0m     \u001b[0;32mreturn\u001b[0m \u001b[0mbereinigte_daten\u001b[0m\u001b[0;34m\u001b[0m\u001b[0;34m\u001b[0m\u001b[0m\n\u001b[0;32m---> 11\u001b[0;31m \u001b[0mprint\u001b[0m\u001b[0;34m(\u001b[0m\u001b[0mpreprocess_data\u001b[0m\u001b[0;34m(\u001b[0m\u001b[0mber_data\u001b[0m\u001b[0;34m)\u001b[0m\u001b[0;34m)\u001b[0m\u001b[0;34m\u001b[0m\u001b[0;34m\u001b[0m\u001b[0m\n\u001b[0m",
      "\u001b[0;32m/var/folders/x2/gxdsv3mj0xq83n036tnyxl9h0000gp/T/ipykernel_28885/1927015212.py\u001b[0m in \u001b[0;36mpreprocess_data\u001b[0;34m(data)\u001b[0m\n\u001b[1;32m      3\u001b[0m \u001b[0;32mdef\u001b[0m \u001b[0mpreprocess_data\u001b[0m\u001b[0;34m(\u001b[0m\u001b[0mdata\u001b[0m\u001b[0;34m)\u001b[0m\u001b[0;34m:\u001b[0m\u001b[0;34m\u001b[0m\u001b[0;34m\u001b[0m\u001b[0m\n\u001b[1;32m      4\u001b[0m     \u001b[0;31m# Entferne die Spalte \"stn\"\u001b[0m\u001b[0;34m\u001b[0m\u001b[0;34m\u001b[0m\u001b[0m\n\u001b[0;32m----> 5\u001b[0;31m     \u001b[0mbereinigte_daten\u001b[0m \u001b[0;34m=\u001b[0m \u001b[0mnp\u001b[0m\u001b[0;34m.\u001b[0m\u001b[0mdelete\u001b[0m\u001b[0;34m(\u001b[0m\u001b[0mdata\u001b[0m\u001b[0;34m,\u001b[0m \u001b[0;36m0\u001b[0m\u001b[0;34m,\u001b[0m \u001b[0maxis\u001b[0m\u001b[0;34m=\u001b[0m\u001b[0;36m1\u001b[0m\u001b[0;34m)\u001b[0m \u001b[0;34m&\u001b[0m \u001b[0mnp\u001b[0m\u001b[0;34m.\u001b[0m\u001b[0mdelete\u001b[0m\u001b[0;34m(\u001b[0m\u001b[0mdata\u001b[0m\u001b[0;34m,\u001b[0m \u001b[0;36m0\u001b[0m\u001b[0;34m,\u001b[0m \u001b[0maxis\u001b[0m\u001b[0;34m=\u001b[0m\u001b[0;36m1\u001b[0m\u001b[0;34m)\u001b[0m\u001b[0;34m\u001b[0m\u001b[0;34m\u001b[0m\u001b[0m\n\u001b[0m\u001b[1;32m      6\u001b[0m \u001b[0;34m\u001b[0m\u001b[0m\n\u001b[1;32m      7\u001b[0m     \u001b[0;31m# Konvertiere alle Spalten außer der ersten in float\u001b[0m\u001b[0;34m\u001b[0m\u001b[0;34m\u001b[0m\u001b[0m\n",
      "\u001b[0;31mTypeError\u001b[0m: ufunc 'bitwise_and' not supported for the input types, and the inputs could not be safely coerced to any supported types according to the casting rule ''safe''"
     ]
    }
   ],
   "source": [
    "import numpy as np\n",
    "\n",
    "def preprocess_data(data):\n",
    "    # Entferne die Spalte \"stn\"\n",
    "    bereinigte_daten = np.delete(data, 0, axis=1) & np.delete(data, 0, axis=1)\n",
    "    \n",
    "    # Konvertiere alle Spalten außer der ersten in float\n",
    "    data[:, 1:] = data[:, 1:].astype(float)\n",
    "    \n",
    "    return bereinigte_daten\n",
    "print(preprocess_data(ber_data))\n"
   ]
  },
  {
   "cell_type": "code",
   "execution_count": 23,
   "metadata": {},
   "outputs": [
    {
     "name": "stdout",
     "output_type": "stream",
     "text": [
      "[['941.4' '7.2' '0.0' '0.0' '0.0']\n",
      " ['941.4' '7.5' '0.0' '0.0' '1.0']\n",
      " ['941.1' '8.3' '0.7' '0.0' '2.0']\n",
      " ...\n",
      " ['958.6' '11.1' '0.0' '0.0' '8781.0']\n",
      " ['958.9' '10.0' '0.0' '0.0' '8782.0']\n",
      " ['959.1' '9.6' '0.0' '0.0' '8783.0']]\n",
      "[['2021-11-01 00:00:00' '941.4' '7.2' '0.0' '0.0' '0.0']\n",
      " ['2021-11-01 01:00:00' '941.4' '7.5' '0.0' '0.0' '1.0']\n",
      " ['2021-11-01 02:00:00' '941.1' '8.3' '0.7' '0.0' '2.0']\n",
      " ...\n",
      " ['2022-11-01 21:00:00' '958.6' '11.1' '0.0' '0.0' '8781.0']\n",
      " ['2022-11-01 22:00:00' '958.9' '10.0' '0.0' '0.0' '8782.0']\n",
      " ['2022-11-01 23:00:00' '959.1' '9.6' '0.0' '0.0' '8783.0']]\n",
      "[['2021-11-01 00:00:00' '941.4' '7.2' '0.0' '0.0' '0.0']\n",
      " ['2021-11-01 01:00:00' '941.4' '7.5' '0.0' '0.0' '1.0']\n",
      " ['2021-11-01 02:00:00' '941.1' '8.3' '0.7' '0.0' '2.0']\n",
      " ['2021-11-01 04:00:00' '941.3' '9.6' '1.0' '0.0' '4.0']\n",
      " ['2021-11-01 06:00:00' '942.2' '9.6' '1.7' '0.0' '6.0']]\n",
      "[ 7.2  7.5  8.3 ... 11.1 10.   9.6] [0.  0.  0.7 ... 0.  0.  0. ] [0. 0. 0. ... 0. 0. 0.] [0.000e+00 1.000e+00 2.000e+00 ... 8.781e+03 8.782e+03 8.783e+03] [941.4 941.4 941.1 ... 958.6 958.9 959.1]\n",
      "[ 7.2  7.5  8.3 ... 11.1 10.   9.6]\n"
     ]
    }
   ],
   "source": [
    "# Daten nach BER filtern\n",
    "#char macht aus den strings ein array\n",
    "ber_data = data[np.char.startswith(data[:,0], \"BER\")]\n",
    "filtered_data = np.delete(ber_data, [0, 1], axis=1)\n",
    "\n",
    "print(filtered_data)\n",
    "\n",
    "# Vorverarbeitete Daten\n",
    "preprocessed_data = preprocess_data(ber_data)\n",
    "print(preprocessed_data)\n",
    "# Ausgabe der ersten 5 Zeilen\n",
    "print(preprocessed_data[:5])\n",
    "\n",
    "luftdruck = ber_data[:, 2]\n",
    "temperaturen = ber_data[:, 3]\n",
    "\n",
    "regen = ber_data[:, 4]\n",
    "sonne = ber_data[:, 5]\n",
    "time_diff = ber_data[:, 6]\n",
    "\n",
    "\n",
    "luftdruck = luftdruck.astype(float)\n",
    "temperaturen = temperaturen.astype(float)\n",
    "regen = regen.astype(float)\n",
    "sonne = sonne.astype(float)\n",
    "time_diff = time_diff.astype(float)\n",
    "\n",
    "\n",
    "print(temperaturen, regen, sonne, time_diff,luftdruck)\n",
    "\n",
    "print(temperaturen)"
   ]
  },
  {
   "cell_type": "markdown",
   "metadata": {},
   "source": [
    "### hier ist ein anderer Ansatz mal probieren wie man die Daten filtern könnte "
   ]
  },
  {
   "cell_type": "code",
   "execution_count": null,
   "metadata": {},
   "outputs": [],
   "source": [
    "## anderer ansatz\n",
    "data = np.genfromtxt(\"Bern21-22.csv\", delimiter=';', skip_header=1, \n",
    "                     dtype=[('stn', 'U10'), ('time', 'datetime64[s]'), ('lufti', float),\n",
    "                            ('tempi', float), ('regi', float), ('soni', float), \n",
    "                            ('timi', float)])\n"
   ]
  },
  {
   "cell_type": "code",
   "execution_count": null,
   "metadata": {},
   "outputs": [
    {
     "ename": "NameError",
     "evalue": "name 'ber_data' is not defined",
     "output_type": "error",
     "traceback": [
      "\u001b[0;31m---------------------------------------------------------------------------\u001b[0m",
      "\u001b[0;31mNameError\u001b[0m                                 Traceback (most recent call last)",
      "\u001b[0;32m/var/folders/x2/gxdsv3mj0xq83n036tnyxl9h0000gp/T/ipykernel_28885/3432745298.py\u001b[0m in \u001b[0;36m<module>\u001b[0;34m\u001b[0m\n\u001b[1;32m      1\u001b[0m \u001b[0;32mfor\u001b[0m \u001b[0mi\u001b[0m \u001b[0;32min\u001b[0m \u001b[0mrange\u001b[0m\u001b[0;34m(\u001b[0m\u001b[0;36m2\u001b[0m\u001b[0;34m,\u001b[0m \u001b[0;36m7\u001b[0m\u001b[0;34m)\u001b[0m\u001b[0;34m:\u001b[0m\u001b[0;34m\u001b[0m\u001b[0;34m\u001b[0m\u001b[0m\n\u001b[0;32m----> 2\u001b[0;31m     \u001b[0mber_data\u001b[0m\u001b[0;34m[\u001b[0m\u001b[0;34m:\u001b[0m\u001b[0;34m,\u001b[0m \u001b[0mi\u001b[0m\u001b[0;34m]\u001b[0m \u001b[0;34m=\u001b[0m \u001b[0mber_data\u001b[0m\u001b[0;34m[\u001b[0m\u001b[0;34m:\u001b[0m\u001b[0;34m,\u001b[0m \u001b[0mi\u001b[0m\u001b[0;34m]\u001b[0m\u001b[0;34m.\u001b[0m\u001b[0mastype\u001b[0m\u001b[0;34m(\u001b[0m\u001b[0mfloat\u001b[0m\u001b[0;34m)\u001b[0m\u001b[0;34m\u001b[0m\u001b[0;34m\u001b[0m\u001b[0m\n\u001b[0m",
      "\u001b[0;31mNameError\u001b[0m: name 'ber_data' is not defined"
     ]
    }
   ],
   "source": [
    "for i in range(2, 7):\n",
    "    ber_data[:, i] = ber_data[:, i].astype(float)\n"
   ]
  },
  {
   "cell_type": "code",
   "execution_count": null,
   "metadata": {},
   "outputs": [],
   "source": [
    "tempi= ber_data[:, 3]\n",
    "lufti = ber_data[:, 2]\n",
    "regi = ber_data[:, 4]\n",
    "soni = ber_data[:, 5]\n",
    "timi = ber_data[:, 6]\n",
    "time = ber_data[:, 1]\n"
   ]
  },
  {
   "cell_type": "code",
   "execution_count": null,
   "metadata": {},
   "outputs": [
    {
     "name": "stdout",
     "output_type": "stream",
     "text": [
      "Die Zeitspanne beträgt: 31618800 seconds\n"
     ]
    }
   ],
   "source": [
    "time = np.array(ber_data[:, 1], dtype='datetime64')\n",
    "\n",
    "# Die erste und letzte Zeit finden\n",
    "start_time = np.min(time)\n",
    "end_time = np.max(time)\n",
    "\n",
    "# Die Zeitspanne berechnen\n",
    "time_span = end_time - start_time\n",
    "\n",
    "print(\"Die Zeitspanne beträgt:\", time_span)"
   ]
  },
  {
   "cell_type": "code",
   "execution_count": null,
   "metadata": {},
   "outputs": [],
   "source": [
    "import datetime\n",
    "start_time = datetime.datetime.strptime(\"2023-04-05 00:00:00\", \"%Y-%m-%d %H:%M:%S\")\n",
    "end_time = datetime.datetime.strptime(\"2023-04-05 23:59:59\", \"%Y-%m-%d %H:%M:%S\")\n",
    "mask = (time >= start_time) & (time <= end_time)"
   ]
  },
  {
   "cell_type": "code",
   "execution_count": null,
   "metadata": {},
   "outputs": [
    {
     "data": {
      "image/png": "[encoded data removed]",
      "text/plain": [
       "<Figure size 640x480 with 2 Axes>"
      ]
     },
     "metadata": {},
     "output_type": "display_data"
    }
   ],
   "source": [
    "\n",
    "fig, (ax1, ax2) = plt.subplots(2, 1)\n",
    "ax1.plot(lufti,  mask , \"o-\")\n",
    "ax1.set_ylabel(\"Strecke [m]\")\n",
    "ax2.plot(regi, lufti, \"o-\")\n",
    "ax2.set_xlabel(\"Zeit [s]\")\n",
    "ax2.set_ylabel(\"Geschwindigkeit [km/h]\")\n",
    "plt.show()"
   ]
  },
  {
   "cell_type": "code",
   "execution_count": null,
   "metadata": {},
   "outputs": [
    {
     "ename": "IndexError",
     "evalue": "index 7464 is out of bounds for axis 0 with size 7464",
     "output_type": "error",
     "traceback": [
      "\u001b[0;31m---------------------------------------------------------------------------\u001b[0m",
      "\u001b[0;31mIndexError\u001b[0m                                Traceback (most recent call last)",
      "\u001b[0;32m/var/folders/x2/gxdsv3mj0xq83n036tnyxl9h0000gp/T/ipykernel_22337/2033261875.py\u001b[0m in \u001b[0;36m<module>\u001b[0;34m\u001b[0m\n\u001b[1;32m      2\u001b[0m \u001b[0mi_upper\u001b[0m \u001b[0;34m=\u001b[0m \u001b[0mnp\u001b[0m\u001b[0;34m.\u001b[0m\u001b[0msearchsorted\u001b[0m\u001b[0;34m(\u001b[0m\u001b[0mregi\u001b[0m\u001b[0;34m,\u001b[0m \u001b[0mto\u001b[0m\u001b[0;34m)\u001b[0m\u001b[0;34m\u001b[0m\u001b[0;34m\u001b[0m\u001b[0m\n\u001b[1;32m      3\u001b[0m \u001b[0mi_lower\u001b[0m \u001b[0;34m=\u001b[0m \u001b[0mi_upper\u001b[0m \u001b[0;34m-\u001b[0m \u001b[0;36m1\u001b[0m\u001b[0;34m\u001b[0m\u001b[0;34m\u001b[0m\u001b[0m\n\u001b[0;32m----> 4\u001b[0;31m \u001b[0mdelta_v\u001b[0m \u001b[0;34m=\u001b[0m \u001b[0;34m(\u001b[0m\u001b[0mlufti\u001b[0m\u001b[0;34m[\u001b[0m\u001b[0mi_upper\u001b[0m\u001b[0;34m]\u001b[0m \u001b[0;34m-\u001b[0m \u001b[0mlufti\u001b[0m\u001b[0;34m[\u001b[0m\u001b[0mi_lower\u001b[0m\u001b[0;34m]\u001b[0m\u001b[0;34m)\u001b[0m\u001b[0;34m\u001b[0m\u001b[0;34m\u001b[0m\u001b[0m\n\u001b[0m\u001b[1;32m      5\u001b[0m \u001b[0mdelta_t\u001b[0m \u001b[0;34m=\u001b[0m \u001b[0mregi\u001b[0m\u001b[0;34m[\u001b[0m\u001b[0mi_upper\u001b[0m\u001b[0;34m]\u001b[0m \u001b[0;34m-\u001b[0m \u001b[0mregi\u001b[0m\u001b[0;34m[\u001b[0m\u001b[0mi_lower\u001b[0m\u001b[0;34m]\u001b[0m\u001b[0;34m\u001b[0m\u001b[0;34m\u001b[0m\u001b[0m\n\u001b[1;32m      6\u001b[0m \u001b[0mm\u001b[0m \u001b[0;34m=\u001b[0m \u001b[0mdelta_v\u001b[0m \u001b[0;34m/\u001b[0m \u001b[0mdelta_t\u001b[0m\u001b[0;34m\u001b[0m\u001b[0;34m\u001b[0m\u001b[0m\n",
      "\u001b[0;31mIndexError\u001b[0m: index 7464 is out of bounds for axis 0 with size 7464"
     ]
    }
   ],
   "source": [
    "to = 9\n",
    "i_upper = np.searchsorted(regi, to)\n",
    "i_lower = i_upper - 1\n",
    "delta_v = (lufti[i_upper] - lufti[i_lower])\n",
    "delta_t = regi[i_upper] - regi[i_lower]\n",
    "m = delta_v / delta_t\n",
    "v0 = m * (to-lufti[i_lower]) + regi[i_lower]"
   ]
  },
  {
   "cell_type": "code",
   "execution_count": 16,
   "metadata": {},
   "outputs": [],
   "source": [
    "#daten einlesen und nach Ber filtern sowie die erste und zweite zeile löschen \n",
    "\n",
    "import numpy as np\n",
    "\n",
    "def daten_filtern():\n",
    "    # Daten einlesen\n",
    "    data = np.genfromtxt(\"Bern21-22.csv\", delimiter=\";\", dtype=None, encoding=None)\n",
    "\n",
    "    # Filtern nach erster Spalte\n",
    "    filtered_data = data[data[:, 0] == b\"BER\"]\n",
    "\n",
    "    # Löschen der ersten und zweiten Spalte\n",
    "    filtered_data = np.delete(filtered_data, [0, 1], axis=1)\n",
    "\n",
    "    # Gefilterte Daten zurückgeben\n",
    "    return filtered_data\n"
   ]
  },
  {
   "cell_type": "code",
   "execution_count": 17,
   "metadata": {},
   "outputs": [],
   "source": [
    "gefilterte_daten = daten_filtern()"
   ]
  },
  {
   "cell_type": "code",
   "execution_count": 18,
   "metadata": {},
   "outputs": [
    {
     "data": {
      "text/plain": [
       "array([], shape=(0, 52323, 7), dtype='<U19')"
      ]
     },
     "execution_count": 18,
     "metadata": {},
     "output_type": "execute_result"
    }
   ],
   "source": [
    "gefilterte_daten"
   ]
  },
  {
   "cell_type": "code",
   "execution_count": null,
   "metadata": {},
   "outputs": [],
   "source": []
  }
 ],
 "metadata": {
  "kernelspec": {
   "display_name": "Python 3.9.13 ('base')",
   "language": "python",
   "name": "python3"
  },
  "language_info": {
   "codemirror_mode": {
    "name": "ipython",
    "version": 3
   },
   "file_extension": ".py",
   "mimetype": "text/x-python",
   "name": "python",
   "nbconvert_exporter": "python",
   "pygments_lexer": "ipython3",
   "version": "3.9.13"
  },
  "orig_nbformat": 4,
  "vscode": {
   "interpreter": {
    "hash": "4d2556984e1c68bbb8b2e1571fb1e53952da9788a323f9af554c8fb844d871f0"
   }
  }
 },
 "nbformat": 4,
 "nbformat_minor": 2
}
