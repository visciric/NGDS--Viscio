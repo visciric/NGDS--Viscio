{
 "cells": [
  {
   "cell_type": "code",
   "execution_count": 2,
   "metadata": {},
   "outputs": [],
   "source": [
    "import numpy as np\n",
    "import matplotlib.pyplot as plt"
   ]
  },
  {
   "attachments": {},
   "cell_type": "markdown",
   "metadata": {},
   "source": [
    "In der Datenstruktur geht es um veschiedere Wetterstationen in diesem Fall die Wetterstationen von `Bern`. \n",
    "\n",
    "Die Spaltennamen werden hier unten klar definiert. \n",
    "\n",
    "\n",
    "|  Header   |        Bedeutung        |  Einheit   |\n",
    "| :-------: | :---------------------: | :--------: |\n",
    "|    stn    |      Wetterstation      |     -      |\n",
    "|   time    |       Zeitstempel       | `datetime` |\n",
    "| prestah0  |        Luftdruck        |    hPa     |\n",
    "| tre200h0  |       Temperatur        |     °C     |\n",
    "| rre150h0  |       Regenmenge        |     mm     |\n",
    "| su2000h0  |      Sonnenstunden      |     %      |\n",
    "| time_diff | Stunden seit Messbeginn |     h      |"
   ]
  },
  {
   "attachments": {},
   "cell_type": "markdown",
   "metadata": {},
   "source": [
    "Schon am Anfang beginnen die ersten Probleme aufzutauchen, denn wie wir wissen fehlen gewisse Daten in der Datenstruktur. Um die möglichkeit frei zu behalten zu einem späteren Zeitpunkt fehlender Werte zu ergänzen oder zu filtern haben wir uns für die funktion `genfromtxt` entschieden, denn diese ermöglicht es uns fehlende Werte zu filtern oder zu ergänzen "
   ]
  },
  {
   "cell_type": "code",
   "execution_count": 3,
   "metadata": {},
   "outputs": [],
   "source": [
    "# Hier hat man genfromtxt() benutzt, um die Daten aus der CSV-Datei zu laden.\n",
    "data = np.genfromtxt(\"Bern21-22.csv\", delimiter=';', skip_header=1, dtype='str')"
   ]
  },
  {
   "attachments": {},
   "cell_type": "markdown",
   "metadata": {},
   "source": [
    "In einem nächsten Schritt werden die explizite Daten der Wetterstation in **Bern** gefiltert. Gleich danach wird das Array Transponiert um die Zugewiesenen Variablen den richtigen Spalten zuzuweisen. \n",
    "\n",
    "Eine reduktion von **52'324** auf **7464** Daten kann nach diesem Prozess beobachtet werden. Trotz der gefilterten Daten bleibt  die Zeilenanzahl enthalten. \n"
   ]
  },
  {
   "cell_type": "code",
   "execution_count": 4,
   "metadata": {},
   "outputs": [
    {
     "name": "stdout",
     "output_type": "stream",
     "text": [
      " Der ursprüngliche Datensatz betägt (52324, 7), (7464, 7)\n",
      "52324 7464\n",
      "[['BER' '2021-11-01 00:00:00' '941.4' '7.2' '0.0' '0.0' '0.0']\n",
      " ['BER' '2021-11-01 01:00:00' '941.4' '7.5' '0.0' '0.0' '1.0']\n",
      " ['BER' '2021-11-01 02:00:00' '941.1' '8.3' '0.7' '0.0' '2.0']\n",
      " ['BER' '2021-11-01 04:00:00' '941.3' '9.6' '1.0' '0.0' '4.0']\n",
      " ['BER' '2021-11-01 06:00:00' '942.2' '9.6' '1.7' '0.0' '6.0']]\n"
     ]
    }
   ],
   "source": [
    "# Daten nach BER filtern\n",
    "ber_data = data[np.char.startswith(data[:,0], \"BER\")]\n",
    "\n",
    "# Variablen gemäss Aufgabenstellung zuweisen\n",
    "stn, time, luftdruck, temp, regen, sonne, time_diff = ber_data.T\n",
    "\n",
    "# shape und len() der Arrays ausgeben\n",
    "print(f\" Der ursprüngliche Datensatz betägt {data.shape}, {ber_data.shape}\")\n",
    "print(len(data),len(ber_data))\n",
    "\n",
    "# Die ersten 5 Zeilen ausgeben\n",
    "print(ber_data[:5])"
   ]
  },
  {
   "cell_type": "code",
   "execution_count": 5,
   "metadata": {},
   "outputs": [
    {
     "data": {
      "text/plain": [
       "array(['nan', 'nan', 'nan', ..., 'nan', 'nan', 'nan'], dtype='<U19')"
      ]
     },
     "execution_count": 5,
     "metadata": {},
     "output_type": "execute_result"
    }
   ],
   "source": []
  },
  {
   "cell_type": "code",
   "execution_count": 6,
   "metadata": {},
   "outputs": [
    {
     "ename": "IndexError",
     "evalue": "only integers, slices (`:`), ellipsis (`...`), numpy.newaxis (`None`) and integer or boolean arrays are valid indices",
     "output_type": "error",
     "traceback": [
      "\u001b[1;31m---------------------------------------------------------------------------\u001b[0m",
      "\u001b[1;31mIndexError\u001b[0m                                Traceback (most recent call last)",
      "Cell \u001b[1;32mIn[6], line 3\u001b[0m\n\u001b[0;32m      1\u001b[0m \u001b[39mimport\u001b[39;00m \u001b[39mpandas\u001b[39;00m \u001b[39mas\u001b[39;00m \u001b[39mpd\u001b[39;00m\n\u001b[0;32m      2\u001b[0m \u001b[39m# Interpolationspunkte festlegen\u001b[39;00m\n\u001b[1;32m----> 3\u001b[0m x \u001b[39m=\u001b[39m ber_data[\u001b[39m\"\u001b[39;49m\u001b[39mtime_diff\u001b[39;49m\u001b[39m\"\u001b[39;49m]\n\u001b[0;32m      4\u001b[0m y_cols \u001b[39m=\u001b[39m [\u001b[39m\"\u001b[39m\u001b[39mluftdruck\u001b[39m\u001b[39m\"\u001b[39m, \u001b[39m\"\u001b[39m\u001b[39mTemp\u001b[39m\u001b[39m\"\u001b[39m, \u001b[39m\"\u001b[39m\u001b[39mregen\u001b[39m\u001b[39m\"\u001b[39m, \u001b[39m\"\u001b[39m\u001b[39msonne\u001b[39m\u001b[39m\"\u001b[39m]\n\u001b[0;32m      6\u001b[0m \u001b[39m# Interpolation durchführen\u001b[39;00m\n",
      "\u001b[1;31mIndexError\u001b[0m: only integers, slices (`:`), ellipsis (`...`), numpy.newaxis (`None`) and integer or boolean arrays are valid indices"
     ]
    }
   ],
   "source": [
    "import pandas as pd\n",
    "# Interpolationspunkte festlegen\n",
    "x = ber_data[\"time_diff\"]\n",
    "y_cols = [\"luftdruck\", \"Temp\", \"regen\", \"sonne\"]\n",
    "\n",
    "# Interpolation durchführen\n",
    "interp_data = np.broadcast({\"time_diff\": np.arange(x.min(), x.max()+1)})\n",
    "for col in y_cols:\n",
    "    interp_func = np.interp(interp_data[\"time_diff\"], x, data[col])\n",
    "    interp_data[col] = interp_func\n",
    "\n",
    "# Ergebnis ausgeben\n",
    "print(interp_data)\n"
   ]
  },
  {
   "cell_type": "code",
   "execution_count": 1,
   "metadata": {},
   "outputs": [
    {
     "ename": "SyntaxError",
     "evalue": "leading zeros in decimal integer literals are not permitted; use an 0o prefix for octal integers (2557821717.py, line 1)",
     "output_type": "error",
     "traceback": [
      "\u001b[1;36m  Cell \u001b[1;32mIn[1], line 1\u001b[1;36m\u001b[0m\n\u001b[1;33m    BER;2021-11-01 00:00:00;941.4;7.2;0.0;0.0;0.0\u001b[0m\n\u001b[1;37m                ^\u001b[0m\n\u001b[1;31mSyntaxError\u001b[0m\u001b[1;31m:\u001b[0m leading zeros in decimal integer literals are not permitted; use an 0o prefix for octal integers\n"
     ]
    }
   ],
   "source": [
    "BER;2021-11-01 00:00:00;941.4;7.2;0.0;0.0;0.0\n",
    "BER;2022-11-01 23:00:00;959.1;9.6;0.0;0.0;8783.0"
   ]
  },
  {
   "cell_type": "code",
   "execution_count": 4,
   "metadata": {},
   "outputs": [
    {
     "data": {
      "text/plain": [
       "8760"
      ]
     },
     "execution_count": 4,
     "metadata": {},
     "output_type": "execute_result"
    }
   ],
   "source": [
    "365*24"
   ]
  },
  {
   "cell_type": "code",
   "execution_count": 9,
   "metadata": {},
   "outputs": [],
   "source": [
    "fehlende_daten = 8760- 7464"
   ]
  },
  {
   "cell_type": "code",
   "execution_count": 10,
   "metadata": {},
   "outputs": [
    {
     "name": "stdout",
     "output_type": "stream",
     "text": [
      "Im ganzen Datensatz fehlen 1296 Datenpunkte.\n"
     ]
    }
   ],
   "source": [
    "#print(f\" Der ursprüngliche Datensatz betägt {data.shape}, {ber_data.shape}\")\n",
    "print(f'Im ganzen Datensatz fehlen {fehlende_daten} Datenpunkte.')"
   ]
  },
  {
   "cell_type": "code",
   "execution_count": null,
   "metadata": {},
   "outputs": [],
   "source": []
  }
 ],
 "metadata": {
  "kernelspec": {
   "display_name": "Python 3.9.13 ('base')",
   "language": "python",
   "name": "python3"
  },
  "language_info": {
   "codemirror_mode": {
    "name": "ipython",
    "version": 3
   },
   "file_extension": ".py",
   "mimetype": "text/x-python",
   "name": "python",
   "nbconvert_exporter": "python",
   "pygments_lexer": "ipython3",
   "version": "3.10.7"
  },
  "orig_nbformat": 4,
  "vscode": {
   "interpreter": {
    "hash": "4d2556984e1c68bbb8b2e1571fb1e53952da9788a323f9af554c8fb844d871f0"
   }
  }
 },
 "nbformat": 4,
 "nbformat_minor": 2
}
