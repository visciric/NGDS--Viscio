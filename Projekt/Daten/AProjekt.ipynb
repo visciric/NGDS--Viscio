{
 "cells": [
  {
   "cell_type": "code",
   "execution_count": 97,
   "metadata": {},
   "outputs": [],
   "source": [
    "import numpy as np\n",
    "import matplotlib.pyplot as plt"
   ]
  },
  {
   "attachments": {},
   "cell_type": "markdown",
   "metadata": {},
   "source": [
    "In der Datenstruktur geht es um veschiedere Wetterstationen in diesem Fall die Wetterstationen von `Bern`. \n",
    "\n",
    "Die Spaltennamen werden hier unten klar definiert. \n",
    "\n",
    "\n",
    "|  Header   |        Bedeutung        |  Einheit   |\n",
    "| :-------: | :---------------------: | :--------: |\n",
    "|    stn    |      Wetterstation      |     -      |\n",
    "|   time    |       Zeitstempel       | `datetime` |\n",
    "| prestah0  |        Luftdruck        |    hPa     |\n",
    "| tre200h0  |       Temperatur        |     °C     |\n",
    "| rre150h0  |       Regenmenge        |     mm     |\n",
    "| su2000h0  |      Sonnenstunden      |     %      |\n",
    "| time_diff | Stunden seit Messbeginn |     h      |"
   ]
  },
  {
   "attachments": {},
   "cell_type": "markdown",
   "metadata": {},
   "source": [
    "Schon am Anfang beginnen die ersten Probleme aufzutauchen, denn wie wir wissen fehlen gewisse Daten in der Datenstruktur. Um die möglichkeit frei zu behalten zu einem späteren Zeitpunkt fehlender Werte zu ergänzen oder zu filtern haben wir uns für die funktion `genfromtxt` entschieden, denn diese ermöglicht es uns fehlende Werte zu filtern oder zu ergänzen "
   ]
  },
  {
   "cell_type": "code",
   "execution_count": 98,
   "metadata": {},
   "outputs": [],
   "source": [
    "# Hier hat man genfromtxt() benutzt, um die Daten aus der CSV-Datei zu laden.\n",
    "data = np.genfromtxt(\"Bern21-22.csv\", delimiter=';', skip_header=1, dtype='str')"
   ]
  },
  {
   "attachments": {},
   "cell_type": "markdown",
   "metadata": {},
   "source": [
    "In einem nächsten Schritt werden die explizite Daten der Wetterstation in **Bern** gefiltert. Gleich danach wird das Array Transponiert um die Zugewiesenen Variablen den richtigen Spalten zuzuweisen. \n",
    "\n",
    "Eine reduktion von **52'324** auf **7464** Daten kann nach diesem Prozess beobachtet werden. Trotz der gefilterten Daten bleibt  die Zeilenanzahl enthalten. \n"
   ]
  },
  {
   "cell_type": "code",
   "execution_count": 99,
   "metadata": {},
   "outputs": [
    {
     "name": "stdout",
     "output_type": "stream",
     "text": [
      " Der ursprüngliche Datensatz betägt (52324, 7), (7464, 7)\n",
      "52324 7464\n",
      "[['BER' '2021-11-01 00:00:00' '941.4' '7.2' '0.0' '0.0' '0.0']\n",
      " ['BER' '2021-11-01 01:00:00' '941.4' '7.5' '0.0' '0.0' '1.0']\n",
      " ['BER' '2021-11-01 02:00:00' '941.1' '8.3' '0.7' '0.0' '2.0']\n",
      " ['BER' '2021-11-01 04:00:00' '941.3' '9.6' '1.0' '0.0' '4.0']\n",
      " ['BER' '2021-11-01 06:00:00' '942.2' '9.6' '1.7' '0.0' '6.0']]\n"
     ]
    }
   ],
   "source": [
    "# Daten nach BER filtern\n",
    "ber_data = data[np.char.startswith(data[:,0], \"BER\")]\n",
    "\n",
    "# Variablen gemäss Aufgabenstellung zuweisen\n",
    "stn, time, luftdruck, temp, regen, sonne, time_diff = ber_data.T\n",
    "\n",
    "# shape und len() der Arrays ausgeben\n",
    "print(f\" Der ursprüngliche Datensatz betägt {data.shape}, {ber_data.shape}\")\n",
    "print(len(data),len(ber_data))\n",
    "\n",
    "# Die ersten 5 Zeilen ausgeben\n",
    "print(ber_data[:5])"
   ]
  },
  {
   "cell_type": "markdown",
   "metadata": {},
   "source": [
    "Jedoch wollen wir ersteinmal wissen, wieviele Daten, dass überhaupt fehlen, damit wir uns ein Bild machen können. Wir wissen, dass die Wetterdaten über ein Jahr gesammelt worden sind und dass ein Tag aus 24h besteht. "
   ]
  },
  {
   "cell_type": "code",
   "execution_count": 100,
   "metadata": {},
   "outputs": [
    {
     "name": "stdout",
     "output_type": "stream",
     "text": [
      "Es fehlen insgesammt 1296 Datensätze\n"
     ]
    }
   ],
   "source": [
    "datensätze = 365 * 24\n",
    "unsere_datensätze = len(ber_data)\n",
    "print(f\"Es fehlen insgesammt {datensätze - unsere_datensätze} Datensätze\")"
   ]
  },
  {
   "cell_type": "code",
   "execution_count": 101,
   "metadata": {},
   "outputs": [
    {
     "data": {
      "text/plain": [
       "'import pandas as pd\\n# Interpolationspunkte festlegen\\nx = ber_data[\"time_diff\"]\\ny_cols = [\"luftdruck\", \"Temp\", \"regen\", \"sonne\"]\\n\\n# Interpolation durchführen\\ninterp_data = np.broadcast({\"time_diff\": np.arange(x.min(), x.max()+1)})\\nfor col in y_cols:\\n    interp_func = np.interp(interp_data[\"time_diff\"], x, data[col])\\n    interp_data[col] = interp_func\\n\\n# Ergebnis ausgeben\\nprint(interp_data)\\n'"
      ]
     },
     "execution_count": 101,
     "metadata": {},
     "output_type": "execute_result"
    }
   ],
   "source": [
    "\"\"\"import pandas as pd\n",
    "# Interpolationspunkte festlegen\n",
    "x = ber_data[\"time_diff\"]\n",
    "y_cols = [\"luftdruck\", \"Temp\", \"regen\", \"sonne\"]\n",
    "\n",
    "# Interpolation durchführen\n",
    "interp_data = np.broadcast({\"time_diff\": np.arange(x.min(), x.max()+1)})\n",
    "for col in y_cols:\n",
    "    interp_func = np.interp(interp_data[\"time_diff\"], x, data[col])\n",
    "    interp_data[col] = interp_func\n",
    "\n",
    "# Ergebnis ausgeben\n",
    "print(interp_data)\n",
    "\"\"\""
   ]
  },
  {
   "cell_type": "code",
   "execution_count": 102,
   "metadata": {},
   "outputs": [],
   "source": [
    "#BER;2021-11-01 00:00:00;941.4;7.2;0.0;0.0;0.0\n",
    "#BER;2022-11-01 23:00:00;959.1;9.6;0.0;0.0;8783.0"
   ]
  },
  {
   "cell_type": "markdown",
   "metadata": {},
   "source": [
    "Interpolation "
   ]
  },
  {
   "cell_type": "code",
   "execution_count": 132,
   "metadata": {},
   "outputs": [
    {
     "data": {
      "text/plain": [
       "array([['2021-11-01 00:00:00', '941.4', '7.2', '0.0', '0.0', '0.0'],\n",
       "       ['2021-11-01 01:00:00', '941.4', '7.5', '0.0', '0.0', '1.0'],\n",
       "       ['2021-11-01 02:00:00', '941.1', '8.3', '0.7', '0.0', '2.0'],\n",
       "       ...,\n",
       "       ['2022-11-01 21:00:00', '958.6', '11.1', '0.0', '0.0', '8781.0'],\n",
       "       ['2022-11-01 22:00:00', '958.9', '10.0', '0.0', '0.0', '8782.0'],\n",
       "       ['2022-11-01 23:00:00', '959.1', '9.6', '0.0', '0.0', '8783.0']],\n",
       "      dtype='<U19')"
      ]
     },
     "execution_count": 132,
     "metadata": {},
     "output_type": "execute_result"
    }
   ],
   "source": [
    "import numpy as np\n",
    "\n",
    "def remove_ber(data):\n",
    "    # entferne die Spalte \"BER\"\n",
    "    updated_data = np.delete(data, 0, axis=1)\n",
    "    return updated_data\n",
    "\n",
    "\n",
    "# aktualisiertes Array ohne die Spalte \"BER\"\n",
    "updated_data = remove_ber(ber_data)\n",
    "# aktualisierte Spaltennamen ohne \"BER\"\n",
    "updated_data[:, 2:] = updated_data[:, 2:].astype(float)\n",
    "\n",
    "\n",
    "updated_data"
   ]
  },
  {
   "cell_type": "code",
   "execution_count": 104,
   "metadata": {},
   "outputs": [],
   "source": [
    "import pandas as pd\n",
    "def read_ber_data(filename):\n",
    "    # Einlesen der CSV-Datei\n",
    "    df = pd.read_csv(filename, header=None, sep=';')\n",
    "    \n",
    "    # Filtern nach Datensätzen mit Präfix \"BER\"\n",
    "    df = df[df[0].str.startswith('BER')]\n",
    "    \n",
    "    # Spaltennamen zuweisen\n",
    "    df.columns = ['Station', 'Datum', 'Druck', 'Temp', 'Regen', 'Schnee', 'Wind']\n",
    "    \n",
    "    return df\n"
   ]
  },
  {
   "cell_type": "code",
   "execution_count": 105,
   "metadata": {},
   "outputs": [],
   "source": [
    "df = read_ber_data('Bern21-22.csv')"
   ]
  },
  {
   "cell_type": "code",
   "execution_count": 106,
   "metadata": {},
   "outputs": [
    {
     "data": {
      "text/html": [
       "<div>\n",
       "<style scoped>\n",
       "    .dataframe tbody tr th:only-of-type {\n",
       "        vertical-align: middle;\n",
       "    }\n",
       "\n",
       "    .dataframe tbody tr th {\n",
       "        vertical-align: top;\n",
       "    }\n",
       "\n",
       "    .dataframe thead th {\n",
       "        text-align: right;\n",
       "    }\n",
       "</style>\n",
       "<table border=\"1\" class=\"dataframe\">\n",
       "  <thead>\n",
       "    <tr style=\"text-align: right;\">\n",
       "      <th></th>\n",
       "      <th>Station</th>\n",
       "      <th>Datum</th>\n",
       "      <th>Druck</th>\n",
       "      <th>Temp</th>\n",
       "      <th>Regen</th>\n",
       "      <th>Schnee</th>\n",
       "      <th>Wind</th>\n",
       "    </tr>\n",
       "  </thead>\n",
       "  <tbody>\n",
       "    <tr>\n",
       "      <th>7446</th>\n",
       "      <td>BER</td>\n",
       "      <td>2021-11-01 00:00:00</td>\n",
       "      <td>941.4</td>\n",
       "      <td>7.2</td>\n",
       "      <td>0.0</td>\n",
       "      <td>0.0</td>\n",
       "      <td>0.0</td>\n",
       "    </tr>\n",
       "    <tr>\n",
       "      <th>7447</th>\n",
       "      <td>BER</td>\n",
       "      <td>2021-11-01 01:00:00</td>\n",
       "      <td>941.4</td>\n",
       "      <td>7.5</td>\n",
       "      <td>0.0</td>\n",
       "      <td>0.0</td>\n",
       "      <td>1.0</td>\n",
       "    </tr>\n",
       "    <tr>\n",
       "      <th>7448</th>\n",
       "      <td>BER</td>\n",
       "      <td>2021-11-01 02:00:00</td>\n",
       "      <td>941.1</td>\n",
       "      <td>8.3</td>\n",
       "      <td>0.7</td>\n",
       "      <td>0.0</td>\n",
       "      <td>2.0</td>\n",
       "    </tr>\n",
       "    <tr>\n",
       "      <th>7449</th>\n",
       "      <td>BER</td>\n",
       "      <td>2021-11-01 04:00:00</td>\n",
       "      <td>941.3</td>\n",
       "      <td>9.6</td>\n",
       "      <td>1.0</td>\n",
       "      <td>0.0</td>\n",
       "      <td>4.0</td>\n",
       "    </tr>\n",
       "    <tr>\n",
       "      <th>7450</th>\n",
       "      <td>BER</td>\n",
       "      <td>2021-11-01 06:00:00</td>\n",
       "      <td>942.2</td>\n",
       "      <td>9.6</td>\n",
       "      <td>1.7</td>\n",
       "      <td>0.0</td>\n",
       "      <td>6.0</td>\n",
       "    </tr>\n",
       "    <tr>\n",
       "      <th>...</th>\n",
       "      <td>...</td>\n",
       "      <td>...</td>\n",
       "      <td>...</td>\n",
       "      <td>...</td>\n",
       "      <td>...</td>\n",
       "      <td>...</td>\n",
       "      <td>...</td>\n",
       "    </tr>\n",
       "    <tr>\n",
       "      <th>14905</th>\n",
       "      <td>BER</td>\n",
       "      <td>2022-11-01 18:00:00</td>\n",
       "      <td>958.1</td>\n",
       "      <td>11.1</td>\n",
       "      <td>0.0</td>\n",
       "      <td>0.0</td>\n",
       "      <td>8778.0</td>\n",
       "    </tr>\n",
       "    <tr>\n",
       "      <th>14906</th>\n",
       "      <td>BER</td>\n",
       "      <td>2022-11-01 19:00:00</td>\n",
       "      <td>958.3</td>\n",
       "      <td>10.9</td>\n",
       "      <td>0.0</td>\n",
       "      <td>0.0</td>\n",
       "      <td>8779.0</td>\n",
       "    </tr>\n",
       "    <tr>\n",
       "      <th>14907</th>\n",
       "      <td>BER</td>\n",
       "      <td>2022-11-01 21:00:00</td>\n",
       "      <td>958.6</td>\n",
       "      <td>11.1</td>\n",
       "      <td>0.0</td>\n",
       "      <td>0.0</td>\n",
       "      <td>8781.0</td>\n",
       "    </tr>\n",
       "    <tr>\n",
       "      <th>14908</th>\n",
       "      <td>BER</td>\n",
       "      <td>2022-11-01 22:00:00</td>\n",
       "      <td>958.9</td>\n",
       "      <td>10.0</td>\n",
       "      <td>0.0</td>\n",
       "      <td>0.0</td>\n",
       "      <td>8782.0</td>\n",
       "    </tr>\n",
       "    <tr>\n",
       "      <th>14909</th>\n",
       "      <td>BER</td>\n",
       "      <td>2022-11-01 23:00:00</td>\n",
       "      <td>959.1</td>\n",
       "      <td>9.6</td>\n",
       "      <td>0.0</td>\n",
       "      <td>0.0</td>\n",
       "      <td>8783.0</td>\n",
       "    </tr>\n",
       "  </tbody>\n",
       "</table>\n",
       "<p>7464 rows × 7 columns</p>\n",
       "</div>"
      ],
      "text/plain": [
       "      Station                Datum  Druck  Temp Regen Schnee    Wind\n",
       "7446      BER  2021-11-01 00:00:00  941.4   7.2   0.0    0.0     0.0\n",
       "7447      BER  2021-11-01 01:00:00  941.4   7.5   0.0    0.0     1.0\n",
       "7448      BER  2021-11-01 02:00:00  941.1   8.3   0.7    0.0     2.0\n",
       "7449      BER  2021-11-01 04:00:00  941.3   9.6   1.0    0.0     4.0\n",
       "7450      BER  2021-11-01 06:00:00  942.2   9.6   1.7    0.0     6.0\n",
       "...       ...                  ...    ...   ...   ...    ...     ...\n",
       "14905     BER  2022-11-01 18:00:00  958.1  11.1   0.0    0.0  8778.0\n",
       "14906     BER  2022-11-01 19:00:00  958.3  10.9   0.0    0.0  8779.0\n",
       "14907     BER  2022-11-01 21:00:00  958.6  11.1   0.0    0.0  8781.0\n",
       "14908     BER  2022-11-01 22:00:00  958.9  10.0   0.0    0.0  8782.0\n",
       "14909     BER  2022-11-01 23:00:00  959.1   9.6   0.0    0.0  8783.0\n",
       "\n",
       "[7464 rows x 7 columns]"
      ]
     },
     "execution_count": 106,
     "metadata": {},
     "output_type": "execute_result"
    }
   ],
   "source": [
    "df"
   ]
  },
  {
   "cell_type": "code",
   "execution_count": null,
   "metadata": {},
   "outputs": [],
   "source": []
  }
 ],
 "metadata": {
  "kernelspec": {
   "display_name": "Python 3.9.13 ('base')",
   "language": "python",
   "name": "python3"
  },
  "language_info": {
   "codemirror_mode": {
    "name": "ipython",
    "version": 3
   },
   "file_extension": ".py",
   "mimetype": "text/x-python",
   "name": "python",
   "nbconvert_exporter": "python",
   "pygments_lexer": "ipython3",
   "version": "3.9.13"
  },
  "orig_nbformat": 4,
  "vscode": {
   "interpreter": {
    "hash": "4d2556984e1c68bbb8b2e1571fb1e53952da9788a323f9af554c8fb844d871f0"
   }
  }
 },
 "nbformat": 4,
 "nbformat_minor": 2
}
