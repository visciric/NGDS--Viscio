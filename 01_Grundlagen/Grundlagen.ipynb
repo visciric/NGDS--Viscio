{
 "cells": [
  {
   "attachments": {},
   "cell_type": "markdown",
   "metadata": {},
   "source": [
    "# Grundlagen\n",
    "\n",
    "<!-- TODO: Hier fehlt eine kurze Einführung in die numerische Mathematik -->"
   ]
  },
  {
   "attachments": {},
   "cell_type": "markdown",
   "metadata": {},
   "source": [
    "## Kontinuierlich vs. Diskret"
   ]
  },
  {
   "attachments": {},
   "cell_type": "markdown",
   "metadata": {},
   "source": [
    "### Kontinuierliche Funktionen / Prozesse\n",
    "\n",
    "Physikatische Grössen sind sehr häufig **kontinuierlich**, d.h. sie ändern sich nicht sprunghaft. Beispiele:\n",
    "\n",
    "- Temperatur einer Flüssigkeit\n",
    "- Konzentration einer eines Stoffes in einer Lösung\n",
    "- Leistung einer Batterie\n",
    "- Dauer eines Prozessschritts\n",
    "\n",
    "In der Mathematik prechen wir dann von **stetigen** Funktionen. Dabei macht ein **stetiger** Funktionsgraph **keine Sprünge** und hat **keine Lücken**.\n",
    "\n",
    "Als Beispiel betrachten wir die Funktion\n",
    "\n",
    "$$ f(x) = x^2 e^{-x} $$"
   ]
  },
  {
   "cell_type": "code",
   "execution_count": null,
   "metadata": {},
   "outputs": [],
   "source": [
    "import numpy as np\n",
    "import matplotlib.pyplot as plt\n",
    "\n",
    "x = np.linspace(0, 10)\n",
    "y = x**2 * np.exp(-x)\n",
    "\n",
    "plt.plot(x, y)\n",
    "plt.grid()\n",
    "plt.xlabel(\"x\")\n",
    "plt.ylabel(\"y\")\n",
    "plt.title(\"$y = x^2 e^{-x}$\")\n",
    "plt.show()\n"
   ]
  },
  {
   "attachments": {},
   "cell_type": "markdown",
   "metadata": {},
   "source": [
    "*Bemerkung:* Berechnet man die Funktion nur an an wenigen Stellen, so wird ersichtlich, dass [`matplotlib.pyplot.plot`](https://matplotlib.org/stable/api/_as_gen/matplotlib.pyplot.plot.html) die Punkte mit Geraden miteinander verbindet, also **linear interpoliert**. Für kontinuierliche Funktionen ist dies sinnvoll, weil ja wirklich alle Werte zwischen zwei Punkten irgendwann mal angenommen werden (Zwischenwertsatz)."
   ]
  },
  {
   "attachments": {},
   "cell_type": "markdown",
   "metadata": {},
   "source": [
    "### Diskrete Funktionen / Prozesse\n",
    "\n",
    "Andere Grössen können nur **spezifische Werte** (meist ganze Zahlen) annehmen. Wir sprechen von **diskreten Werten**. Beispiele:\n",
    "\n",
    "- Anzahl Bäume in einem Waldstück\n",
    "- Anzahl weisse Blutkörperchen in einer Blutprobe\n",
    "- Anzahl Sterne im Blickfeld eines Fernrohrs\n",
    "- Energieniveaus von Elektronen in Atomen\n",
    "\n",
    "Die entsprechenden mathematischen Funktionen können **nur ganzzahlige Werte** annehmen (Wertebereich $W\\subseteq\\mathbb{Z}$), müssen daher **Sprungstellen** haben und können somit **nicht stetig** sein.\n",
    "\n",
    "Als Beispiel simulieren wir einen stochastischen Prozess, bei dem sich der diskrete Zustand $z$ an zufälligen Zeitpunkten $t$ ändert. Dies könnte z.B. die Anzahl Personen in einem Raum im Zeitverlauf sein. Hier ist die Zeit kontinuierlich und der Zustand diskret. "
   ]
  },
  {
   "cell_type": "code",
   "execution_count": null,
   "metadata": {},
   "outputs": [],
   "source": [
    "rng = np.random.default_rng(42)\n",
    "t = np.sort(rng.uniform(high=100, size=10))\n",
    "z = rng.integers(low=0, high=8, size=len(t))\n",
    "\n",
    "plt.step(t, z, \"o-\", where=\"post\")\n",
    "plt.grid()\n",
    "plt.xlabel(\"t\")\n",
    "plt.ylabel(\"z\")\n",
    "plt.title(\"Anzahl Personen im Raum im Zeitverlauf\")\n",
    "plt.show()\n"
   ]
  },
  {
   "attachments": {},
   "cell_type": "markdown",
   "metadata": {},
   "source": [
    "*Bemerkung:* Für die Darstellung einer diskreten Funktion benutzen wir [`matplotlib.pyplot.step`](https://matplotlib.org/stable/api/_as_gen/matplotlib.pyplot.step.html), weil Sprünge als senkrechte Linien darstellt werden, anstatt die Punkte diagonal zu verbinden (also linear zu interpolieren) wie dies [`matplotlib.pyplot.plot`](https://matplotlib.org/stable/api/_as_gen/matplotlib.pyplot.plot.html) macht."
   ]
  },
  {
   "attachments": {},
   "cell_type": "markdown",
   "metadata": {},
   "source": [
    "### Folgen / Iterative Prozesse\n",
    "\n",
    "Schliesslich gibt es auch Prozesse, die mit konstanten (diskreten) Schritten verlaufen. Hier ist der Fortschritt des Prozesses eine Anzahl Schritte, auch **Iterationen** genannt. In manchen Fällen sind dies Zeitschritte gleicher Schrittlänge, in anderen Fällen aber auch nicht. Solche Prozesse sind aus der Mathematik als **Folgen** bekannt.\n",
    "\n",
    "Ein Beispiel ist die [**logistische Gleichung**](https://de.wikipedia.org/wiki/Logistische_Gleichung)\n",
    "\n",
    "$$ x_{n+1} = r x_n (1 - x_n) $$\n",
    "\n",
    "Sie ist ein Modell von beschränktem Populationswachstum mit einer Wachstumsrate $r$. Für $r$-Werte grösser als ca. 3.6 kann die Folge spannendes chaotisches Verhalten zeigen.\n"
   ]
  },
  {
   "cell_type": "code",
   "execution_count": null,
   "metadata": {},
   "outputs": [],
   "source": [
    "r = 1.4\n",
    "x0 = 0.05\n",
    "N = 20\n",
    "\n",
    "xn = x0\n",
    "x = [x0]\n",
    "for n in range(N):\n",
    "    xn = r * xn * (1 - xn)\n",
    "    x.append(xn)\n",
    "\n",
    "fig, ax = plt.subplots()\n",
    "ax.stem(x)\n",
    "# ax.plot(x, 'o')\n",
    "ax.xaxis.set_ticks(np.arange(N + 1, step=round(N / 4)))\n",
    "ax.grid()\n",
    "ax.set_xlabel(\"n\")\n",
    "ax.set_ylabel(\"$x_n$\")\n",
    "plt.title(f\"Logistisches Wachstum ($r={r}$, $x_0={x0}$)\")\n",
    "plt.show()\n"
   ]
  },
  {
   "attachments": {},
   "cell_type": "markdown",
   "metadata": {},
   "source": [
    "Hier sind die $n$-Werte auf der horizontalen Achse **diskret** und $x_n$-Werte auf der vertikalen Achse **kontinuierlich**. Das heisst, zwischen den dargestellten Punkten werden existieren keine weiteren Punkte. Darum sollten die Punkte auch nicht verbunden werden. Daher wird hier die Funktion  [`matplotlib.pyplot.stem`](https://matplotlib.org/stable/api/_as_gen/matplotlib.pyplot.stem.html) benutzt, welche dies mit den senkrechten Stäben etwas verdeutlicht. Alternativ können auch einfach nicht-verbundene Punkte verwendet werden: `plt.plot(x, 'o')`."
   ]
  },
  {
   "attachments": {},
   "cell_type": "markdown",
   "metadata": {},
   "source": [
    "### Daten\n",
    "\n",
    "Data Scientists arbeiten häufig mit Daten und nicht nur mit Modellen, die in Form von stetigen, stochastischen oder iterativen Prozessen daher kommen. Daten sind allerdings Beobachtungen von Variablen, deren Ausprägungen entweder kontinuierlich oder diskret sind, siehe *Skalenniveau* im Modul *Daten und Information*. Beim Darstellen von und Rechnen mit Daten ist es daher wichtig, die geeigneten Tools und Methoden einzusetzen.\n"
   ]
  },
  {
   "attachments": {},
   "cell_type": "markdown",
   "metadata": {},
   "source": [
    "## Zahlendarstellung"
   ]
  },
  {
   "attachments": {},
   "cell_type": "markdown",
   "metadata": {},
   "source": [
    "Wir werfen einen kleinen Blick auf die Darstellung von Zahlen im Computer, um etwas besser zu verstehen, wie genau oder eben ungenau Computer rechnen können."
   ]
  },
  {
   "attachments": {},
   "cell_type": "markdown",
   "metadata": {},
   "source": [
    "### Dezimalsystem, Binärsystem, b-adisches System\n",
    "\n",
    "Die Zahl **173** lässt sich im **Dezimalsystem** schreiben als\n",
    "\n",
    "$$ 173 = 1 \\cdot 10^2 + 7 \\cdot 10^1 + 3 \\cdot 10^0 $$\n",
    "\n",
    "Analog funktioniert das **Binärsystem**, in dem ein Computer Zahlen darstellen und damit rechnen kann:\n",
    "\n",
    "$$ 1101_{(2)} = 1 \\cdot 2^3 + 1 \\cdot 2^2 + 0 \\cdot 2^1 + 1 \\cdot 2^0 = 13_{(10)} $$\n",
    "\n",
    "Allgemein können reelle Zahlen $x\\in\\mathbb{R}$ bezüglich einer beliebigen Basis $b\\in \\mathbb{N}$ mit $b\\geq 2$ dargestellt werden\n",
    "\n",
    "$$ x = \\pm \\sum_{j=-\\infty}^\\infty z_k \\cdot b^k $$\n",
    "\n",
    "Hier sind $z_k\\in\\{0,1,\\ldots,b-1\\}$ die Ziffern. Für ein allgemeine Basis $b$ spricht man vom **b-adischen Stellenwertsystem**.\n",
    "\n",
    "Noch ein Beispiel im Benärsystem ($b=2$ und $z_k\\in\\{0,1\\}$): Wir können auch binäre (oder dyadische) Brüche darstellen\n",
    "\n",
    "$$\n",
    "\\begin{align*}\n",
    "100110.01_{(2)}\n",
    "&= 1 \\cdot 2^5 &&+ 0 \\cdot 2^4 &&+ 0 \\cdot 2^3 &&+ 1 \\cdot 2^2 &&+ 1 \\cdot 2^1 &&+ 0 \\cdot 2^0 &&+ 0 \\cdot 2^{-1} &&+ 1 \\cdot 2^{-2} \\\\\n",
    "&= 1 \\cdot 32 &&+ 0 \\cdot 16 &&+ 0 \\cdot 8 &&+ 1 \\cdot 4 &&+ 1 \\cdot 2 &&+ 0 \\cdot 1 &&+ 0 \\cdot \\frac{1}{2} &&+ 1 \\cdot \\frac{1}{4} \\\\\n",
    "&= 32 &&+ 0 &&+ 0 &&+ 4 &&+ 2 &&+ 0 &&+ \\frac{1}{4} \\\\\n",
    "&= 38.25_{(10)}\n",
    "\\end{align*}\n",
    "$$\n",
    "\n",
    "\n",
    "Die Umrechnung vom Binär- ins Dezimalsystem geschieht über die fortgesetzte Division mit Rest. Als Beispiel nehmen wir $x=12.5_{(10)}$:\n",
    "\n",
    "1. Suche den grössten Exponenten $n$ mit $2^n \\leq x$. Wir finden $n=3$, weil $2^3 = 8 < x$ und $2^4 = 16 > x$.\n",
    "2. Die erste 1 in der gesuchten Binärdarstellung ist also an 4. Stelle, $1000_{(2)}$, da zuhinterst die 0. Stelle ist.\n",
    "3. Wir wiederholen den Vorgang mit dem Rest $x_1 = x - 2^n = 12.5 - 8 = 4.5$: Wir finden $n=2$ mit $2^2 = 4 = 100_{(2)}$.\n",
    "4. Und nochmals mit dem $x_2 = x_1 - 2^n = 4.5 - 4 = 0.5$: Wir finden $n=-1$ mit $2^{-1} = 0.5 = 0.1_{(2)}$.\n",
    "\n",
    "Alles in allem erhalten wir:\n",
    "\n",
    "$$ x = 12.5_{(10)} = 1000_{(2)} + 100_{(2)} + 0.1_{(2)} = 1100.1_{(2)} $$\n",
    "\n",
    "Weitere Beispiele sind hier zu finden:\n",
    "\n",
    "- [Video \"p-adische Zahlendarstellung - Daten- und Zeichendarstellung 2\", simpleclub](https://youtu.be/WzqlPXslQL8)\n",
    "- [Numerik 1, Wikiversity](https://de.wikiversity.org/wiki/Kurs:Numerik_I/Besonderheiten_des_numerischen_Rechnens#Bemerkung_-_Umrechnungsverfahren)"
   ]
  },
  {
   "attachments": {},
   "cell_type": "markdown",
   "metadata": {},
   "source": [
    "### Gleitkommadarstellung (Floating Point)\n",
    "\n",
    "In Computern wird mit der Festkommadarstellung reeller Zahlen gearbeitet:\n",
    "\n",
    "$$ x = v \\cdot m \\cdot b^e $$\n",
    "\n",
    "Da der Speicher endlich ist, kann nur eine gewisse Anzahl Bits (binäre Ziffern) verwendet werden. Eine Konvention ist die Folgende (IIEEE 754 double):\n",
    "\n",
    "| Symbol | Bezeichnung | Bereich               | eff. Bits |\n",
    "|--------|-------------|-----------------------|-----------|\n",
    "| $v$    | Vorzeichen  | $\\{+1, -1\\}$          | 1         |\n",
    "| $m$    | Mantisse    | $\\mathbb{N}_0$        | 53        |\n",
    "| $b$    | Basis       | $\\mathbb{N} /  \\{1\\}$ |           |\n",
    "| $e$    | Exponent    | $\\mathbb{Z}$          | 11        |\n",
    "\n",
    "\n",
    "- 52 Bit für die Mantisse bedeut, dass die grösste darstellbare Mantisse $m_\\text{max} = 2^{52} - 1 \\approx 10^{52\\lg(2)}$ ist. Das ist eine **Dezimalzahl mit ca. 16 Stellen**.\n",
    "- Weil der Exponent auch negativ sein kann, wird eines der 11 Bits für das Vorzeichen verwendet. Die restlichen 10 Bit ergeben den maximalen Exponenten $2^{10} - 1 = 1023$ zur Basis 2, was ca. $1023\\lg(2)\\approx 308$ als Exponenten zur Basis 10 entspricht.\n",
    "\n",
    "Die Diskussion hier ist etwas vereinfacht, reicht aber für das Grundverständnis. Mehr Details finden sich hier:\n",
    "\n",
    "- [Gleitkommazahl, Wikipedia](https://de.wikipedia.org/wiki/Gleitkommazahl)\n",
    "- [IEEE_754-2008, Wikipedia](https://de.wikipedia.org/wiki/IEEE_754-2008)\n",
    "- [Numerik 1, Wikiversity](https://de.wikiversity.org/wiki/Kurs:Numerik_I/Besonderheiten_des_numerischen_Rechnens#Rechnen_auf_einem_Computer)"
   ]
  },
  {
   "cell_type": "code",
   "execution_count": null,
   "metadata": {},
   "outputs": [],
   "source": [
    "52*np.log10(2), 1023*np.log10(2)"
   ]
  },
  {
   "attachments": {},
   "cell_type": "markdown",
   "metadata": {},
   "source": [
    "#### Lernaufgabe 1: Kleinste Zahl\n",
    "\n",
    "Finde heraus, welches (ungefähr) die kleinste darstellbare Gleitkommazahl ist, indem Du die Zahl 1 immer wieder durch 2 teilst, bis das Ergebnis nicht mehr grösser Null ist. (While-Schleife verwenden!)"
   ]
  },
  {
   "cell_type": "code",
   "execution_count": null,
   "metadata": {},
   "outputs": [],
   "source": []
  },
  {
   "attachments": {},
   "cell_type": "markdown",
   "metadata": {},
   "source": [
    "## Fehlertypen"
   ]
  },
  {
   "attachments": {},
   "cell_type": "markdown",
   "metadata": {},
   "source": [
    "### Darstellungsfehler"
   ]
  },
  {
   "attachments": {},
   "cell_type": "markdown",
   "metadata": {},
   "source": [
    "\n",
    "Bei der Darstellung von Zahlen im Computer ergeben sich Rundungsfehler, weil nicht unendlich viel Speicher zur Verfügung steht. Stellt man die Zahl $x$ im Computer dar, so wird effektiv auf die nächstgelegene exakt darstellbare Zahl $\\text{rd}(x)$ gerundet. Der relative Rundungsfehler beträgt $rd(x) - x$. Der relative Fehler\n",
    "\n",
    "$$ \\varepsilon = \\frac{rd(x) - x}{x} $$\n",
    "\n",
    "ist duch die **Maschinenpräzision** gegeben und hängt direkt mit der Anzahl Bits für die Mantisse in der Gleitkommadarstellung zusammen. Mit $r$ Bits für die Mantisse und der Basis $b$ ist\n",
    "\n",
    "$$ \\left| \\varepsilon \\right| \\leq eps = \\frac{1}{2} b^{1-r} $$\n",
    "\n",
    "Für 64-bit Gleitkommazahlen (`float64`) ergibt sich $eps \\approx 10^{-16}$."
   ]
  },
  {
   "cell_type": "code",
   "execution_count": null,
   "metadata": {},
   "outputs": [],
   "source": [
    "b, r = 2, 53\n",
    "# b, r = 10, 16\n",
    "b**(1 - r) / 2"
   ]
  },
  {
   "attachments": {},
   "cell_type": "markdown",
   "metadata": {},
   "source": [
    "#### Lernaufgabe 2: Genauigkeit der Mantisse\n",
    "\n",
    "Finde ähnline wie bei Aufgabe 1 heraus, welches (ungefähr) die kleinste Gleitkommazahl ist, die von 1 unterschieden werden kann."
   ]
  },
  {
   "cell_type": "code",
   "execution_count": null,
   "metadata": {},
   "outputs": [],
   "source": [
    "# 2."
   ]
  },
  {
   "attachments": {},
   "cell_type": "markdown",
   "metadata": {},
   "source": [
    "Als Beispiele für Darstellungsfehler\n",
    "Beispiel: Die Dezimalzahl 0.1 kann nicht exakt im Binärsystem dargestellt werden. Das führt dazu, dass sich z.B. bei der Multiplikation mit 3 bereits ein Rundungsfehler ergibt:"
   ]
  },
  {
   "cell_type": "code",
   "execution_count": null,
   "metadata": {},
   "outputs": [],
   "source": [
    "(0.1 * 3 - 0.3) / 0.3\n"
   ]
  },
  {
   "cell_type": "code",
   "execution_count": null,
   "metadata": {},
   "outputs": [],
   "source": []
  },
  {
   "attachments": {},
   "cell_type": "markdown",
   "metadata": {},
   "source": [
    "### Rechenfehler (Gleitkomma-Arithmetik)"
   ]
  },
  {
   "attachments": {},
   "cell_type": "markdown",
   "metadata": {},
   "source": [
    "Das Resultat einer Rechnung Gleitkommazahlen im Computer führt nicht zwingend wieder zu einer exakt darstellbaren Gleitkommazahl. Es entstehen wieder Rundungsfehler. Die Addition und die Multiplikation sind dabei nicht problematisch, weil die relativen Fehler nur addiert werden.\n",
    "\n",
    "Bei der Subtraktion zweier etwa gleich grosser Zahlen können die Rundungsfehler sehr relevant werden. Es ergibt sich Phänomen der **Auslöschung** von korrekten Stellen.\n",
    "\n",
    "Numerische Algorithmen sollten daher mit Blick auf die **Stabilität** entwickelt werden. Das heisst, es darf keine unkontrollierbare Verfälschung des Resultats zur Rundungsfehler Gleitkommaarithmetik vorkommen. Dies ist ein wichtiger bereich der **Numerik**.\n",
    "\n",
    "Mehr zum Thema: [Numerik 1, Wikiversity](https://de.wikiversity.org/wiki/Kurs:Numerik_I/Besonderheiten_des_numerischen_Rechnens#1.3_Stabilit%C3%A4t_und_Kondition)"
   ]
  },
  {
   "attachments": {},
   "cell_type": "markdown",
   "metadata": {},
   "source": [
    "### Diskretisierungsfehler"
   ]
  },
  {
   "cell_type": "markdown",
   "metadata": {},
   "source": [
    "\n",
    "Misst man mit einem Sensor eine kontinuierliche physikalische Grösse und übersetzt diese mit einem Analog-Digital-Konverter in ein digitales Signal, so wird der Wert **diskretisiert**. Wie bei der Zahlendarstellung im Computer entstehen Rundungsfehler.\n",
    "\n",
    "Hier ein Beispiel:"
   ]
  },
  {
   "cell_type": "code",
   "execution_count": null,
   "metadata": {},
   "outputs": [],
   "source": [
    "x = np.linspace(0, 10)\n",
    "y_cont = x**2 * np.exp(-x)\n",
    "\n",
    "bits = 4\n",
    "max_val = 1\n",
    "scale = (2**bits - 1) / max_val\n",
    "y_discrete = np.round(scale * y_cont) / scale\n",
    "\n",
    "plt.plot(x, y_cont, label=\"continuous\")\n",
    "plt.step(x, y_discrete, where=\"mid\", label=f\"{bits}-bit discretized\")\n",
    "plt.grid()\n",
    "plt.xlabel(\"x\")\n",
    "plt.ylabel(\"y\")\n",
    "plt.title(r\"$y = x^2 e^{-x}$\")\n",
    "plt.legend()\n",
    "plt.show()\n"
   ]
  },
  {
   "attachments": {},
   "cell_type": "markdown",
   "metadata": {},
   "source": [
    "### Messfehler"
   ]
  },
  {
   "attachments": {},
   "cell_type": "markdown",
   "metadata": {},
   "source": [
    "Natürlich gibt es dann auch noch Messfehler. Darum kümmert man sich mit statistischen Methoden. Es darf bei der Berechnung von Resultaten auf Basis von Messdaten aber nicht vergessen werden, dass die Daten Messfehler enthalten."
   ]
  }
 ],
 "metadata": {
  "kernelspec": {
   "display_name": "venv",
   "language": "python",
   "name": "python3"
  },
  "language_info": {
   "codemirror_mode": {
    "name": "ipython",
    "version": 3
   },
   "file_extension": ".py",
   "mimetype": "text/x-python",
   "name": "python",
   "nbconvert_exporter": "python",
   "pygments_lexer": "ipython3",
   "version": "3.10.9"
  },
  "orig_nbformat": 4,
  "vscode": {
   "interpreter": {
    "hash": "7cdc8aa509e82f849ee5cd45b25ca5e6e1d28af8e4645081cd98f591a902b115"
   }
  }
 },
 "nbformat": 4,
 "nbformat_minor": 2
}
