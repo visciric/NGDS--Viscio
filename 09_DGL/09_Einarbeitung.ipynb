{
 "cells": [
  {
   "attachments": {},
   "cell_type": "markdown",
   "metadata": {},
   "source": [
    "# Differentialgleichungen\n"
   ]
  },
  {
   "attachments": {},
   "cell_type": "markdown",
   "metadata": {},
   "source": [
    "## Arbeitsblatt zur Einarbeitung\n"
   ]
  },
  {
   "attachments": {},
   "cell_type": "markdown",
   "metadata": {},
   "source": [
    "Dieses Arbeitsblatt muss vor der Lektion am Donnerstag durchgearbeitet werden. Hier lernst du die einfachste Lösungsmethode für gewöhnliche Differentialgleichungen kennen, das **Euler-Verfahren**."
   ]
  },
  {
   "attachments": {},
   "cell_type": "markdown",
   "metadata": {},
   "source": [
    "## Gewöhnliche Differentialgleichungen"
   ]
  },
  {
   "attachments": {},
   "cell_type": "markdown",
   "metadata": {},
   "source": [
    "Die **Differentialgleichung** (DGL) ist ein mathematisches Werkzeug, das verwendet wird, um den Zusammenhang zwischen einer Funktion und ihrer Ableitung zu beschreiben. Im Wesentlichen ist es eine Gleichung, die eine unbekannte Funktion und ihre Ableitung(en) enthält.\n",
    "\n",
    "Differentialgleichungen sind in vielen Bereichen der Physik, der Natur- und Ingenieurwissenschaften sowie anderen Wissenschaften wie der Ökonomie von entscheidender Bedeutung. Sie werden dazu verwendet, mathematische Modelle zu erstellen, die das Verhalten von dynamischen Systemen beschreiben. Solche Systeme sind aus dem Modul **Systeme und Modelle der Physik** bekannt. Dort wird das Tool **Stella** verwendet, um Differentialgleichungssysteme zu modellieren und zu lösen.\n",
    "\n",
    "Eine **gewöhnliche Differentialgleichung** (engl. *ordinary differential equation*, ODE) ist eine Differentialgleichung, in der die gesuchte Funktion nur von einer Variablen abhängt, meist $t$ oder $x$ genannt.\n",
    "\n",
    "Wikipedia:\n",
    "- [Differentialgleichung](https://de.wikipedia.org/wiki/Differentialgleichung)\n",
    "- [Gewöhnliche Differentialgleichung](https://de.wikipedia.org/wiki/Gew%C3%B6hnliche_Differentialgleichung)\n"
   ]
  },
  {
   "attachments": {},
   "cell_type": "markdown",
   "metadata": {},
   "source": [
    "## Euler-Verfahren\n"
   ]
  },
  {
   "attachments": {},
   "cell_type": "markdown",
   "metadata": {},
   "source": [
    "> Das eulersche Polygonzugverfahren oder explizite Euler-Verfahren (auch Euler-Cauchy-Verfahren oder Euler-vorwärts-Verfahren) ist das einfachste Verfahren zur numerischen Lösung eines Anfangswertproblems. [Explizites Euler-Verfahren - Wikipedia](https://de.wikipedia.org/wiki/Explizites_Euler-Verfahren)\n",
    "\n",
    "Das folgende Video erklärt das Euler-Verfahren:\n",
    "\n",
    "- [\"Euler-Verfahren\" - Kochrezepte für Mathematik](https://www.youtube.com/watch?v=EhyNxBeNZuM)\n",
    "\n",
    "In dem Video werden DGL der Form\n",
    "\n",
    "$$ \\frac{dy}{dx} = f(x, y) \\quad\\text{mit}\\quad y(x_0) = y_0 $$\n",
    "\n",
    "behandelt. Das heisst die abhängige Variable (gesuchte Funktion) heisst $y$ und die unabhängige Variable heisst $x$.\n",
    "\n",
    "Weil DGL in den Naturwissenschaften häufig zeitlich dynamische Systeme beschreiben und auch SciPy $t$ statt $x$ verwendet, nehmen wir die Zeit $t$ als unabhängige Variable, also $x\\to t$,\n",
    "\n",
    "$$ \\frac{dy}{dt} = f(t, y) \\quad\\text{mit}\\quad y(t_0) = y_0 $$\n",
    "\n",
    "Die Formel für das Euler-Verfahren ist aber die gleiche."
   ]
  },
  {
   "attachments": {},
   "cell_type": "markdown",
   "metadata": {},
   "source": [
    "## Arbeitsauftrag"
   ]
  },
  {
   "cell_type": "code",
   "execution_count": 1,
   "metadata": {},
   "outputs": [],
   "source": [
    "import numpy as np\n",
    "import matplotlib.pyplot as plt\n",
    "import scipy\n"
   ]
  },
  {
   "attachments": {},
   "cell_type": "markdown",
   "metadata": {},
   "source": [
    "### Aufgabe 1"
   ]
  },
  {
   "attachments": {},
   "cell_type": "markdown",
   "metadata": {},
   "source": [
    "#### a) Verfahren beschreiben\n",
    "\n",
    "Schreibe die benötigten Schritte für das Euler-Verfahren auf."
   ]
  },
  {
   "attachments": {},
   "cell_type": "markdown",
   "metadata": {},
   "source": []
  },
  {
   "attachments": {},
   "cell_type": "markdown",
   "metadata": {},
   "source": [
    "#### b) Beispiel vorbereiten\n"
   ]
  },
  {
   "attachments": {},
   "cell_type": "markdown",
   "metadata": {},
   "source": [
    "Als Beispiel nehmen wir die Differentialgleichung\n",
    "\n",
    "$$ y'(t) = 3y(t) - e^{2t} $$\n",
    "\n",
    "die auch im Video vorkommt. Definiere also die Funktion `f(t, y)`, welche für den Funktionswert $y$ an der Stelle $t$ die Ableitung $y'(t)$ berechnet."
   ]
  },
  {
   "cell_type": "code",
   "execution_count": null,
   "metadata": {},
   "outputs": [],
   "source": []
  },
  {
   "attachments": {},
   "cell_type": "markdown",
   "metadata": {},
   "source": [
    "#### c) Verfahren implementieren"
   ]
  },
  {
   "attachments": {},
   "cell_type": "markdown",
   "metadata": {},
   "source": [
    "Programmiere nun eine Funktion `euler(f, y0, t0, tend, h)`, die als Argumente die Funktion `f`, den Startwert `y0`, den Startpunkt `t0`, die Obergrenze `tend` und die Schrittweite `h` nimmt, und die berechneten $t$- und $y$-Werte als zwei NumPy-Arrays zurückliefert."
   ]
  },
  {
   "cell_type": "code",
   "execution_count": null,
   "metadata": {},
   "outputs": [],
   "source": []
  },
  {
   "attachments": {},
   "cell_type": "markdown",
   "metadata": {},
   "source": [
    "#### d) Funktionstest\n"
   ]
  },
  {
   "attachments": {},
   "cell_type": "markdown",
   "metadata": {},
   "source": [
    "Verifiziere deine Funktion mit dem Beispiel aus b) mit der Anfangsbedingung $y(0.1) = 1$, das heisst $(t_0, y_0) = (0.1, 1)$.\n",
    "\n",
    "Löse dazu die Gleichung im Bereich $0.1 <= t <= 1.75$ mit der Schrittweite $h = 0.01$.\n",
    "\n",
    "Erwartetes Resultat: $y(1.75) \\approx 1.439616$."
   ]
  },
  {
   "cell_type": "code",
   "execution_count": null,
   "metadata": {},
   "outputs": [],
   "source": []
  },
  {
   "attachments": {},
   "cell_type": "markdown",
   "metadata": {},
   "source": [
    "#### e) Darstellung"
   ]
  },
  {
   "attachments": {},
   "cell_type": "markdown",
   "metadata": {},
   "source": [
    "Stelle das Ergebnis in einem Diagramm dar und vergleiche es mit der analytischen Lösung\n",
    "\n",
    "$$ y(t) = e^{2t} - 0.164019 e^{3t} \\,, $$\n",
    "\n",
    "die [Wolfram|Alpha berechnet](https://www.wolframalpha.com/input?i=y%27+%3D+3+*+y+-+exp%282+*+t%29+with+y%280.1%29%3D1)."
   ]
  },
  {
   "cell_type": "code",
   "execution_count": null,
   "metadata": {},
   "outputs": [],
   "source": []
  },
  {
   "attachments": {},
   "cell_type": "markdown",
   "metadata": {},
   "source": [
    "### Aufgabe 2: SciPy Funktionen"
   ]
  },
  {
   "attachments": {},
   "cell_type": "markdown",
   "metadata": {},
   "source": [
    "#### a) Übersicht\n",
    "\n",
    "Hir ist eine Übersicht der [SciPy Funktionen zur Lösung von Differentialgleichungssystemen](https://docs.scipy.org/doc/scipy/reference/integrate.html#solving-initial-value-problems-for-ode-systems).\n",
    "\n",
    "- Die Funktion [`scipy.integrate.solve_ivp`](https://docs.scipy.org/doc/scipy/reference/generated/scipy.integrate.solve_ivp.html) kann als Einstiegspunkt für alle Methoden verwenden werden.\n",
    "- Die Funktion [`scipy.integrate.odeint`](https://docs.scipy.org/doc/scipy/reference/generated/scipy.integrate.odeint.html) wird zwar noch in vielen Blogpost und Tutorials verwendet, ist aber etwas veraltet und sollte im Normalfall nicht mehr verwendet werden.\n",
    "- Ein Vergleich der beiden Funktionen findet sich zum Beispiel in diesem [Blogpost](https://danielmuellerkomorowska.com/2021/02/16/differential-equations-with-scipy-odeint-or-solve_ivp/).\n",
    "\n",
    "Schaue dir die Dokumentation der Funktion `solve_ivp`, vor allem das erste Beispiel.\n",
    "\n",
    "Beachte dabei, dass `solve_ivp` darauf ausgelegt ist, dass $y(t)$ eine mehrdimensionale (vektorwertige) Funktion ist. Das heisst, der Anfangswert `y0` ist ein Array (oder eine Liste) von Anfangswerten für jede Dimension. Und die resultierenden $y$-Werte sind in 2D-Array gespeichert, pro Zeitpunkt eine Spalte."
   ]
  },
  {
   "attachments": {},
   "cell_type": "markdown",
   "metadata": {},
   "source": [
    "#### b) Anwendung\n",
    "\n",
    "Löse die Differentialgleichung aus Aufgabe 1 mit SciPy und vergleiche das Ergebnis visuell mit demjenigen aus Aufgabe 1, also mit einer grafischen Darstellung.\n",
    "\n",
    "Damit es einen sinnvollen Vergleich gibt, musst du mit der Option `t_eval=t` die $t$-Werte angeben, an denen die Lösung berechnet werden soll."
   ]
  },
  {
   "cell_type": "code",
   "execution_count": null,
   "metadata": {},
   "outputs": [],
   "source": []
  },
  {
   "cell_type": "code",
   "execution_count": null,
   "metadata": {},
   "outputs": [],
   "source": []
  },
  {
   "attachments": {},
   "cell_type": "markdown",
   "metadata": {},
   "source": [
    "#### c) Fehlerabschätzung"
   ]
  },
  {
   "attachments": {},
   "cell_type": "markdown",
   "metadata": {},
   "source": [
    "Plotte den absoluten Fehler zwischen den Ergebnissen der selbstgeschriebenen Funktion und der SciPy Funktion."
   ]
  },
  {
   "cell_type": "code",
   "execution_count": null,
   "metadata": {},
   "outputs": [],
   "source": []
  },
  {
   "attachments": {},
   "cell_type": "markdown",
   "metadata": {},
   "source": [
    "### Aufgabe 3: Differentialgleichungen höherer Ordnung"
   ]
  },
  {
   "attachments": {},
   "cell_type": "markdown",
   "metadata": {},
   "source": [
    "Mit dem Euler-Verfahren und mit `solve_ivp` können nur DGL 1. Ordnung, also Differentialgleichungen mit höchstens einer Ableitung, gelöst werden.\n",
    "\n",
    "Wie berechnet man Lösungen von Differentialgleichungen höhrerer Ordnung, also solche in denen zweite und höhere Ableitungen vorkommen?\n",
    "\n",
    "Das Video [\"12E.1 Differentialgleichung dritter Ordnung mit Euler-Verfahren lösen\" - Jörn Loviscach](https://www.youtube.com/watch?v=1DrsSjvfyJA) hilft dabei diese Frage zu beantworten und wird weiterführend im Unterricht besprochen."
   ]
  },
  {
   "attachments": {},
   "cell_type": "markdown",
   "metadata": {},
   "source": []
  }
 ],
 "metadata": {
  "kernelspec": {
   "display_name": "base",
   "language": "python",
   "name": "python3"
  },
  "language_info": {
   "codemirror_mode": {
    "name": "ipython",
    "version": 3
   },
   "file_extension": ".py",
   "mimetype": "text/x-python",
   "name": "python",
   "nbconvert_exporter": "python",
   "pygments_lexer": "ipython3",
   "version": "3.10.10"
  },
  "orig_nbformat": 4,
  "vscode": {
   "interpreter": {
    "hash": "0187e7a6eead8ea53be4540e5c8ea9de7c30c610278e3b1fc6e77de1b841b930"
   }
  }
 },
 "nbformat": 4,
 "nbformat_minor": 2
}
