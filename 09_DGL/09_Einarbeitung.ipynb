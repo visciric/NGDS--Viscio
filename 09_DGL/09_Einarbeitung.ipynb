{
 "cells": [
  {
   "attachments": {},
   "cell_type": "markdown",
   "metadata": {},
   "source": [
    "# Differentialgleichungen\n"
   ]
  },
  {
   "attachments": {},
   "cell_type": "markdown",
   "metadata": {},
   "source": [
    "## Arbeitsblatt zur Einarbeitung\n"
   ]
  },
  {
   "attachments": {},
   "cell_type": "markdown",
   "metadata": {},
   "source": [
    "Dieses Arbeitsblatt muss vor der Lektion am Donnerstag durchgearbeitet werden. Hier lernst du die einfachste Lösungsmethode für gewöhnliche Differentialgleichungen kennen, das **Euler-Verfahren**."
   ]
  },
  {
   "attachments": {},
   "cell_type": "markdown",
   "metadata": {},
   "source": [
    "## Gewöhnliche Differentialgleichungen"
   ]
  },
  {
   "attachments": {},
   "cell_type": "markdown",
   "metadata": {},
   "source": [
    "Die **Differentialgleichung** (DGL) ist ein mathematisches Werkzeug, das verwendet wird, um den Zusammenhang zwischen einer Funktion und ihrer Ableitung zu beschreiben. Im Wesentlichen ist es eine Gleichung, die eine unbekannte Funktion und ihre Ableitung(en) enthält.\n",
    "\n",
    "Differentialgleichungen sind in vielen Bereichen der Physik, der Natur- und Ingenieurwissenschaften sowie anderen Wissenschaften wie der Ökonomie von entscheidender Bedeutung. Sie werden dazu verwendet, mathematische Modelle zu erstellen, die das Verhalten von dynamischen Systemen beschreiben. Solche Systeme sind aus dem Modul **Systeme und Modelle der Physik** bekannt. Dort wird das Tool **Stella** verwendet, um Differentialgleichungssysteme zu modellieren und zu lösen.\n",
    "\n",
    "Eine **gewöhnliche Differentialgleichung** (engl. *ordinary differential equation*, ODE) ist eine Differentialgleichung, in der die gesuchte Funktion nur von einer Variablen abhängt, meist $t$ oder $x$ genannt.\n",
    "\n",
    "Wikipedia:\n",
    "- [Differentialgleichung](https://de.wikipedia.org/wiki/Differentialgleichung)\n",
    "- [Gewöhnliche Differentialgleichung](https://de.wikipedia.org/wiki/Gew%C3%B6hnliche_Differentialgleichung)\n"
   ]
  },
  {
   "attachments": {},
   "cell_type": "markdown",
   "metadata": {},
   "source": [
    "## Euler-Verfahren\n"
   ]
  },
  {
   "attachments": {},
   "cell_type": "markdown",
   "metadata": {},
   "source": [
    "> Das eulersche Polygonzugverfahren oder explizite Euler-Verfahren (auch Euler-Cauchy-Verfahren oder Euler-vorwärts-Verfahren) ist das einfachste Verfahren zur numerischen Lösung eines Anfangswertproblems. [Explizites Euler-Verfahren - Wikipedia](https://de.wikipedia.org/wiki/Explizites_Euler-Verfahren)\n",
    "\n",
    "Das folgende Video erklärt das Euler-Verfahren:\n",
    "\n",
    "- [\"Euler-Verfahren\" - Kochrezepte für Mathematik](https://www.youtube.com/watch?v=EhyNxBeNZuM)\n",
    "\n",
    "In dem Video werden DGL der Form\n",
    "\n",
    "$$ \\frac{dy}{dx} = f(x, y) \\quad\\text{mit}\\quad y(x_0) = y_0 $$\n",
    "\n",
    "behandelt. Das heisst die abhängige Variable (gesuchte Funktion) heisst $y$ und die unabhängige Variable heisst $x$.\n",
    "\n",
    "Weil DGL in den Naturwissenschaften häufig zeitlich dynamische Systeme beschreiben und auch SciPy $t$ statt $x$ verwendet, nehmen wir die Zeit $t$ als unabhängige Variable, also $x\\to t$,\n",
    "\n",
    "$$ \\frac{dy}{dt} = f(t, y) \\quad\\text{mit}\\quad y(t_0) = y_0 $$\n",
    "\n",
    "Die Formel für das Euler-Verfahren ist aber die gleiche."
   ]
  },
  {
   "attachments": {},
   "cell_type": "markdown",
   "metadata": {},
   "source": [
    "## Arbeitsauftrag"
   ]
  },
  {
   "cell_type": "code",
   "execution_count": 1,
   "metadata": {},
   "outputs": [],
   "source": [
    "import numpy as np\n",
    "import matplotlib.pyplot as plt\n",
    "import scipy\n"
   ]
  },
  {
   "attachments": {},
   "cell_type": "markdown",
   "metadata": {},
   "source": [
    "### Aufgabe 1"
   ]
  },
  {
   "attachments": {},
   "cell_type": "markdown",
   "metadata": {},
   "source": [
    "#### a) Verfahren beschreiben\n",
    "\n",
    "Schreibe die benötigten Schritte für das Euler-Verfahren auf."
   ]
  },
  {
   "cell_type": "code",
   "execution_count": 2,
   "metadata": {},
   "outputs": [
    {
     "data": {
      "text/plain": [
       "-0.09999999999999999"
      ]
     },
     "execution_count": 2,
     "metadata": {},
     "output_type": "execute_result"
    }
   ],
   "source": [
    "def h(a,b,n):\n",
    "    return (b-a)/n\n",
    "\n",
    "def f_xk(x,k,h):\n",
    "    return x + k * h \n",
    "\n",
    "h(0.3,0.1,2)"
   ]
  },
  {
   "attachments": {},
   "cell_type": "markdown",
   "metadata": {},
   "source": [
    "#### b) Beispiel vorbereiten\n"
   ]
  },
  {
   "attachments": {},
   "cell_type": "markdown",
   "metadata": {},
   "source": [
    "Als Beispiel nehmen wir die Differentialgleichung\n",
    "\n",
    "$$ y'(t) = 3y(t) - e^{2t} $$\n",
    "\n",
    "die auch im Video vorkommt. Definiere also die Funktion `f(t, y)`, welche für den Funktionswert $y$ an der Stelle $t$ die Ableitung $y'(t)$ berechnet."
   ]
  },
  {
   "cell_type": "code",
   "execution_count": 3,
   "metadata": {},
   "outputs": [],
   "source": [
    "def f(t, y):\n",
    "    return 3*y - np.exp(2*t)"
   ]
  },
  {
   "attachments": {},
   "cell_type": "markdown",
   "metadata": {},
   "source": [
    "#### c) Verfahren implementieren"
   ]
  },
  {
   "attachments": {},
   "cell_type": "markdown",
   "metadata": {},
   "source": [
    "Programmiere nun eine Funktion `euler(f, y0, t0, t_end, h)`, die als Argumente die Funktion `f`, den Startwert `y0`, den Startpunkt `t0`, die Obergrenze `t_end` und die Schrittweite `h` nimmt, und die berechneten $t$- und $y$-Werte als zwei NumPy-Arrays zurückliefert."
   ]
  },
  {
   "cell_type": "code",
   "execution_count": 4,
   "metadata": {},
   "outputs": [],
   "source": [
    "# array -> beide Array müssen gleich lang sein -> schleife \n",
    "def euler(f, y0, t0, tend, h):\n",
    "    t = np.arange(t0,tend + h, h ) \n",
    "    #tend + h weil die letzte zahl bei np.arange nicht berücksichtigt wird \n",
    "    \n",
    "    y = np.zeros_like(t) # gleich langes Array erstellt \n",
    "    y[0] = y0  #leere liste erstellt mit anfangswert 0 \n",
    "    \n",
    "    #knackpunkt ist, dass man dies für alle punkte machen muss und das slicing verwendet wird. \n",
    "    for i in range(len(t)-1):\n",
    "        dydt = f(t[i], y[i])\n",
    "        y[i+1] = y[i] + h * dydt #gleiche Formel wie im Video \n",
    "        #knackpunkt ist, dass man dies für alle punkte machen muss und das slicing verwendet wird. \n",
    "    return t , y \n"
   ]
  },
  {
   "cell_type": "code",
   "execution_count": 5,
   "metadata": {},
   "outputs": [],
   "source": [
    "def euler_vectorized(f, y0, t0, tend, h):\n",
    "    t = np.arange(t0, tend + h, h)\n",
    "    y = np.zeros_like(t)\n",
    "    y[0] = y0\n",
    "    \n",
    "    dydt = f(t, y)\n",
    "    \n",
    "    y[1:] = y[:-1] + h * dydt[:-1]  \n",
    "    \n",
    "    return t, y\n"
   ]
  },
  {
   "cell_type": "code",
   "execution_count": 10,
   "metadata": {},
   "outputs": [],
   "source": [
    "#euler verfahren von Yassin \n",
    "def euler_1(f,y0,t0,tend,h):\n",
    "    ts = [t0]\n",
    "    ys = [y0]\n",
    "    t,y = t0,y0\n",
    "    \n",
    "    while t < tend:\n",
    "        y = y + h * f(t,y)\n",
    "        t = t + h \n",
    "        ts.append(t)\n",
    "        ys.append(y)\n",
    "    return t,y"
   ]
  },
  {
   "attachments": {},
   "cell_type": "markdown",
   "metadata": {},
   "source": [
    "#### d) Funktionstest\n"
   ]
  },
  {
   "attachments": {},
   "cell_type": "markdown",
   "metadata": {},
   "source": [
    "Verifiziere deine Funktion mit dem Beispiel aus b) mit der Anfangsbedingung $y(0.1) = 1$, das heisst $(t_0, y_0) = (0.1, 1)$.\n",
    "\n",
    "Löse dazu die Gleichung im Bereich $0.1 <= t <= 1.75$ mit der Schrittweite $h = 0.01$.\n",
    "\n",
    "Erwartetes Resultat: $y(1.75) \\approx 1.439616$."
   ]
  },
  {
   "cell_type": "code",
   "execution_count": 28,
   "metadata": {},
   "outputs": [
    {
     "name": "stdout",
     "output_type": "stream",
     "text": [
      "[0.1  0.11 0.12 0.13 0.14 0.15 0.16 0.17 0.18 0.19 0.2  0.21 0.22 0.23\n",
      " 0.24 0.25 0.26 0.27 0.28 0.29 0.3  0.31 0.32 0.33 0.34 0.35 0.36 0.37\n",
      " 0.38 0.39 0.4  0.41 0.42 0.43 0.44 0.45 0.46 0.47 0.48 0.49 0.5  0.51\n",
      " 0.52 0.53 0.54 0.55 0.56 0.57 0.58 0.59 0.6  0.61 0.62 0.63 0.64 0.65\n",
      " 0.66 0.67 0.68 0.69 0.7  0.71 0.72 0.73 0.74 0.75 0.76 0.77 0.78 0.79\n",
      " 0.8  0.81 0.82 0.83 0.84 0.85 0.86 0.87 0.88 0.89 0.9  0.91 0.92 0.93\n",
      " 0.94 0.95 0.96 0.97 0.98 0.99 1.   1.01 1.02 1.03 1.04 1.05 1.06 1.07\n",
      " 1.08 1.09 1.1  1.11 1.12 1.13 1.14 1.15 1.16 1.17 1.18 1.19 1.2  1.21\n",
      " 1.22 1.23 1.24 1.25 1.26 1.27 1.28 1.29 1.3  1.31 1.32 1.33 1.34 1.35\n",
      " 1.36 1.37 1.38 1.39 1.4  1.41 1.42 1.43 1.44 1.45 1.46 1.47 1.48 1.49\n",
      " 1.5  1.51 1.52 1.53 1.54 1.55 1.56 1.57 1.58 1.59 1.6  1.61 1.62 1.63\n",
      " 1.64 1.65 1.66 1.67 1.68 1.69 1.7  1.71 1.72 1.73 1.74 1.75] [1.         1.01778597 1.03585878 1.05422206 1.07287942 1.0918345\n",
      " 1.11109095 1.1306524  1.1505225  1.17070488 1.19120318 1.21202102\n",
      " 1.23316204 1.25462983 1.27642798 1.29856008 1.32102967 1.34384028\n",
      " 1.36699542 1.39049856 1.41435313 1.43856254 1.46313013 1.48805923\n",
      " 1.51335308 1.5390149  1.56504782 1.59145492 1.61823921 1.64540363\n",
      " 1.67295101 1.70088413 1.72920566 1.75791816 1.7870241  1.81652582\n",
      " 1.84642557 1.87672543 1.90742738 1.93853324 1.97004467 2.00196319\n",
      " 2.03429014 2.06702668 2.10017377 2.13373218 2.16770249 2.20208502\n",
      " 2.23687989 2.27208695 2.30770582 2.34373582 2.38017602 2.41702517\n",
      " 2.45428171 2.49194376 2.53000911 2.56847517 2.60733899 2.64659722\n",
      " 2.68624612 2.72628151 2.76669875 2.80749275 2.84865794 2.89018822\n",
      " 2.93207698 2.97431703 3.01690064 3.05981945 3.10306448 3.14662609\n",
      " 3.19049396 3.23465709 3.27910369 3.32382124 3.36879641 3.41401501\n",
      " 3.45946203 3.50512152 3.5509766  3.59700942 3.64320112 3.68953177\n",
      " 3.73598036 3.78252472 3.82914152 3.87580618 3.92249285 3.96917437\n",
      " 4.01582217 4.06240627 4.10889521 4.15525598 4.20145396 4.24745289\n",
      " 4.29321477 4.33869984 4.38386646 4.42867108 4.47306815 4.51701006\n",
      " 4.56044705 4.60332715 4.64559607 4.68719715 4.72807124 4.76815664\n",
      " 4.80738897 4.84570112 4.88302313 4.91928206 4.95440193 4.98830358\n",
      " 5.02090457 5.05211906 5.08185769 5.11002746 5.13653157 5.16126935\n",
      " 5.18413605 5.20502275 5.22381619 5.24039864 5.25464771 5.26643621\n",
      " 5.27563198 5.28209772 5.2856908  5.28626309 5.28366077 5.27772413\n",
      " 5.26828735 5.25517831 5.23821839 5.21722221 5.19199742 5.16234447\n",
      " 5.12805634 5.08891832 5.0447077  4.99519356 4.94013645 4.87928811\n",
      " 4.81239118 4.7391789  4.65937475 4.5726922  4.47883429 4.37749336\n",
      " 4.26835063 4.15107584 4.02532692 3.89074951 3.74697662 3.59362819\n",
      " 3.43031065 3.25661646 3.07212369 2.87639549 2.66897965 2.44940804\n",
      " 2.21719613 1.97184243 1.71282794 1.43961555]\n",
      "Der y wert and er Stelle y(1.75), ist 1.439615553586018\n"
     ]
    }
   ],
   "source": [
    "t0, y0 = 0.1, 1.0\n",
    "tend, h = 1.75, 0.01\n",
    "\n",
    "t, y = euler(f, y0, t0, tend, h)\n",
    "print(t,y)\n",
    "t1, y1 = euler_vectorized(f, y0, t0, tend, h)\n",
    "\n",
    "#hier ist wichtig, dass man den parameter y[-1], damit man den letzten Wert zurückbekommt \n",
    "# ansonsten bekommt man das ganze array über \n",
    "print(f\"Der y wert and er Stelle y({tend}), ist {y[-1]}\")"
   ]
  },
  {
   "attachments": {},
   "cell_type": "markdown",
   "metadata": {},
   "source": [
    "## WTF was sind schon wieder Vektorisierte Funtionen?\n",
    "\n",
    "<details>\n",
    "<summary> Hier findest du die Infromationen\n",
    "</summary>\n",
    "\n",
    "**Kurz gesagt sind Vektorisierte Funktionen, Funktionen welche Operationen auf ganze Arrays von Zahlen anwenden. Solche Funktionen nennt man Vektorisierte Funktionen. Im Gegensatz zu einer Schleifen-basierten Implementierung führt eine vektorisierte Implementierung alle Operationen gleichzeitig auf den Elementen eines Arrays aus. Dadurch können vektorisierte Funktionen deutlich schneller ausgeführt werden.**\n",
    "\n",
    "- [Vektorisierung und der Datentyp np.ndarray](https://openbook.rheinwerk-verlag.de/python/41_002.html)\n",
    "- [Vektorized Functions](https://odlgroup.github.io/odl/guide/vectorization_guide.html)\n",
    "\n",
    "\n",
    "</details>"
   ]
  },
  {
   "cell_type": "code",
   "execution_count": 29,
   "metadata": {},
   "outputs": [
    {
     "name": "stdout",
     "output_type": "stream",
     "text": [
      "[5 7 9]\n"
     ]
    }
   ],
   "source": [
    "a = np.array([1, 2, 3])\n",
    "b = np.array([4, 5, 6])\n",
    "\n",
    "c = a + b\n",
    "print(c)\n"
   ]
  },
  {
   "attachments": {},
   "cell_type": "markdown",
   "metadata": {},
   "source": [
    "#### e) Darstellung"
   ]
  },
  {
   "attachments": {},
   "cell_type": "markdown",
   "metadata": {},
   "source": [
    "Stelle das Ergebnis in einem Diagramm dar und vergleiche es mit der analytischen Lösung\n",
    "\n",
    "$$ y(t) = e^{2t} - 0.164019 e^{3t} \\,, $$\n",
    "\n",
    "die [Wolfram|Alpha berechnet](https://www.wolframalpha.com/input?i=y%27+%3D+3+*+y+-+exp%282+*+t%29+with+y%280.1%29%3D1)."
   ]
  },
  {
   "cell_type": "code",
   "execution_count": 30,
   "metadata": {},
   "outputs": [
    {
     "data": {
      "image/png": "[encoded data removed]",
      "text/plain": [
       "<Figure size 640x480 with 1 Axes>"
      ]
     },
     "metadata": {},
     "output_type": "display_data"
    }
   ],
   "source": [
    "# Ergebnis plotten\n",
    "plt.plot(t, y)\n",
    "plt.xlabel('t')\n",
    "plt.ylabel('y')\n",
    "plt.title('Numerische Lösung der Differentialgleichung')\n",
    "plt.grid()\n",
    "plt.show()"
   ]
  },
  {
   "attachments": {},
   "cell_type": "markdown",
   "metadata": {},
   "source": [
    "### Aufgabe 2: SciPy Funktionen"
   ]
  },
  {
   "attachments": {},
   "cell_type": "markdown",
   "metadata": {},
   "source": [
    "#### a) Übersicht\n",
    "\n",
    "Hir ist eine Übersicht der [SciPy Funktionen zur Lösung von Differentialgleichungssystemen](https://docs.scipy.org/doc/scipy/reference/integrate.html#solving-initial-value-problems-for-ode-systems).\n",
    "\n",
    "- Die Funktion [`scipy.integrate.solve_ivp`](https://docs.scipy.org/doc/scipy/reference/generated/scipy.integrate.solve_ivp.html) kann als Einstiegspunkt für alle Methoden verwenden werden.\n",
    "- Die Funktion [`scipy.integrate.odeint`](https://docs.scipy.org/doc/scipy/reference/generated/scipy.integrate.odeint.html) wird zwar noch in vielen Blogpost und Tutorials verwendet, ist aber etwas veraltet und sollte im Normalfall nicht mehr verwendet werden.\n",
    "- Ein Vergleich der beiden Funktionen findet sich zum Beispiel in diesem [Blogpost](https://danielmuellerkomorowska.com/2021/02/16/differential-equations-with-scipy-odeint-or-solve_ivp/).\n",
    "\n",
    "Schaue dir die Dokumentation der Funktion `solve_ivp`, vor allem das erste Beispiel.\n",
    "\n",
    "Beachte dabei, dass `solve_ivp` darauf ausgelegt ist, dass $y(t)$ eine mehrdimensionale (vektorwertige) Funktion ist. Das heisst, der Anfangswert `y0` ist ein Array (oder eine Liste) von Anfangswerten für jede Dimension. Und die resultierenden $y$-Werte sind in 2D-Array gespeichert, pro Zeitpunkt eine Spalte."
   ]
  },
  {
   "attachments": {},
   "cell_type": "markdown",
   "metadata": {},
   "source": [
    "#### b) Anwendung\n",
    "\n",
    "Löse die Differentialgleichung aus Aufgabe 1 mit SciPy und vergleiche das Ergebnis visuell mit demjenigen aus Aufgabe 1, also mit einer grafischen Darstellung.\n",
    "\n",
    "Damit es einen sinnvollen Vergleich gibt, musst du mit der Option `t_eval=t` die $t$-Werte angeben, an denen die Lösung berechnet werden soll."
   ]
  },
  {
   "cell_type": "code",
   "execution_count": null,
   "metadata": {},
   "outputs": [],
   "source": []
  },
  {
   "cell_type": "code",
   "execution_count": null,
   "metadata": {},
   "outputs": [],
   "source": []
  },
  {
   "attachments": {},
   "cell_type": "markdown",
   "metadata": {},
   "source": [
    "#### c) Fehlerabschätzung"
   ]
  },
  {
   "attachments": {},
   "cell_type": "markdown",
   "metadata": {},
   "source": [
    "Plotte den absoluten Fehler zwischen den Ergebnissen der selbstgeschriebenen Funktion und der SciPy Funktion."
   ]
  },
  {
   "cell_type": "code",
   "execution_count": null,
   "metadata": {},
   "outputs": [],
   "source": []
  },
  {
   "attachments": {},
   "cell_type": "markdown",
   "metadata": {},
   "source": [
    "### Aufgabe 3: Differentialgleichungen höherer Ordnung"
   ]
  },
  {
   "attachments": {},
   "cell_type": "markdown",
   "metadata": {},
   "source": [
    "Mit dem Euler-Verfahren und mit `solve_ivp` können nur DGL 1. Ordnung, also Differentialgleichungen mit höchstens einer Ableitung, gelöst werden.\n",
    "\n",
    "Wie berechnet man Lösungen von Differentialgleichungen höhrerer Ordnung, also solche in denen zweite und höhere Ableitungen vorkommen?\n",
    "\n",
    "Das Video [\"12E.1 Differentialgleichung dritter Ordnung mit Euler-Verfahren lösen\" - Jörn Loviscach](https://www.youtube.com/watch?v=1DrsSjvfyJA) hilft dabei diese Frage zu beantworten und wird weiterführend im Unterricht besprochen."
   ]
  },
  {
   "attachments": {},
   "cell_type": "markdown",
   "metadata": {},
   "source": []
  }
 ],
 "metadata": {
  "kernelspec": {
   "display_name": "Python 3.9.13 ('base')",
   "language": "python",
   "name": "python3"
  },
  "language_info": {
   "codemirror_mode": {
    "name": "ipython",
    "version": 3
   },
   "file_extension": ".py",
   "mimetype": "text/x-python",
   "name": "python",
   "nbconvert_exporter": "python",
   "pygments_lexer": "ipython3",
   "version": "3.9.13"
  },
  "orig_nbformat": 4,
  "vscode": {
   "interpreter": {
    "hash": "4d2556984e1c68bbb8b2e1571fb1e53952da9788a323f9af554c8fb844d871f0"
   }
  }
 },
 "nbformat": 4,
 "nbformat_minor": 2
}
