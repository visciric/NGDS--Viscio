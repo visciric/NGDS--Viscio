{
 "cells": [
  {
   "attachments": {},
   "cell_type": "markdown",
   "metadata": {},
   "source": [
    "# Nullstellen berechnen"
   ]
  },
  {
   "attachments": {},
   "cell_type": "markdown",
   "metadata": {},
   "source": [
    "## Arbeitsblatt zur Einarbeitung"
   ]
  },
  {
   "attachments": {},
   "cell_type": "markdown",
   "metadata": {},
   "source": [
    "Dieses Arbeitsblatt muss vor dem Präsenzunterricht durchgearbeitet werden. Hier lernst du zwei Verfahren zur Berechnung von Nullstellen von Funktionen kennen. Das Ziel ist, deren Funktionsweise kennenzulernen, indem du sie selbst rudimentär implementierst. Details und Verfeinerungen besprechen wir im Präsenzunterricht."
   ]
  },
  {
   "attachments": {},
   "cell_type": "markdown",
   "metadata": {},
   "source": [
    "### Bisektionsverfahren"
   ]
  },
  {
   "attachments": {},
   "cell_type": "markdown",
   "metadata": {},
   "source": [
    "Das einfachste Nullstellenverfahren beruht auf dem [Zwischenwertsatz](https://de.wikipedia.org/wiki/Zwischenwertsatz) der Analysis. Dieser besagt, dass eine stetige Funktion auf einem Intervall $[a,b]$ sicher alle Werte zwischen $f(a)$ und $f(b)$ annimmt. Haben $f(a)$ und $f(b)$ unterschiedliche Vorzeichen, so muss also eine Nullstelle dazwischen liegen. Dies nutzt man, um die Nullstelle durch iteratives Teilen des Intervalls einzugrenzen.\n",
    "\n",
    "Baue ein grundlegendes Verständnis auf, indem du mindestens eines der folgenden Videos schaust:\n",
    "- [\"Bisektionsverfahren, fortgesetzte Bisektion, Intervallhalbierung\" - MathePeter](https://www.youtube.com/watch?v=SctNmizHzXk)\n",
    "- [\"Bisektion, Bisektionsverfahren, Intervallhalbierung, Gleichungen lösen\" - Daniel Jung](https://www.youtube.com/watch?v=poOt34st_ao)\n",
    "\n",
    "Hier findest du eine Animation und Beschreibungen des Algorithmus: [\"Das Bisektionsverfahren\", Numerik I - Wikiversity](https://de.wikiversity.org/wiki/Kurs:Numerik_I/Nullstellenverfahren#Das_Bisektionsverfahren)."
   ]
  },
  {
   "attachments": {},
   "cell_type": "markdown",
   "metadata": {},
   "source": [
    "### Newton-Verfahren"
   ]
  },
  {
   "attachments": {},
   "cell_type": "markdown",
   "metadata": {},
   "source": [
    "Das Newton-Verfahren nutzt die Linearisierung der Funktion, deren Nullstelle zu berechnen ist. Ausgehend von einer Schätzung der Nullstelle liefert die Nullstelle der Linearisierung eine neue Näherung der gesuchten Nullstelle. Diese Iteration konvergiert in der Regel schnell.\n",
    "\n",
    "Schaue mindestens eines der folgenden Videos an:\n",
    "- [\"Newton-Verfahren (Nullstellen bestimmen)\" - Mathe-simpleclub](https://www.youtube.com/watch?v=xGemDmrCqEk)\n",
    "- [\"Newton Verfahren\" - MathePeter](https://www.youtube.com/watch?v=JdMVcHUfAs0)\n",
    "- [Playlist: \"Newton-Verfahren, Gleichungen lösen, Newton-Raphson-Verfahren\" - Daniel Jung](https://www.youtube.com/playlist?list=PLLTAHuUj-zHgXrIFYSt6cjADaHOg8QWjy)\n",
    "\n",
    "Hier findest du eine Animation und Beschreibungen des Algorithmus: [\"Das Newton-Verfahren\", Numerik I - Wikiversity](https://de.wikiversity.org/wiki/Kurs:Numerik_I/Nullstellenverfahren#5.2.4_Das_Newton-Verfahren)."
   ]
  },
  {
   "attachments": {},
   "cell_type": "markdown",
   "metadata": {},
   "source": [
    "## Arbeitsauftrag"
   ]
  },
  {
   "attachments": {},
   "cell_type": "markdown",
   "metadata": {},
   "source": [
    "### Aufgabe 1"
   ]
  },
  {
   "attachments": {},
   "cell_type": "markdown",
   "metadata": {},
   "source": [
    "Wofür brauchen wir die Nullstellen einer Funktion?"
   ]
  },
  {
   "attachments": {},
   "cell_type": "markdown",
   "metadata": {},
   "source": [
    "- Schnittpunkte zwischen zwei Funktionen sind Nullstellen der Differenz der Beiden Funktionen.\n",
    "- Höhenlinien sind Nullstellen der Differenz der Funktion und des konstanten Levels.\n",
    "- Optimierung: Nullstellen der Ableitung einer Funktion können Extremstellen sein."
   ]
  },
  {
   "attachments": {},
   "cell_type": "markdown",
   "metadata": {},
   "source": [
    "### Aufgabe 2"
   ]
  },
  {
   "attachments": {},
   "cell_type": "markdown",
   "metadata": {},
   "source": [
    "**Entscheide dich für die restlichen Aufgaben für eine der beiden Methoden: Bisektions- oder Newton-Verfahren.** (Das Bisektionsverfahren ist etwas schwieriger zu implementieren.)\n",
    "\n",
    "Schreibe das grundsätzliche Vorgehen (Ablauf des Algorithmus) für die Berechnung von Nullstellen anhand des gewählten Verfahrens auf."
   ]
  },
  {
   "attachments": {},
   "cell_type": "markdown",
   "metadata": {},
   "source": [
    "-  Bisektion:\n",
    "    1. Gegeben ein Startintervall `(a[i], b[i])` mit `i = 0`\n",
    "    2. Berechne die Funktion an den Grenzen. Falls `f(a[i]) * f(b[i]) > 0`, dann breche mit Fehlermeldung ab.\n",
    "    3. Bestimme das Zentrum des Intervalls `x[i] = (b[i] - a[i]) / 2`\n",
    "    4. Falls \n",
    "        - `f(x[i]) = 0` dann breche ab mit Erfolg.\n",
    "        - `f(a[i]) * f(x[i]) < 0` dann setze `a[i + 1] = a[i]` und `b[i + 1] = x[i]`\n",
    "        - sonst setze `a[i + 1] = x[i]` und `b[i + 1] = b[i]`\n",
    "    5. Falls Abbruchkriterium nicht erreicht, erhöhe `i` um 1 und gehe zu Schritte 2.\n",
    "\n",
    "-  Newton:\n",
    "    1. Neben der Funktion `f(x)` brauchen wir deren analytische Ableitung `fprime(x)`\n",
    "    2. Gegeben ein Startpunkt `x[i]` mit `i = 0`\n",
    "    3. Berechne die Iterationsvorschrift `x[i + 1] = x[i] - f(x[i]) / fprime(x[i])`\n",
    "    4. Falls Abbruchkriterium nicht erreicht, erhöhe `i` um 1 und gehe zu 3."
   ]
  },
  {
   "attachments": {},
   "cell_type": "markdown",
   "metadata": {},
   "source": [
    "### Aufgabe 3"
   ]
  },
  {
   "attachments": {},
   "cell_type": "markdown",
   "metadata": {},
   "source": [
    "Wir betrachten die Funktion\n",
    "\n",
    "$$ f(x) = x^3 + 3x^2 - x - 8 $$ \n",
    "\n",
    "Laut [Wolfram|Alpha](https://www.wolframalpha.com/input?i=x%5E3+%2B+3x%5E2+-+x+-+8+%3D+0) hat die Funktion eine reelle Nullstelle bei $x \\approx 1.456678343044111087062570$ (und dann noch zwei komplexe Nullstellen, die uns hier nicht interessieren).\n"
   ]
  },
  {
   "cell_type": "code",
   "execution_count": 3,
   "metadata": {},
   "outputs": [
    {
     "data": {
      "text/plain": [
       "0.0"
      ]
     },
     "execution_count": 3,
     "metadata": {},
     "output_type": "execute_result"
    }
   ],
   "source": [
    "import numpy as np\n",
    "import matplotlib.pyplot as plt\n",
    "\n",
    "\n",
    "def f(x):\n",
    "    return x**3 + 3 * x**2 - x - 8\n",
    "\n",
    "\n",
    "x_wolfram = 1.456678343044111087062570\n",
    "f(x_wolfram)\n"
   ]
  },
  {
   "attachments": {},
   "cell_type": "markdown",
   "metadata": {},
   "source": [
    "**1.** Berechne mit Python eine Wertetabelle für $f(x)$ mit den Werten $x\\in\\{-3, -2, -1, 0, 1, 2, 3\\}$."
   ]
  },
  {
   "cell_type": "code",
   "execution_count": 4,
   "metadata": {},
   "outputs": [
    {
     "data": {
      "text/plain": [
       "[(-3, -5), (-2, -2), (-1, -5), (0, -8), (1, -5), (2, 10), (3, 43)]"
      ]
     },
     "execution_count": 4,
     "metadata": {},
     "output_type": "execute_result"
    }
   ],
   "source": [
    "[(x, f(x)) for x in range(-3, 4)]\n"
   ]
  },
  {
   "attachments": {},
   "cell_type": "markdown",
   "metadata": {},
   "source": [
    "**2.** Wähle dann ein geeignetes Start-Intervall $[a_0,b_0]$ (Bisektion) bzw. einen geeigneten Startwert $x_0$ (Newton) aus."
   ]
  },
  {
   "attachments": {},
   "cell_type": "markdown",
   "metadata": {},
   "source": [
    "- Bisektion: $[a_0, b_0] = [1, 2]$\n",
    "- Newton: $x_0 = 1$"
   ]
  },
  {
   "attachments": {},
   "cell_type": "markdown",
   "metadata": {},
   "source": [
    "### Aufgabe 4"
   ]
  },
  {
   "attachments": {},
   "cell_type": "markdown",
   "metadata": {},
   "source": [
    "Berechne per Hand (d.h. Taschenrechner oder Excel) die Näherung der Nullstelle nach 4 Iterationsschritten des gewählten Verfahrens, also $[a_4,b_4]$ bzw. $x_4$. Schreibe das Resultat hier auf:"
   ]
  },
  {
   "attachments": {},
   "cell_type": "markdown",
   "metadata": {},
   "source": [
    "- Bisektion: $x_4 = 1.4375$\n",
    "- Newton: $x_4 = 1.456678347$"
   ]
  },
  {
   "attachments": {},
   "cell_type": "markdown",
   "metadata": {},
   "source": [
    "### Aufgabe 5"
   ]
  },
  {
   "attachments": {},
   "cell_type": "markdown",
   "metadata": {},
   "source": [
    "- Stelle $f(x)$ mithilfe von Python & Matplotlib im Bereich $x\\in[-3,2]$ grafisch dar.\n",
    "- Plotte die oben gegebene Nullstelle `x_wolfram` dazu.\n",
    "- Füge für gute Lesbarkeit auch ein Gitternetz (Grid) hinzu."
   ]
  },
  {
   "cell_type": "code",
   "execution_count": 5,
   "metadata": {},
   "outputs": [
    {
     "data": {
      "image/png": "[encoded data removed]",
      "text/plain": [
       "<Figure size 640x480 with 1 Axes>"
      ]
     },
     "metadata": {},
     "output_type": "display_data"
    }
   ],
   "source": [
    "# Aufgabe 5\n",
    "x = np.linspace(-3, 2)\n",
    "y = f(x)\n",
    "plt.plot(x, y, label=\"f(x)\")\n",
    "plt.plot(x_wolfram, 0, \"mo\", label=\"x_wolfram\")\n",
    "plt.xlabel(\"x\")\n",
    "plt.ylabel(\"y\")\n",
    "plt.grid()\n",
    "plt.legend()\n",
    "plt.show()\n"
   ]
  },
  {
   "attachments": {},
   "cell_type": "markdown",
   "metadata": {},
   "source": [
    "### Aufgabe 6"
   ]
  },
  {
   "attachments": {},
   "cell_type": "markdown",
   "metadata": {},
   "source": [
    "Schreibe eine Funktion in Python, die das gewählte Verfahren implementiert.\n",
    "\n",
    "- *Inputs:* Start-Intervall (`a0, b0`) bzw. den $x$-Startwert (`x0`) und Anzahl Iterationsschritte (`n`)\n",
    "- *Output:* $x$-Wert der Nullstelle nach der Anzahl Schritte\n",
    "- *Option:* Es kann auch noch der Funktionswert an der gefundenen Stelle ausgegeben werden.\n",
    "\n",
    "Teste deine Funktion, indem Du mit den Resultaten aus Aufgabe 4 und `x_wolfram` vergleichst."
   ]
  },
  {
   "cell_type": "code",
   "execution_count": 6,
   "metadata": {},
   "outputs": [],
   "source": [
    "# Aufgabe 6\n",
    "\n",
    "\n",
    "def f(x):\n",
    "    \"\"\"Beispielfunktion\"\"\"\n",
    "    return x**3 + 3 * x**2 - x - 8\n",
    "\n",
    "\n",
    "def fprime(x):\n",
    "    \"\"\"Ableitung der Beispielfunktion, per Hand vorher berechnet\"\"\"\n",
    "    return 3 * x**2 + 6 * x - 1\n"
   ]
  },
  {
   "cell_type": "code",
   "execution_count": 7,
   "metadata": {},
   "outputs": [
    {
     "name": "stdout",
     "output_type": "stream",
     "text": [
      "bisection: x_4 = 1.4375\n"
     ]
    }
   ],
   "source": [
    "def bisection(f, a0, b0, n):\n",
    "    assert a0 < b0 and n >= 0\n",
    "    a, b = a0, b0\n",
    "    for _ in range(n):\n",
    "        ya, yb = f(a), f(b)\n",
    "        assert ya * yb <= 0\n",
    "        x = (a + b) / 2\n",
    "        y = f(x)\n",
    "        if y == 0:\n",
    "            return x\n",
    "        elif ya * y < 0:\n",
    "            b = x\n",
    "        else:\n",
    "            a = x\n",
    "    return x\n",
    "\n",
    "\n",
    "print(\"bisection: x_4 =\", bisection(f, 1, 2, 4))\n"
   ]
  },
  {
   "cell_type": "code",
   "execution_count": 8,
   "metadata": {},
   "outputs": [
    {
     "name": "stdout",
     "output_type": "stream",
     "text": [
      "newton: x_4 = 1.4566783471563658\n"
     ]
    }
   ],
   "source": [
    "def newton(f, fprime, x0, n):\n",
    "    assert n >= 0\n",
    "    x = x0\n",
    "    for _ in range(n):\n",
    "        x = x - f(x) / fprime(x)\n",
    "    return x\n",
    "\n",
    "\n",
    "print(\"newton: x_4 =\", newton(f, fprime, 1, 4))\n"
   ]
  },
  {
   "attachments": {},
   "cell_type": "markdown",
   "metadata": {},
   "source": [
    "### Aufgabe 7 (optional)"
   ]
  },
  {
   "attachments": {},
   "cell_type": "markdown",
   "metadata": {},
   "source": [
    "Ändere die Funktion aus Aufgabe 6 so ab, dass sie statt die Anzahl Iterationen eine Toleranz als Input entgegen nimmt. Diese soll als Abbruchkriterium verwendet werden.\n",
    "\n",
    "- *Inputs:* Start-Intervall (`a0, b0`) bzw. den $x$-Startwert (`x0`) und die Toleranz (`tol`)\n",
    "- *Output:* Liste der $x$-Werte und eine Liste der $y$-Werte aller Schritte. (Beim Bisektionsverfahren jeweils das Zentrum des Intervalls als $x$-Wert ausgeben.)\n",
    "- *Hinweis:* Das Abbruchkriterium hängt von der Toleranz ab:\n",
    "  - Bisektionsverfahren: Abbruch sobald der Betrag des Funktionswerts im Zentrum des Intervalls kleiner als die Toleranz ist.\n",
    "  - Newton-Verfahren: Abbruch sobald der Betrag des Funktionswerts beim aktuellen $x$-Wert kleiner als die Toleranz ist.\n",
    "\n",
    "Berechne die iterative Näherung mit Toleranz $10^{-8}$ (`tol=1e-8`) und stelle die Punkte im Diagramm von Aufgabe 5 als rote Punkte dar."
   ]
  },
  {
   "cell_type": "code",
   "execution_count": 9,
   "metadata": {},
   "outputs": [
    {
     "name": "stdout",
     "output_type": "stream",
     "text": [
      "bisection: ([1.5, 1.25, 1.375, 1.4375, 1.46875, 1.453125, 1.4609375, 1.45703125, 1.455078125, 1.4560546875, 1.45654296875, 1.456787109375, 1.4566650390625, 1.45672607421875, 1.456695556640625, 1.4566802978515625, 1.4566726684570312, 1.4566764831542969, 1.4566783905029297, 1.4566774368286133, 1.4566779136657715, 1.4566781520843506, 1.4566782712936401, 1.456678330898285, 1.4566783607006073, 1.456678345799446, 1.4566783383488655, 1.4566783420741558, 1.456678343936801, 1.4566783430054784], [0.625, -2.609375, -1.103515625, -0.267822265625, 0.171356201171875, -0.050029754638671875, 0.06021261215209961, 0.004978954792022705, -0.022553496062755585, -0.008794297464191914, -0.0019094283925369382, 0.0015343238919740543, -0.00018766207176668104, 0.0006733034540502558, 0.00024281382721369482, 2.757416175214189e-05, -8.004438399922265e-05, -2.6235218371084557e-05, 6.694448781985329e-07, -1.2782893449525545e-05, -6.056725961656184e-06, -2.6936409600608613e-06, -1.0120981457362177e-06, -1.7132665952601656e-07, 2.4905910223083083e-07, 3.886621868787188e-08, -6.623022130725076e-08, -1.368200130968944e-08, 1.2592110465448059e-08, -5.449454221206906e-10])\n"
     ]
    }
   ],
   "source": [
    "# Aufgabe 7\n",
    "def bisection2(f, a0, b0, tol):\n",
    "    assert a0 < b0 and tol > 0\n",
    "    a, b = a0, b0\n",
    "    x = (a + b) / 2\n",
    "    y = f(x)\n",
    "    xs = [x]\n",
    "    ys = [y]\n",
    "    while abs(y) >= tol:\n",
    "        if f(a) * y < 0:\n",
    "            b = x\n",
    "        else:\n",
    "            a = x\n",
    "        x = (a + b) / 2\n",
    "        y = f(x)\n",
    "        xs.append(x)\n",
    "        ys.append(y)\n",
    "    return (xs, ys)\n",
    "\n",
    "\n",
    "print(\"bisection:\", bisection2(f, 1, 2, 1e-8))\n"
   ]
  },
  {
   "cell_type": "code",
   "execution_count": 12,
   "metadata": {},
   "outputs": [
    {
     "name": "stdout",
     "output_type": "stream",
     "text": [
      "newton: ([1, 1.625, 1.4697750702905341, 1.4567670625432623, 1.4566783471563658, 1.456678343044111], [-5, 2.587890625, 0.1860062727299443, 0.0012515180054233355, 5.800666436073243e-08, 0.0])\n"
     ]
    }
   ],
   "source": [
    "def newton2(f, fprime, x0, tol):\n",
    "    assert tol > 0\n",
    "    x = x0\n",
    "    y = f(x)\n",
    "    xs = [x]\n",
    "    ys = [y]\n",
    "    while abs(y) >= tol:\n",
    "        x = x - y / fprime(x)\n",
    "        y = f(x)\n",
    "        xs.append(x)\n",
    "        ys.append(y)\n",
    "    return (xs, ys)\n",
    "\n",
    "\n",
    "print(\"newton:\", newton2(f, fprime, 1, 1e-8))\n"
   ]
  },
  {
   "cell_type": "code",
   "execution_count": 13,
   "metadata": {},
   "outputs": [
    {
     "data": {
      "image/png": "[encoded data removed]",
      "text/plain": [
       "<Figure size 640x480 with 1 Axes>"
      ]
     },
     "metadata": {},
     "output_type": "display_data"
    }
   ],
   "source": [
    "tol = 1e-8\n",
    "x = np.linspace(-3, 2)\n",
    "y = f(x)\n",
    "x_b, y_b = bisection2(f, 1, 2, tol)\n",
    "x_n, y_n = newton2(f, fprime, 1, tol)\n",
    "\n",
    "plt.plot(x, y, label=\"f(x)\")\n",
    "plt.plot(x_b, y_b, \"ro\", label=\"Bisektion\")\n",
    "plt.plot(x_n, y_n, \"kx\", label=\"Newton\")\n",
    "plt.xlabel(\"x\")\n",
    "plt.ylabel(\"y\")\n",
    "plt.grid()\n",
    "plt.legend()\n",
    "plt.show()\n"
   ]
  },
  {
   "attachments": {},
   "cell_type": "markdown",
   "metadata": {},
   "source": [
    "Alternativ kann man auch den Verlauf der Iteration darstellen."
   ]
  },
  {
   "cell_type": "code",
   "execution_count": 18,
   "metadata": {},
   "outputs": [
    {
     "data": {
      "image/png": "[encoded data removed]",
      "text/plain": [
       "<Figure size 640x480 with 1 Axes>"
      ]
     },
     "metadata": {},
     "output_type": "display_data"
    }
   ],
   "source": [
    "plt.plot(y_b, \"ro\", label=\"Bisektion\")\n",
    "plt.plot(y_n, \"kx\", label=\"Newton\")\n",
    "plt.xlabel(\"n\")\n",
    "plt.ylabel(\"y\")\n",
    "plt.grid()\n",
    "plt.legend()\n",
    "plt.show()\n",
    "\n"
   ]
  }
 ],
 "metadata": {
  "kernelspec": {
   "display_name": "Python 3.9.13 ('base')",
   "language": "python",
   "name": "python3"
  },
  "language_info": {
   "codemirror_mode": {
    "name": "ipython",
    "version": 3
   },
   "file_extension": ".py",
   "mimetype": "text/x-python",
   "name": "python",
   "nbconvert_exporter": "python",
   "pygments_lexer": "ipython3",
   "version": "3.10.10"
  },
  "orig_nbformat": 4,
  "vscode": {
   "interpreter": {
    "hash": "0187e7a6eead8ea53be4540e5c8ea9de7c30c610278e3b1fc6e77de1b841b930"
   }
  }
 },
 "nbformat": 4,
 "nbformat_minor": 2
}
