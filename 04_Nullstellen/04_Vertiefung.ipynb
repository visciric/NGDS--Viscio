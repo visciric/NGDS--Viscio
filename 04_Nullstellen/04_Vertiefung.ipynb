{
 "cells": [
  {
   "attachments": {},
   "cell_type": "markdown",
   "metadata": {},
   "source": [
    "# Nullstellen"
   ]
  },
  {
   "attachments": {},
   "cell_type": "markdown",
   "metadata": {},
   "source": [
    "## Vertiefung"
   ]
  },
  {
   "attachments": {},
   "cell_type": "markdown",
   "metadata": {},
   "source": [
    "### Übersicht"
   ]
  },
  {
   "attachments": {},
   "cell_type": "markdown",
   "metadata": {},
   "source": [
    "- Toleranz als Abbruchkriterium\n",
    "- Mehrere Nullstellen\n",
    "- Nullstellen bestimmen mit [`scipy.optimize`](https://docs.scipy.org/doc/scipy/reference/optimize.html)"
   ]
  },
  {
   "cell_type": "code",
   "execution_count": 1,
   "metadata": {},
   "outputs": [],
   "source": [
    "import numpy as np\n",
    "import matplotlib.pyplot as plt\n",
    "from scipy import optimize"
   ]
  },
  {
   "attachments": {},
   "cell_type": "markdown",
   "metadata": {},
   "source": [
    "### Toleranz als Abbruchkriterium"
   ]
  },
  {
   "attachments": {},
   "cell_type": "markdown",
   "metadata": {},
   "source": [
    "Die folgende Funktion hat nur eine (reelle) Nullstelle und zwar bei $x=1$:\n",
    "\n",
    "$$ f(x) = (x-4)^3 + 1 $$"
   ]
  },
  {
   "attachments": {},
   "cell_type": "markdown",
   "metadata": {},
   "source": [
    "#### Fehlerabschätzung bei Bisektionsverfahren"
   ]
  },
  {
   "cell_type": "code",
   "execution_count": null,
   "metadata": {},
   "outputs": [],
   "source": [
    "# Bisektionsverfahren indem man eine Toleranz angibt \n",
    "def f(x):\n",
    "    return (x-4)^3 + 1\n",
    "\n",
    "\n",
    "def bisection(\n",
    "    f, a0, b0, n\n",
    "):  # Funktion , a0 -> erstes Intervall b0 -> zweites Intervall\n",
    "    a, b = a0, b0\n",
    "    ya = f(a)\n",
    "\n",
    "    steps = 0\n",
    "\n",
    "    while steps < n:\n",
    "        # als erstes Mitte bestimmen\n",
    "        x = (b + a) / 2  # als erstes Mitte bestimmen\n",
    "        y = f(x)\n",
    "\n",
    "        # Produkt anschauen und wenn positiv dann nimmt es den x wert b/x und wenn negativ dann  a/x\n",
    "\n",
    "        # hier passiert der Wechsel\n",
    "        if ya * y < 0:\n",
    "            b = x\n",
    "\n",
    "        else:\n",
    "            a = x\n",
    "            ya = y\n",
    "        steps += 1\n",
    "\n",
    "    return x\n",
    "\n",
    "\n",
    "bisection(f, 1, 2, 4)\n"
   ]
  },
  {
   "attachments": {},
   "cell_type": "markdown",
   "metadata": {},
   "source": [
    "#### Fehlerabschätzung beim Neweton-Verfahren"
   ]
  },
  {
   "cell_type": "code",
   "execution_count": null,
   "metadata": {},
   "outputs": [],
   "source": []
  },
  {
   "attachments": {},
   "cell_type": "markdown",
   "metadata": {},
   "source": [
    "### Mehrere Nullstellen"
   ]
  },
  {
   "attachments": {},
   "cell_type": "markdown",
   "metadata": {},
   "source": [
    "Sinus- und Cosinus-Funktionen haben unendlich viele Nullstellen\n",
    "\n",
    "$$ g(x) = 2\\cos(x) + 0.5 $$"
   ]
  },
  {
   "cell_type": "markdown",
   "metadata": {},
   "source": []
  },
  {
   "attachments": {},
   "cell_type": "markdown",
   "metadata": {},
   "source": [
    "### Nullstellen bestimmen mit [`scipy.optimize`](https://docs.scipy.org/doc/scipy/reference/optimize.html)"
   ]
  },
  {
   "cell_type": "code",
   "execution_count": null,
   "metadata": {},
   "outputs": [],
   "source": []
  }
 ],
 "metadata": {
  "kernelspec": {
   "display_name": "Python 3",
   "language": "python",
   "name": "python3"
  },
  "language_info": {
   "codemirror_mode": {
    "name": "ipython",
    "version": 3
   },
   "file_extension": ".py",
   "mimetype": "text/x-python",
   "name": "python",
   "nbconvert_exporter": "python",
   "pygments_lexer": "ipython3",
   "version": "3.10.7"
  },
  "orig_nbformat": 4
 },
 "nbformat": 4,
 "nbformat_minor": 2
}
