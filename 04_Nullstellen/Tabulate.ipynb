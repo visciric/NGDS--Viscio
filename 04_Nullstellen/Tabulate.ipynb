{
 "cells": [
  {
   "attachments": {},
   "cell_type": "markdown",
   "metadata": {},
   "source": [
    "## Tabelle in Python einfügen\n",
    "\n",
    "Im unterstehendem Code findest du eine Anleitung, wie man eine Tabelle in Python erstellt. Wichtig zu sagen ist, dass ``tabulate`` nicht als Standartbibliothek in Python enthalten ist. Für die Nutzung dieser Bibliothek muss sie zusätzlich installiert werden. \n",
    "\n",
    "Die Anleitung und Dokumentation zu tabulate findest du **[hier](https://pypi.org/project/tabulate/)**\n",
    "\n",
    "\n",
    "Weiterführende Informationen findest du **[hier](https://pyneng.readthedocs.io/en/latest/book/12_useful_modules/tabulate.html)**\n",
    "\n",
    "Unten findest du ein Beispiel wie das ganze Aussehen könnte. "
   ]
  },
  {
   "cell_type": "code",
   "execution_count": 1,
   "metadata": {},
   "outputs": [],
   "source": [
    "from tabulate import tabulate\n",
    "import numpy as np"
   ]
  },
  {
   "cell_type": "code",
   "execution_count": 9,
   "metadata": {},
   "outputs": [
    {
     "name": "stdout",
     "output_type": "stream",
     "text": [
      "╒══════╤══════╤══════╤═════╤═════╤═════╤═════╕\n",
      "│   -3 │   -2 │   -1 │   0 │   1 │   2 │   3 │\n",
      "╞══════╪══════╪══════╪═════╪═════╪═════╪═════╡\n",
      "│   -5 │   -2 │   -5 │  -8 │  -5 │  10 │  43 │\n",
      "╘══════╧══════╧══════╧═════╧═════╧═════╧═════╛\n"
     ]
    }
   ],
   "source": [
    "# Beispiel 1\n",
    "\n",
    "\n",
    "# Funktion\n",
    "def f(x):\n",
    "    return x**3 + 3 * x**2 - x - 8\n",
    "\n",
    "\n",
    "# Array in einem vorgegebenen Intervall\n",
    "x = np.array([np.arange(-3, 4, 1)])\n",
    "\n",
    "# Werte die in der ersten Zeile eingefügt werden\n",
    "values = [\"-3\", \"-2\", \"-1\", \"0\", \"1\", \"2\", \"3\"]\n",
    "\n",
    "# Erstellung der Tabelle\n",
    "# f(x) wird in die zweite Zeile eingefügt und values werden in der ersten Zeile eingefügt.\n",
    "# tablefmt steht für die formatierung der Tabelle.\n",
    "table = tabulate(f(x), values, tablefmt=\"fancy_grid\")\n",
    "\n",
    "# Wichtig hier ist, dass man print(table einfügt ansonsten erhält man nicht das gewünschte Resultat.\n",
    "print(table)\n"
   ]
  },
  {
   "cell_type": "code",
   "execution_count": 11,
   "metadata": {},
   "outputs": [
    {
     "name": "stdout",
     "output_type": "stream",
     "text": [
      "| item   |   qty |\n",
      "|--------+-------|\n",
      "| spam   |    42 |\n",
      "| eggs   |   451 |\n",
      "| bacon  |     0 |\n"
     ]
    }
   ],
   "source": [
    "# Beispiel 2\n",
    " \n",
    "table = [[\"spam\",42],[\"eggs\",451],[\"bacon\",0]]\n",
    "\n",
    "headers = [\"item\", \"qty\"]\n",
    "\n",
    "print(tabulate(table, headers, tablefmt=\"orgtbl\"))"
   ]
  },
  {
   "cell_type": "code",
   "execution_count": 12,
   "metadata": {},
   "outputs": [
    {
     "name": "stdout",
     "output_type": "stream",
     "text": [
      "-  -  --\n",
      "0  F  24\n",
      "1  M  19\n",
      "-  -  --\n"
     ]
    }
   ],
   "source": [
    "# Beispiel 3\n",
    "\n",
    "# Mit dem Showindex kann man sich die Zeilenanzahl anzeigen lassen.\n",
    "\n",
    "print(tabulate([[\"F\", 24], [\"M\", 19]], showindex=\"always\"))\n"
   ]
  }
 ],
 "metadata": {
  "kernelspec": {
   "display_name": "venv",
   "language": "python",
   "name": "python3"
  },
  "language_info": {
   "codemirror_mode": {
    "name": "ipython",
    "version": 3
   },
   "file_extension": ".py",
   "mimetype": "text/x-python",
   "name": "python",
   "nbconvert_exporter": "python",
   "pygments_lexer": "ipython3",
   "version": "3.10.7"
  },
  "orig_nbformat": 4
 },
 "nbformat": 4,
 "nbformat_minor": 2
}
