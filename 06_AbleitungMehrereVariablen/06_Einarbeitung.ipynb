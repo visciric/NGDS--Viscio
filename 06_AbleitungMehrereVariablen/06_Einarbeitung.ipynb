{
 "cells": [
  {
   "attachments": {},
   "cell_type": "markdown",
   "metadata": {},
   "source": [
    "# Ableitung mit mehreren Variablen"
   ]
  },
  {
   "attachments": {},
   "cell_type": "markdown",
   "metadata": {},
   "source": [
    "## Arbeitsblatt zur Einarbeitung"
   ]
  },
  {
   "attachments": {},
   "cell_type": "markdown",
   "metadata": {},
   "source": [
    "Dieses Arbeitsblatt muss vor dem Präsenzunterricht durchgearbeitet werden. Hier lernst du die Grundlagen der Analysis mit mehreren Variablen und konkret die Partielle Ableitung kennen. Im Präsenzunterricht werden wir solche Ableitungen numerisch berechnen und weiterverwenden."
   ]
  },
  {
   "attachments": {},
   "cell_type": "markdown",
   "metadata": {},
   "source": [
    "### Partielle Ableitung"
   ]
  },
  {
   "attachments": {},
   "cell_type": "markdown",
   "metadata": {},
   "source": [
    "``Ableiten nach mehreren Variablen beschreibt`` den Prozess, bei dem man die ``Änderung einer Funktion`` in Bezug auf die ``Änderungen mehrerer unabhängiger Variablen`` untersucht. Dies wird häufig beim Modellieren von dynamischen Systemen und in der Optimierung verwendet. Um dies zu tun, verwendet man die sogenannten partiellen Ableitungen, welche die Änderung einer Funktion in Bezug auf eine einzelne unabhängige Variable beschreiben. Die folgenden Websiten und Videos helfen dir die partielle Ableitung zu verstehen.\n",
    "\n",
    "Website:\n",
    "- [Mathebibel.de - Partielle Ableitung](https://www.mathebibel.de/partielle-ableitung)\n",
    "- [Studflix.de - Partielle Ableitung](https://studyflix.de/mathematik/partielle-ableitungen-1341)\n",
    "- [studysmarter.de - Partielle Ableitung](https://www.studysmarter.de/schule/mathe/analysis/partielle-ableitung/)\n",
    "\n",
    "Videos:\n",
    "- [\"Partielle Ableitung\", Georg Hoever](https://www.hm-kompakt.de/video?watch=9309)\n",
    "- [\"ABLEITUNG mehrere Variablen - partiell ableiten mehrdimensional\", MathemaTrick](https://www.youtube.com/watch?v=814w_CKY0l0)\n",
    "- [\"Partielle Ableitung Basics\",  Mathe by Daniel Jung](https://www.youtube.com/watch?v=wdwv80OGCns)\n",
    "- [\"Partielle Ableitung, mehrdimensionale Funktionen ableiten, Variablen\", Kochrezepte für Mathematik](https://www.youtube.com/watch?v=0TAQfqNz46Q&t=747s)"
   ]
  },
  {
   "attachments": {},
   "cell_type": "markdown",
   "metadata": {},
   "source": [
    "### Arbeitsauftrag"
   ]
  },
  {
   "attachments": {},
   "cell_type": "markdown",
   "metadata": {},
   "source": [
    "#### 1. Theorie"
   ]
  },
  {
   "cell_type": "markdown",
   "metadata": {},
   "source": [
    "Schreibe für dich eine Zusammenfassung der vorgehensweise bei einer partiellen Ableitung auf."
   ]
  },
  {
   "attachments": {},
   "cell_type": "markdown",
   "metadata": {},
   "source": [
    "`Partielle Ableitung` -> Teilweise ableiten. \n",
    "\n",
    "Je nach Anzahl variablen gibt es auch dementsprechend viele Ableitungen\n",
    "\n",
    "1. Man nimmt den x-Wert und leitet ihn nach x ab \n",
    "2. Man nimmt die **Ursprüngliche Funktion** und leitet die nach y ab. \n",
    "3. Es gibt jeweils 2 Lösungen, denn es ist die partielle Ableitung. "
   ]
  },
  {
   "attachments": {},
   "cell_type": "markdown",
   "metadata": {},
   "source": [
    "#### 2. Ableitungsregeln\n",
    "\n",
    "Für die *partielle Ableitung* sind die Kenntnise der *normalen* Ableitung grundlegend. Schreibe eine kurze Zusammenfassung der Regeln für das Ableiten von Funktionen von einer Variablen. (Siehe Unterlagen aus der Analysis.)"
   ]
  },
  {
   "attachments": {},
   "cell_type": "markdown",
   "metadata": {},
   "source": [
    "Wie bereits erwähnt, entspricht das partielle Ableiten nach der i-ten Variable genau dem herkömmlichen Ableiten, wenn die übrigen Variablen als Konstanten betrachtet werden. Daher gelten auch die üblichen Ableitungsregeln."
   ]
  },
  {
   "attachments": {},
   "cell_type": "markdown",
   "metadata": {},
   "source": [
    "##### Summenregel\n",
    "\n",
    "Für $f(x) = u(x) + v(x)$ gilt\n",
    "\n",
    "$$ f'(x) = u'(x) + v'(x) $$\n",
    "\n",
    "Beispielsweise gilt für $f(x,y) = 5x^3 + 4y^2 + 4x + 2y$:\n",
    "\n",
    "$$\n",
    "\\begin{align*}\n",
    "    \\dfrac{\\partial f}{\\partial x}(x,y) &= 15x^2+4 \\\\[2ex]\n",
    "    \\dfrac{\\partial f}{\\partial y}(x,y) &= 8y + 2\n",
    "\\end{align*}\n",
    "$$"
   ]
  },
  {
   "attachments": {},
   "cell_type": "markdown",
   "metadata": {},
   "source": [
    "##### Produktregel\n",
    "\n",
    "Für $f(x) = u(x) \\cdot v(x)$ gilt:\n",
    "\n",
    "$$ f'(x) = u'(x) \\cdot v(x) + u(x) \\cdot v'(x) $$\n",
    "\n",
    "Beispielsweise gilt für $f(x,y) = 5x^3 \\cdot \\sin(x) \\cdot 4y^2 \\cdot \\cos(y)$:\n",
    "\n",
    "$$\n",
    "\\begin{align*}\n",
    "    \\frac{\\partial f}{\\partial x}(x,y) &= 15x^2\\cdot \\sin(x)\\cdot 4y^2\\cdot \\cos(y)+5x^3\\cdot \\cos(x)\\cdot 4y^2\\cdot \\cos(y) \\\\[2ex]\n",
    "    \\frac{\\partial f}{\\partial y}(x,y) &= 5x^3\\cdot \\sin(x)\\cdot 8y\\cdot \\cos(y)-5x^3\\cdot \\sin(x)\\cdot 4y^2\\cdot \\sin(y)\n",
    "\\end{align*}\n",
    "$$"
   ]
  },
  {
   "attachments": {},
   "cell_type": "markdown",
   "metadata": {},
   "source": [
    "##### Quotientenregel\n",
    "\n",
    "Für $f(x)=\\frac{u(x)}{v(x)}$ gilt:\n",
    "\n",
    "$$ f'(x)=\\frac{u'(x) \\cdot v(x) - u(x) \\cdot v'(x)}{\\left(v(x)\\right)^2} $$\n",
    "\n",
    "Beispielsweise gilt für $f(x,y) = \\dfrac{x^2 + 3y}{5xy}$:\n",
    "\n",
    "$$\n",
    "\\begin{align*}\n",
    "    \\frac{\\partial f}{\\partial x}(x,y) &= \\frac{2x \\cdot 5xy - \\left(x^2+3y\\right) \\cdot 5y}{\\left(5xy\\right)^2} \\\\[2ex]\n",
    "    \\frac{\\partial f}{\\partial y}(x,y) &= \\frac{3 \\cdot 5xy - \\left(x^2+3y\\right) \\cdot 5x}{\\left(5xy\\right)^2}\n",
    "\\end{align*}\n",
    "$$"
   ]
  },
  {
   "attachments": {},
   "cell_type": "markdown",
   "metadata": {},
   "source": [
    "##### Kettenregel\n",
    "\n",
    "Für $f(x) = u\\left( v(x) \\right)$ gilt:\n",
    "\n",
    "$$ f'(x) = u'\\left( v(x) \\right) \\cdot v'(x) $$\n",
    "\n",
    "Beispielsweise gilt für $f(x,y) = \\ln\\left(x \\cdot y^2\\right)$:\n",
    "\n",
    "$$\n",
    "\\begin{align*}\n",
    "    \\frac{\\partial f}{\\partial x}(x,y) &= \\left(x \\cdot y^2\\right)^{-1} \\cdot y^2 \\\\[2ex]\n",
    "    \\frac{\\partial f}{\\partial y}(x,y) &= \\left(x \\cdot y^2\\right)^{-1} \\cdot x \\cdot 2y\n",
    "\\end{align*}\n",
    "$$"
   ]
  },
  {
   "attachments": {},
   "cell_type": "markdown",
   "metadata": {},
   "source": [
    "#### 3. Notation"
   ]
  },
  {
   "attachments": {},
   "cell_type": "markdown",
   "metadata": {},
   "source": [
    "Partielle Ableitungen schreibt man normalerweise mit dem Zeichen $\\partial$ statt $d$. Oder man verwendet die Kurznotation: Man schreibt diejenige Variable, nach der\n",
    "abgeleitet wird, als Subskript. Somit gibt es drei Schreibweisen:\n",
    "\n",
    "$$ \\frac{\\partial }{\\partial x}f = f_x = \\frac{\\partial f}{\\partial x} $$"
   ]
  },
  {
   "attachments": {},
   "cell_type": "markdown",
   "metadata": {},
   "source": [
    "### 4. Berechnungen von Hand\n",
    "\n",
    "Berechne folgende partielle Ableitung von Hand"
   ]
  },
  {
   "attachments": {},
   "cell_type": "markdown",
   "metadata": {},
   "source": [
    "#### a)\n",
    "\n",
    "Berechne die partiellen Ableitungen nach $x$ und $y$ von $f(x,y) = 3x^2 \\cdot y$."
   ]
  },
  {
   "attachments": {},
   "cell_type": "markdown",
   "metadata": {},
   "source": []
  },
  {
   "attachments": {},
   "cell_type": "markdown",
   "metadata": {},
   "source": [
    "#### b)\n",
    "\n",
    "Berechne alle partiellen Ableitungen von $z = 3^{2x^2+5y}$"
   ]
  },
  {
   "attachments": {},
   "cell_type": "markdown",
   "metadata": {},
   "source": []
  },
  {
   "attachments": {},
   "cell_type": "markdown",
   "metadata": {},
   "source": [
    "#### c)\n",
    "\n",
    "Berechne $\\displaystyle \\frac{\\partial}{\\partial x}\\left( \\frac{\\partial}{\\partial y}\\left[ \\frac{ay}{x} \\right] \\right)$ und umgekehrt $\\displaystyle \\frac{\\partial}{\\partial y}\\left( \\frac{\\partial}{\\partial x}\\left[ \\frac{ay}{x} \\right] \\right)$. Vergleiche die beiden Resultate. Was fällt auf?"
   ]
  },
  {
   "attachments": {},
   "cell_type": "markdown",
   "metadata": {},
   "source": []
  },
  {
   "attachments": {},
   "cell_type": "markdown",
   "metadata": {},
   "source": [
    "#### d)\n",
    "\n",
    "Gegeben ist die Funktion $g(r,s,t) = 4r^2s + (r+7s)^2\\ln(t)$. Berechne $g_r(r,s,t)$, $g_s(r,s,t)$ und $g_t(r,s,t)$."
   ]
  },
  {
   "attachments": {},
   "cell_type": "markdown",
   "metadata": {},
   "source": []
  },
  {
   "attachments": {},
   "cell_type": "markdown",
   "metadata": {},
   "source": [
    "### 5. Interpretation"
   ]
  },
  {
   "attachments": {},
   "cell_type": "markdown",
   "metadata": {},
   "source": [
    "In den folgenden Aufgaben geht es um das Verständnis des Ergebnisses einer partiellen Ableitung."
   ]
  },
  {
   "attachments": {},
   "cell_type": "markdown",
   "metadata": {},
   "source": [
    "#### a) Körpergewicht"
   ]
  },
  {
   "cell_type": "markdown",
   "metadata": {},
   "source": [
    "Angenommen dein Gewicht $m$ in kg ist eine Funktion $m(c,t)$ der Kalorien $c$, die du täglich isst, und der Minuten $t$, die du täglich trainierst.\n",
    "\n",
    "Interpretiere die folgenden Ausdrücke, indem du Einheiten für $m$, $c$ und $t$ verwendest:\n",
    "\n",
    "$$ \\frac{\\partial m}{\\partial c}(2000,15) = 0.02 \\,,\\qquad \\frac{\\partial m}{\\partial t}(2000,15) = -0.025 $$"
   ]
  },
  {
   "attachments": {},
   "cell_type": "markdown",
   "metadata": {},
   "source": [
    "``m ist von c,t abhängig. \n",
    "1. Das heisst wenn man m nach c ableitet enspricht das die Kaloriezunahme trotz gleicher Trainingsdauer. \n",
    "2. Wenn man jedoch m nach t ableitet bekommt man den Gewichts defizit wenn man täglich mehr traniert totz konstanter Kalorienzunahme c``"
   ]
  },
  {
   "attachments": {},
   "cell_type": "markdown",
   "metadata": {},
   "source": [
    "#### b) Ansteckungsrisiko"
   ]
  },
  {
   "attachments": {},
   "cell_type": "markdown",
   "metadata": {},
   "source": [
    "Nehmen wir an, die Virenbelastung der Luft in der Nähe einer erkrankten Person nehme wie $v(d) = \\exp\\left(-d^2/5\\right)$ mit der Distanz $d$ von der infektiösen Person ab.\n",
    "\n",
    "Zudem nimmt das Ansteckungsrisiko $r$ linear mit der Virenbelastung $v$ und der ihr ausgesetzen Zeit $t$ zu, also\n",
    "\n",
    "$$ r(t, d) = t \\cdot v(d) = t \\cdot \\exp\\left(-d^2/5\\right) $$\n",
    "\n",
    "Ein Bild sagt wohl mehr als die Funktionsgleichung:"
   ]
  },
  {
   "cell_type": "code",
   "execution_count": 1,
   "metadata": {},
   "outputs": [
    {
     "data": {
      "image/png": "[encoded data removed]",
      "text/plain": [
       "<Figure size 640x480 with 2 Axes>"
      ]
     },
     "metadata": {},
     "output_type": "display_data"
    }
   ],
   "source": [
    "import numpy as np\n",
    "import matplotlib.pyplot as plt\n",
    "\n",
    "\n",
    "def r(t, d):\n",
    "    return t * np.exp(-(d**2) / 5)\n",
    "\n",
    "\n",
    "t = np.linspace(0, 10, 100)\n",
    "d = np.linspace(0, 5, 100)\n",
    "T, D = np.meshgrid(t, d)\n",
    "R = r(T, D)\n",
    "plt.contourf(T, D, R, 20)\n",
    "plt.plot(8, 2, \"w.\")\n",
    "plt.text(8, 2.2, \"(8, 2)\", color=\"white\", weight=\"bold\")\n",
    "plt.xlabel(\"Zeit t [s]\")\n",
    "plt.ylabel(\"Distanz d [m]\")\n",
    "plt.xlim(t.min(), t.max())\n",
    "plt.ylim(d.min(), d.max())\n",
    "plt.colorbar(label=\"Ansteckungsrisiko r [willkürliche Einheit]\")\n",
    "plt.title(\"Ansteckungsrisiko in Abhängigkeit von Zeit und Distanz\")\n",
    "plt.show()\n"
   ]
  },
  {
   "attachments": {},
   "cell_type": "markdown",
   "metadata": {},
   "source": [
    "Hier nochmals die Funktion: $r(t,d) = t \\cdot \\exp\\left(-d^2/5\\right)$. Das Risiko sei eine einheitslose Grösse.\n",
    "\n",
    "1. Berechne $\\dfrac{\\partial r}{\\partial t}$ und $\\dfrac{\\partial r}{\\partial d}$.\n",
    "2. Bestimme die Einheiten der partiellen Ableitungen.\n",
    "3. Beschreibe die Bedeutung dieser Grössen. Du kannst sie am Punkt $(t, d) = (8, 2)$ auswerten, um konkrete Werte vor dir zu haben. (Der Punkt ist im Diagramm eingezeichnet.)"
   ]
  },
  {
   "attachments": {},
   "cell_type": "markdown",
   "metadata": {},
   "source": [
    "Einheiten = (t)sekunden/(t)metern/(r)willkürliche Einheit -> keine SI-Einheit\n",
    "willkürliche einheit nicht normiert jedoch in einer metrischen Skala dargestellt. \n",
    "Nach (t) Abgeleitet Risiko pro Zeit\n",
    "Nach (d) Abgeleitet Risiko pro Distanz\n",
    "\n",
    "Wenn man nach der x Achse geht, ist das Risiko höher\n",
    "Wenn man nach der y Achse geht , verkleinert sich das Risiko\n",
    "\n",
    "\n",
    "Gradienten"
   ]
  },
  {
   "attachments": {},
   "cell_type": "markdown",
   "metadata": {},
   "source": [
    "### 6. Gradient"
   ]
  },
  {
   "attachments": {},
   "cell_type": "markdown",
   "metadata": {},
   "source": [
    "### anschauen \n",
    "\n",
    "In der Vertiefung wird das Konzept des Gradienten aufgegriffen. Damit alle ein grundsätzliches Verständnis davon haben, empfehlen wir diese beiden Videos\n",
    "\n",
    "- [\"Gradient: Definition\", Georg Hoever](https://www.hm-kompakt.de/video?watch=932)\n",
    "- [\"Gradient: Bedeutung\", Georg Hoever](https://www.hm-kompakt.de/video?watch=933)\n",
    "\n",
    "oder auch eines von diesen hier:\n",
    "\n",
    "- [\"GRADIENT berechnen – mehrdimensionale Funktion\", MathemaTrick](https://www.youtube.com/watch?v=BbOUhSRh57I)\n",
    "- [\"Gradient + Richtung des steilsten Anstiegs\", MathePeter](https://www.youtube.com/watch?v=5wE5SVhe01w)"
   ]
  },
  {
   "attachments": {},
   "cell_type": "markdown",
   "metadata": {},
   "source": [
    "Gradienten steht Senkrecht auf den Höhenlinien. \n",
    "\n",
    "\n",
    "Gradient gibt die ``steilste`` Richtung an "
   ]
  },
  {
   "cell_type": "markdown",
   "metadata": {},
   "source": []
  }
 ],
 "metadata": {
  "kernelspec": {
   "display_name": "venv",
   "language": "python",
   "name": "python3"
  },
  "language_info": {
   "codemirror_mode": {
    "name": "ipython",
    "version": 3
   },
   "file_extension": ".py",
   "mimetype": "text/x-python",
   "name": "python",
   "nbconvert_exporter": "python",
   "pygments_lexer": "ipython3",
   "version": "3.10.7"
  },
  "orig_nbformat": 4,
  "vscode": {
   "interpreter": {
    "hash": "ee54f22f80571d353964b1014e7df2cb4d1465f13e6088ee5e47ae356342d482"
   }
  }
 },
 "nbformat": 4,
 "nbformat_minor": 2
}
