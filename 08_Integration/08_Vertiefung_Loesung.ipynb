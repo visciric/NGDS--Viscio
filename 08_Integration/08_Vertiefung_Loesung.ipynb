{
 "cells": [
  {
   "attachments": {},
   "cell_type": "markdown",
   "metadata": {},
   "source": [
    "# Numerische Integration"
   ]
  },
  {
   "attachments": {},
   "cell_type": "markdown",
   "metadata": {},
   "source": [
    "## Vertiefung"
   ]
  },
  {
   "cell_type": "code",
   "execution_count": 1,
   "metadata": {},
   "outputs": [],
   "source": [
    "import numpy as np\n",
    "import matplotlib.pyplot as plt\n",
    "import scipy\n"
   ]
  },
  {
   "attachments": {},
   "cell_type": "markdown",
   "metadata": {},
   "source": [
    "### Übersicht\n"
   ]
  },
  {
   "attachments": {},
   "cell_type": "markdown",
   "metadata": {},
   "source": [
    "1. Trapezformel vektorisiert implementieren\n",
    "2. Fehlerabschätzung\n",
    "3. Trapezformel für Daten mit ungleichmässigem Abstand\n",
    "4. SciPy-Integration"
   ]
  },
  {
   "attachments": {},
   "cell_type": "markdown",
   "metadata": {},
   "source": [
    "### 1. Trapezformel vektorisiert implementieren"
   ]
  },
  {
   "attachments": {},
   "cell_type": "markdown",
   "metadata": {},
   "source": [
    "Vorgehen beim Integrieren mit der [Trapezregel](https://de.wikipedia.org/wiki/Trapezregel):\n",
    "\n",
    "- Zerlege das Intervall $[a,b]$ in $n$ gleich breite Intervalle.\n",
    "- Berechne Funktionswerte an den Intervallgrenzen und verbinde diese mit Geraden, so dass $n-1$ Trapeze entstehen.\n",
    "- Berechne die Flächen der Trapeze.\n",
    "- Die Summe aller Flächen ergibt eine Näherung des Integrals.\n",
    "- Je größer $n$ desto genauer das Ergebnis.\n",
    "\n",
    "$$ T_n = \\frac{h}{2} \\left( f(a) + 2\\sum_{i=1}^{n-1} f(a + ih) + f(b) \\right) \\,,\\qquad\\text{wobei}\\quad h = \\frac{b-a}{n} $$"
   ]
  },
  {
   "cell_type": "code",
   "execution_count": 2,
   "metadata": {},
   "outputs": [],
   "source": [
    "def trapz_comprehension(func, a, b, n):\n",
    "    h = (b - a) / n\n",
    "    s = sum(func(a + i * h) for i in range(1, n))\n",
    "    return 0.5 * h * (func(a) + 2 * s + func(b))\n"
   ]
  },
  {
   "cell_type": "code",
   "execution_count": 3,
   "metadata": {},
   "outputs": [],
   "source": [
    "def trapz_vectorized(func, a, b, n):\n",
    "    h = (b - a) / n\n",
    "    x = np.linspace(a, b, n + 1)\n",
    "    y = func(x)\n",
    "    return 0.5 * h * (y[0] + 2 * np.sum(y[1:-1]) + y[-1])\n"
   ]
  },
  {
   "cell_type": "markdown",
   "metadata": {},
   "source": [
    "Test mit der Funktion\n",
    "\n",
    "$$ f(x) = \\sin(x) $$\n",
    "\n",
    "[Analytisches Resultat](https://www.wolframalpha.com/input?i=int+sin%28x%29+from+0+to+pi):\n",
    "\n",
    "$$ \\int_0^{\\pi} \\sin(x) \\,dx = 2 $$\n",
    "\n",
    "Numerische Näherung ausrechnen und visualisieren."
   ]
  },
  {
   "cell_type": "code",
   "execution_count": 4,
   "metadata": {},
   "outputs": [
    {
     "name": "stdout",
     "output_type": "stream",
     "text": [
      "(1.9999983550656624, 1.9999983550656624, 0.0)\n",
      "(-1.6449343376301329e-06, -1.6449343376301329e-06)\n"
     ]
    }
   ],
   "source": [
    "n = 1000\n",
    "T1 = trapz_comprehension(np.sin, 0, np.pi, n)\n",
    "T2 = trapz_vectorized(np.sin, 0, np.pi, n)\n",
    "print((T1, T2, T1 - T2))\n",
    "print((T1 - 2, T2 - 2))\n"
   ]
  },
  {
   "cell_type": "code",
   "execution_count": 5,
   "metadata": {},
   "outputs": [
    {
     "name": "stdout",
     "output_type": "stream",
     "text": [
      "920 µs ± 88.1 µs per loop (mean ± std. dev. of 7 runs, 1,000 loops each)\n",
      "52.4 µs ± 5.88 µs per loop (mean ± std. dev. of 7 runs, 10,000 loops each)\n"
     ]
    }
   ],
   "source": [
    "%timeit trapz_comprehension(np.sin, 0, np.pi, n)\n",
    "%timeit trapz_vectorized(np.sin, 0, np.pi, n)"
   ]
  },
  {
   "attachments": {},
   "cell_type": "markdown",
   "metadata": {},
   "source": [
    "### 2. Fehlerabschätzung\n"
   ]
  },
  {
   "attachments": {},
   "cell_type": "markdown",
   "metadata": {},
   "source": [
    "#### Explorativ\n",
    "\n",
    "Abhängigkeit des Fehlers von $n$. Beispiel von oben."
   ]
  },
  {
   "cell_type": "code",
   "execution_count": 6,
   "metadata": {},
   "outputs": [
    {
     "data": {
      "image/png": "[encoded data removed]",
      "text/plain": [
       "<Figure size 640x480 with 1 Axes>"
      ]
     },
     "metadata": {},
     "output_type": "display_data"
    }
   ],
   "source": [
    "ns = np.logspace(1, 5, dtype=int)\n",
    "# ns = [10, 100, 1000, 10000, 100000]\n",
    "errors = np.array([abs(trapz_vectorized(np.sin, 0, np.pi, n) - 2) for n in ns])\n",
    "\n",
    "plt.loglog(ns, errors, label=\"E(n)\")\n",
    "plt.xlabel(\"n\")\n",
    "plt.ylabel(\"| absolute error |\")\n",
    "plt.grid()\n",
    "plt.legend()\n",
    "plt.show()\n"
   ]
  },
  {
   "attachments": {},
   "cell_type": "markdown",
   "metadata": {},
   "source": [
    "Der Fehler $E(n)$ ist eine Gerade im Log-Log-Plot. Das heisst, es handelt sich um eine Potenzfunktion\n",
    "\n",
    "$$ E(n) = C \\cdot n^p $$\n",
    "\n",
    "und $p$ ist die Steigung der Geraden im Log-Log-Plot. Berechnen wir also mal die Steigung zwischen je zwei Punkten und mitteln diese:"
   ]
  },
  {
   "cell_type": "code",
   "execution_count": 7,
   "metadata": {},
   "outputs": [
    {
     "data": {
      "text/plain": [
       "-2.000184977387091"
      ]
     },
     "execution_count": 7,
     "metadata": {},
     "output_type": "execute_result"
    }
   ],
   "source": [
    "np.mean(np.diff(np.log10(errors)) / np.diff(np.log10(ns)))\n"
   ]
  },
  {
   "attachments": {},
   "cell_type": "markdown",
   "metadata": {},
   "source": [
    "#### Trapezregel Abschätzung\n",
    "\n",
    "Eine analytische [Fehlerabschätzung ist in Wikipedia](https://de.wikipedia.org/wiki/Trapezregel#Fehlerabsch%C3%A4tzung) zu finden. Der Fehler\n",
    "\n",
    "$$ E_n = \\int_a^b (x) \\,dx - T_n $$\n",
    "\n",
    "ist beschränkt durch\n",
    "\n",
    "$$ \\left| E_n \\right| \\leq \\frac{(b-a)}{12}\\cdot h^2 M_2 = \\frac{(b-a)^3}{12} \\cdot n^{-2} M_2 $$\n",
    "\n",
    "wobei\n",
    "\n",
    "$$ M_2 = \\max_{a \\leq x \\leq b} \\left| f''(x) \\right| $$\n",
    "\n",
    "Das heisst, der Fehler ist proportional zu $h^2$ bzw. $n^{-2}$, wie wir oben bereits gesehen haben.\n",
    "\n",
    "Zudem ist der Fehler auch proportional zum Maximum der zweiten Ableitung der Funktion, $M_2$. Das heisst, je stärker die Funktion im Intervall $[a,b]$ schwankt (grössere Krümmung), desto grösser ist der Fehler durch die Näherung mit der Trapezregel.\n",
    "\n",
    "Videos:\n",
    "\n",
    "- [Fehler der Trapezregel für numerische Integration - Jörn Loviscach](https://youtu.be/JwPlWzP-K1A)\n",
    "- [Analysis Numerische Integration: Trapezformel Abschätzung des Fehlers (Trapezregel) - Henning Dierks](https://youtu.be/PifHwEaUxoo)\n"
   ]
  },
  {
   "attachments": {},
   "cell_type": "markdown",
   "metadata": {},
   "source": [
    "### 3. Trapezformel für Daten mit ungleichmässigem Abstand"
   ]
  },
  {
   "attachments": {},
   "cell_type": "markdown",
   "metadata": {},
   "source": [
    "#### Beispiel-Daten erzeugen"
   ]
  },
  {
   "cell_type": "code",
   "execution_count": 8,
   "metadata": {},
   "outputs": [
    {
     "data": {
      "image/png": "[encoded data removed]",
      "text/plain": [
       "<Figure size 640x480 with 1 Axes>"
      ]
     },
     "metadata": {},
     "output_type": "display_data"
    }
   ],
   "source": [
    "def gauss(x, mu=0, sigma=1):\n",
    "    return np.exp(-0.5 * ((x - mu) / sigma) ** 2) / (sigma * np.sqrt(2 * np.pi))\n",
    "\n",
    "\n",
    "mu = 1\n",
    "sigma = 0.8\n",
    "x = np.linspace(-2, 3, 100)\n",
    "y = gauss(x, mu, sigma)\n",
    "\n",
    "n_samples = 15\n",
    "rng = np.random.default_rng(8888)\n",
    "x_samples = np.sort(rng.uniform(low=x.min(), high=x.max(), size=n_samples))\n",
    "y_samples = gauss(x_samples, mu, sigma)\n",
    "\n",
    "plt.plot(x, y, label=\"Gauss Funktion\")\n",
    "plt.stem(x_samples, y_samples, \"r\", label=\"Daten & Trapeze\")\n",
    "plt.fill_between(x_samples, y_samples, 0, alpha=0.2, color=\"r\")\n",
    "plt.xlabel(\"x\")\n",
    "plt.ylabel(\"y\")\n",
    "plt.grid()\n",
    "plt.legend()\n",
    "plt.show()\n"
   ]
  },
  {
   "attachments": {},
   "cell_type": "markdown",
   "metadata": {},
   "source": [
    "#### Trapezformel für Daten"
   ]
  },
  {
   "attachments": {},
   "cell_type": "markdown",
   "metadata": {},
   "source": [
    "Die Trapezformel für Daten mit ungleichmässigem Abstand $(x_i, y_i)$ mit $i=0,\\ldots,n$ lautet:\n",
    "\n",
    "$$ T_n = \\frac{1}{2} \\sum_{k=1}^{n} \\left( x_{k} - x_{k-1} \\right) \\left( y_{k} + y_{k-1} \\right) $$\n",
    "\n",
    "Hier ist\n",
    "\n",
    "- $\\Delta x_k = x_{k} - x_{k-1}$ die Breite des $k$-ten Trapezes und\n",
    "- $\\frac{1}{2} \\left( y_{k} + y_{k-1} \\right)$ die mittlere Höhe des $k$-ten Trapezes.\n",
    "\n",
    "Mehr dazu in diesem Video:\n",
    "\n",
    "- [Analysis Numerische Integration: Trapezformel #13-55 - Henning Dierks](https://youtu.be/8i6KtWTec6c)"
   ]
  },
  {
   "attachments": {},
   "cell_type": "markdown",
   "metadata": {},
   "source": [
    "#### Implementation als Comprehension"
   ]
  },
  {
   "attachments": {},
   "cell_type": "markdown",
   "metadata": {},
   "source": [
    "``x[k] - x[k-1]`` schreibe wir wir die **Distanz berechnen wollen!**\n",
    "\n",
    "\n",
    "``y[k] + y[k - 1]`` schreiben wir weil wir den **Mittelwert berechnen wollen**"
   ]
  },
  {
   "cell_type": "code",
   "execution_count": 9,
   "metadata": {},
   "outputs": [
    {
     "data": {
      "text/plain": [
       "0.9624549013464068"
      ]
     },
     "execution_count": 9,
     "metadata": {},
     "output_type": "execute_result"
    }
   ],
   "source": [
    "def trapz_data_comprehension(x, y):\n",
    "    return 0.5 * sum((x[k] - x[k - 1]) * (y[k] + y[k - 1]) for k in range(1, len(x)))\n",
    "\n",
    "\n",
    "trapz_data_comprehension(x_samples, y_samples)\n"
   ]
  },
  {
   "attachments": {},
   "cell_type": "markdown",
   "metadata": {},
   "source": [
    "#### Vektorisierte Implementation"
   ]
  },
  {
   "cell_type": "code",
   "execution_count": 10,
   "metadata": {},
   "outputs": [
    {
     "data": {
      "text/plain": [
       "0.9624549013464068"
      ]
     },
     "execution_count": 10,
     "metadata": {},
     "output_type": "execute_result"
    }
   ],
   "source": [
    "def trapz_data_vectorized(x, y):\n",
    "    return 0.5 * np.sum((x[1:] - x[:-1]) * (y[1:] + y[:-1]))\n",
    "\n",
    "\n",
    "trapz_data_vectorized(x_samples, y_samples)\n"
   ]
  },
  {
   "cell_type": "code",
   "execution_count": 17,
   "metadata": {},
   "outputs": [
    {
     "name": "stdout",
     "output_type": "stream",
     "text": [
      "9.92 µs ± 538 ns per loop (mean ± std. dev. of 7 runs, 100,000 loops each)\n",
      "7.81 µs ± 1.59 µs per loop (mean ± std. dev. of 7 runs, 100,000 loops each)\n"
     ]
    }
   ],
   "source": [
    "%timeit trapz_data_comprehension(x_samples, y_samples)\n",
    "%timeit trapz_data_vectorized(x_samples, y_samples)"
   ]
  },
  {
   "attachments": {},
   "cell_type": "markdown",
   "metadata": {},
   "source": [
    "### 4. SciPy-Integration"
   ]
  },
  {
   "attachments": {},
   "cell_type": "markdown",
   "metadata": {},
   "source": [
    "- Übersichtsseite: [SciPy-Integration](https://docs.scipy.org/doc/scipy/tutorial/integrate.html)\n",
    "- Integration von Funktionen mit [`scipy.integrate.quad`](https://docs.scipy.org/doc/scipy/reference/generated/scipy.integrate.quad.html)\n",
    "- Integration von Daten mit [`scipy.integrate.trapezoid`](https://docs.scipy.org/doc/scipy/reference/generated/scipy.integrate.trapezoid.html)"
   ]
  },
  {
   "cell_type": "code",
   "execution_count": 12,
   "metadata": {},
   "outputs": [
    {
     "data": {
      "text/plain": [
       "(2.0, 2.220446049250313e-14)"
      ]
     },
     "execution_count": 12,
     "metadata": {},
     "output_type": "execute_result"
    }
   ],
   "source": [
    "scipy.integrate.quad(np.sin, 0, np.pi)\n"
   ]
  },
  {
   "cell_type": "code",
   "execution_count": 13,
   "metadata": {},
   "outputs": [
    {
     "data": {
      "text/plain": [
       "1.6449343376301329e-06"
      ]
     },
     "execution_count": 13,
     "metadata": {},
     "output_type": "execute_result"
    }
   ],
   "source": [
    "scipy.integrate.quad(np.sin, 0, np.pi)[0] - trapz_vectorized(np.sin, 0, np.pi, 1000)\n"
   ]
  },
  {
   "attachments": {},
   "cell_type": "markdown",
   "metadata": {},
   "source": [
    "Beispiel mit Daten:"
   ]
  },
  {
   "cell_type": "code",
   "execution_count": 14,
   "metadata": {},
   "outputs": [
    {
     "data": {
      "text/plain": [
       "0.9624549013464068"
      ]
     },
     "execution_count": 14,
     "metadata": {},
     "output_type": "execute_result"
    }
   ],
   "source": [
    "scipy.integrate.trapezoid(y_samples, x_samples)\n"
   ]
  },
  {
   "cell_type": "code",
   "execution_count": 15,
   "metadata": {},
   "outputs": [
    {
     "data": {
      "text/plain": [
       "0.0"
      ]
     },
     "execution_count": 15,
     "metadata": {},
     "output_type": "execute_result"
    }
   ],
   "source": [
    "scipy.integrate.trapezoid(y_samples, x_samples) - trapz_data_vectorized(x_samples, y_samples)\n"
   ]
  },
  {
   "cell_type": "code",
   "execution_count": 19,
   "metadata": {},
   "outputs": [
    {
     "name": "stdout",
     "output_type": "stream",
     "text": [
      "17.2 µs ± 1.29 µs per loop (mean ± std. dev. of 7 runs, 100,000 loops each)\n",
      "7.71 µs ± 594 ns per loop (mean ± std. dev. of 7 runs, 100,000 loops each)\n"
     ]
    }
   ],
   "source": [
    "%timeit scipy.integrate.trapezoid(y_samples, x_samples)\n",
    "%timeit trapz_data_vectorized(x_samples, y_samples)"
   ]
  }
 ],
 "metadata": {
  "kernelspec": {
   "display_name": "Python 3",
   "language": "python",
   "name": "python3"
  },
  "language_info": {
   "codemirror_mode": {
    "name": "ipython",
    "version": 3
   },
   "file_extension": ".py",
   "mimetype": "text/x-python",
   "name": "python",
   "nbconvert_exporter": "python",
   "pygments_lexer": "ipython3",
   "version": "3.10.10"
  },
  "orig_nbformat": 4,
  "vscode": {
   "interpreter": {
    "hash": "596847d8ab6363914fa5ea73948d5a3ce9b81efd154c052ef5f7b14d92cd53e5"
   }
  }
 },
 "nbformat": 4,
 "nbformat_minor": 2
}
