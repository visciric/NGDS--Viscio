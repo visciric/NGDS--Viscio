{
 "cells": [
  {
   "attachments": {},
   "cell_type": "markdown",
   "metadata": {},
   "source": [
    "# Numerische Integration"
   ]
  },
  {
   "attachments": {},
   "cell_type": "markdown",
   "metadata": {},
   "source": [
    "## Übungsblatt"
   ]
  },
  {
   "cell_type": "code",
   "execution_count": 1,
   "metadata": {},
   "outputs": [],
   "source": [
    "import numpy as np\n",
    "import matplotlib.pyplot as plt\n",
    "import scipy\n",
    "\n",
    "\n",
    "def trapz(func, a, b, n):\n",
    "    h = (b - a) / n\n",
    "    x = np.linspace(a, b, n + 1)\n",
    "    y = func(x)\n",
    "    return 0.5 * h * (y[0] + 2 * np.sum(y[1:-1]) + y[-1])\n",
    "\n",
    "\n",
    "def trapz_data(x, y):\n",
    "    return 0.5 * np.sum((x[1:] - x[:-1]) * (y[1:] + y[:-1]))\n"
   ]
  },
  {
   "attachments": {},
   "cell_type": "markdown",
   "metadata": {},
   "source": [
    "### Aufgabe 1"
   ]
  },
  {
   "attachments": {},
   "cell_type": "markdown",
   "metadata": {},
   "source": [
    "Die Funktion \n",
    "\n",
    "$$ f(x) = \\cos\\left( 2 \\pi x (1 + x) \\right) $$\n",
    "\n",
    "deren Ableitung wir bereits mal numerisch berechnet haben soll nun integriert werden:\n",
    "\n",
    "$$ S = \\int_{-1}^1 f(x) \\, dx $$\n",
    "\n",
    "1. Berechne $S$ mit [Wolfram|Alpha](https://www.wolframalpha.com).\n",
    "2. Berechne $S$ mit der passenden Funktion aus `scipy.integrate`.\n",
    "3. Berechne $S$ mit der passenden Variante der Trapezregel für unterschiedliche Anzahl Intervalle $n$. Bestimme $n$, so dass der absolute Fehler verglichen mit dem Resultat von `scipy.integrate` kleiner als $10^{-10}$ ist."
   ]
  },
  {
   "cell_type": "code",
   "execution_count": 2,
   "metadata": {},
   "outputs": [],
   "source": [
    "# 1. Wolfram|Alpha\n"
   ]
  },
  {
   "cell_type": "code",
   "execution_count": 3,
   "metadata": {},
   "outputs": [],
   "source": [
    "# 2. SciPy\n"
   ]
  },
  {
   "cell_type": "code",
   "execution_count": 4,
   "metadata": {},
   "outputs": [],
   "source": [
    "# 3. Trapezregel\n"
   ]
  },
  {
   "cell_type": "code",
   "execution_count": null,
   "metadata": {},
   "outputs": [],
   "source": [
    "\n"
   ]
  },
  {
   "attachments": {},
   "cell_type": "markdown",
   "metadata": {},
   "source": [
    "Also muss $n\\approx 10^{3}$ gewählt werden."
   ]
  },
  {
   "attachments": {},
   "cell_type": "markdown",
   "metadata": {},
   "source": [
    "### Aufgabe 2: Wasserverbrauch"
   ]
  },
  {
   "attachments": {},
   "cell_type": "markdown",
   "metadata": {},
   "source": [
    "#### a) Daten einlesen, darstellen, verstehen"
   ]
  },
  {
   "cell_type": "markdown",
   "metadata": {},
   "source": [
    "1. Lies die Daten in `Wasserverbrauch.csv` ein.\n",
    "2. Stelle den Wasserverbrauch in Abhängigkeit der Zeit dar.\n",
    "3. Schreibe die Achsen mit den korrekten Variablen und deren Einheiten an.\n",
    "4. Bestimme die Einheit des Integrals über den Wasserverbrauch. Also was ist die Bedeutung der Fläche unter dieser Kurve?"
   ]
  },
  {
   "cell_type": "code",
   "execution_count": null,
   "metadata": {},
   "outputs": [],
   "source": []
  },
  {
   "attachments": {},
   "cell_type": "markdown",
   "metadata": {},
   "source": [
    "Das Integral über den Verbrauch (in l/h) ist die Wassermenge in Litern, die im integrierten Zeitraum verbraucht wurde."
   ]
  },
  {
   "attachments": {},
   "cell_type": "markdown",
   "metadata": {},
   "source": [
    "#### b) Daten integrieren"
   ]
  },
  {
   "attachments": {},
   "cell_type": "markdown",
   "metadata": {},
   "source": [
    "Bestimme den Wasserverbrauch von $t=2$ bis und mit $t=5$.\n",
    "\n",
    "Benutze dazu einmal passende Trapezregel-Funktion (zuoberst bereits definiert) und einmal [`scipy.integrate`](https://docs.scipy.org/doc/scipy/tutorial/integrate.html)."
   ]
  },
  {
   "cell_type": "code",
   "execution_count": null,
   "metadata": {},
   "outputs": [],
   "source": []
  },
  {
   "cell_type": "code",
   "execution_count": null,
   "metadata": {},
   "outputs": [],
   "source": []
  },
  {
   "attachments": {},
   "cell_type": "markdown",
   "metadata": {},
   "source": [
    "#### c) Integrierten Bereich darstellen (optional)"
   ]
  },
  {
   "attachments": {},
   "cell_type": "markdown",
   "metadata": {},
   "source": [
    "Stelle die Fläche unter dem Graphen zwischen $t=2$ und $t=5$ mithilfe von [`plt.fill_between`](https://matplotlib.org/stable/api/_as_gen/matplotlib.pyplot.fill_between.html) dar."
   ]
  },
  {
   "cell_type": "code",
   "execution_count": null,
   "metadata": {},
   "outputs": [],
   "source": []
  },
  {
   "attachments": {},
   "cell_type": "markdown",
   "metadata": {},
   "source": [
    "### Aufgabe 3: Temperaturen in Davos"
   ]
  },
  {
   "attachments": {},
   "cell_type": "markdown",
   "metadata": {},
   "source": [
    "Hier werden wir Daten zuerst interpolieren, um die Nullstellen bestimmen zu können. Dann wird zwischen den Nullstellen integriert."
   ]
  },
  {
   "attachments": {},
   "cell_type": "markdown",
   "metadata": {},
   "source": [
    "#### a) Daten einlesen, darstellen, verstehen\n",
    "\n",
    "- Lies die Daten in `TemperaturWeihnachten.csv` ein. Diese enthalten den Temperaturverlauf vom 24. und 25. Dezember in Davos.\n",
    "- Stelle die Temperatur in Abhängigkeit der Zeit dar mit den korrekten Achsenbeschriftungen inklusive Einheiten."
   ]
  },
  {
   "cell_type": "code",
   "execution_count": null,
   "metadata": {},
   "outputs": [],
   "source": []
  },
  {
   "attachments": {},
   "cell_type": "markdown",
   "metadata": {},
   "source": [
    "#### b) Interpolation\n",
    "\n",
    "- Interpoliere die Daten im Bereich $t \\in [1,47]$ an 500 Punkten.\n",
    "- Stelle die Interpolationsfunktion grafisch dar.\n",
    "\n",
    "Tipp: Folgende Funktionen kannst du für diese Aufgabe benutzen:\n",
    "\n",
    "- [`np.linspace`](https://numpy.org/doc/stable/reference/generated/numpy.linspace.html)\n",
    "- [`scipy.interpolate`](https://docs.scipy.org/doc/scipy/reference/interpolate.html)\n"
   ]
  },
  {
   "cell_type": "code",
   "execution_count": null,
   "metadata": {},
   "outputs": [],
   "source": []
  },
  {
   "attachments": {},
   "cell_type": "markdown",
   "metadata": {},
   "source": [
    "#### c) Nullstellen bestimmen"
   ]
  },
  {
   "attachments": {},
   "cell_type": "markdown",
   "metadata": {},
   "source": [
    "Im Diagramm von b) ist ersichtlich, dass die Temperatur an 3 Stellen durch 0 geht.\n",
    "\n",
    "- Finde alle drei Nullstellen.\n",
    "- Stelle sie im Diagramm als rote Punkte dar.\n",
    "\n",
    "Tipp: Folgende Funktionen kannst du für diese Aufgabe benutzen:\n",
    "\n",
    "- [`scipy.optimize.bisect`](https://docs.scipy.org/doc/scipy/reference/generated/scipy.optimize.bisect.html)\n",
    "- [`scipy.optimize.newton`](https://docs.scipy.org/doc/scipy/reference/generated/scipy.optimize.newton.html#scipy.optimize.newton)\n"
   ]
  },
  {
   "cell_type": "code",
   "execution_count": null,
   "metadata": {},
   "outputs": [],
   "source": []
  },
  {
   "cell_type": "code",
   "execution_count": null,
   "metadata": {},
   "outputs": [],
   "source": []
  },
  {
   "attachments": {},
   "cell_type": "markdown",
   "metadata": {},
   "source": [
    "#### c) Mittlere Temperatur bestimmen"
   ]
  },
  {
   "attachments": {},
   "cell_type": "markdown",
   "metadata": {},
   "source": [
    "Berechnen wir die durchschnittliche Temperatur zwischen der 1. und 3. Nullstelle.\n",
    "\n",
    "Der Mittelwert einer Funktion $f(x)$ zwischen $a$ und $b$ ist definiert als\n",
    "\n",
    "$$ \\frac{1}{b-a} \\int_a^b f(x) \\, dx $$\n",
    "\n",
    "- Schreibe eine Funktion `mean_func(func, a, b)`, welche die den Mittelwert einer Funktion `func` zwischen zwei werten `a` und `b` mithilfe von SciPy berechnet.\n",
    "- Benutze diese, um die mittlere Temperatur zwischen der zweiten und dritten Nullstelle zu berechnen.\n"
   ]
  },
  {
   "cell_type": "code",
   "execution_count": null,
   "metadata": {},
   "outputs": [],
   "source": []
  },
  {
   "attachments": {},
   "cell_type": "markdown",
   "metadata": {},
   "source": [
    "#### d) Darstellung"
   ]
  },
  {
   "attachments": {},
   "cell_type": "markdown",
   "metadata": {},
   "source": [
    "- Stelle das Integral in dem Diagramm aus der Aufgabe c) mithilfe von [`plt.fill_between`](https://matplotlib.org/stable/api/_as_gen/matplotlib.pyplot.fill_between.html) dar.\n",
    "- Plotte dazu den Mittelwert zwischen der 1. und 3. Nullstelle als konstante Funktion."
   ]
  },
  {
   "cell_type": "code",
   "execution_count": null,
   "metadata": {},
   "outputs": [],
   "source": []
  }
 ],
 "metadata": {
  "kernelspec": {
   "display_name": "base",
   "language": "python",
   "name": "python3"
  },
  "language_info": {
   "codemirror_mode": {
    "name": "ipython",
    "version": 3
   },
   "file_extension": ".py",
   "mimetype": "text/x-python",
   "name": "python",
   "nbconvert_exporter": "python",
   "pygments_lexer": "ipython3",
   "version": "3.10.10"
  },
  "orig_nbformat": 4,
  "vscode": {
   "interpreter": {
    "hash": "0187e7a6eead8ea53be4540e5c8ea9de7c30c610278e3b1fc6e77de1b841b930"
   }
  }
 },
 "nbformat": 4,
 "nbformat_minor": 2
}
