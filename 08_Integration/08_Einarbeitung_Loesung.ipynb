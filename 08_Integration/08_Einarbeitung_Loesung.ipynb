{
 "cells": [
  {
   "attachments": {},
   "cell_type": "markdown",
   "metadata": {},
   "source": [
    "# Numerische Integration"
   ]
  },
  {
   "attachments": {},
   "cell_type": "markdown",
   "metadata": {},
   "source": [
    "## Arbeitsblatt zur Einarbeitung"
   ]
  },
  {
   "attachments": {},
   "cell_type": "markdown",
   "metadata": {},
   "source": [
    "Dieses Arbeitsblatt muss vor der Lektion am Donnerstag morgen durchgearbeitet werden. Hier lernst du die numerische Integration. Ziel ist es, das Integral einer analytisch gegebenen Funktion numerisch zu berechnen. Dies werden wir rudimentär implemntieren. Den Fall, dass nur Daten anstatt einer analytischen Funktion gegeben sind und weitere Details besprechen wir im Präsenzunterricht.\n"
   ]
  },
  {
   "attachments": {},
   "cell_type": "markdown",
   "metadata": {},
   "source": [
    "## Grundsätzliches Vorgehen\n"
   ]
  },
  {
   "attachments": {},
   "cell_type": "markdown",
   "metadata": {},
   "source": [
    "Das **bestimmte Integral** ist aus dem Modul **Analysis & Algebra** (1. Semester) bekannt. Eine kurze Wiederholung: Das Integral kehr die Ableitung um, d.h. die Integration dient der Rekonstruktion einer Funktion aus ihrer Ableitung. Das bestimmte Integral $\\int_a^b f(x)\\,dx$ kann als die gerichtete Fläche zwischen dem Graphen von $f(x)$ und der $x$-Achse im Bereich $x\\in[a,b]$ interpretiert werden. Der **Hauptsatz der Differential- und Integralrechnung** lässt uns ein bestimmtes Integral berechnen, wenn wir eine Stammfunktion $F(x)$ des Integranden kennen, also\n",
    "\n",
    "$$ F'(x) = f(x) \\qquad\\Rightarrow\\qquad \\int_a^b f(x)\\, dx = F(b) - F(a) $$\n",
    "\n",
    "Die numerische Integration kommt dann zur Anwedung, wenn\n",
    "\n",
    "- der Integrand zawr als Funktion gegeben ist, dessen Stammfunktion jedoch nicht analytisch bestimmt werden kann. Beispiele:\n",
    "  - $ f(x) = \\sin(x)\\cdot x^{-1} $\n",
    "  - $ f(x) = \\exp\\left(-x^2\\right) $ (Gauss-Funktion)\n",
    "- das Integral im Prinzip analytisch integrierbar ist, die analytische Auswertung jedoch unverhältnismässig viel Rechenaufwand erfordert.\n",
    "- der Integrand nur punktweise gegeben ist, also als Datenreihe $(x_i, f(x_i))$."
   ]
  },
  {
   "attachments": {},
   "cell_type": "markdown",
   "metadata": {},
   "source": [
    "### Trapezregel"
   ]
  },
  {
   "attachments": {},
   "cell_type": "markdown",
   "metadata": {},
   "source": [
    "Eine einfache aber bereits recht gute Näherung des bestimmten Integrals erhält man mit der [Trapezregel](https://de.wikipedia.org/wiki/Trapezregel). Schaue dir eines der Erklärvideos an:\n",
    "\n",
    "- [\"TRAPEZREGEL (Numerischer Integration)\" - Mathe Peter](https://www.youtube.com/watch?v=BZbzdsvpc3c)\n",
    "- [\"Näherungsformel zum Trapezverfahren, Numerische Integration\" - Daniel Jung](https://www.youtube.com/watch?v=6hqHufW0dD4)\n"
   ]
  },
  {
   "attachments": {},
   "cell_type": "markdown",
   "metadata": {},
   "source": [
    "## Arbeitsauftrag\n"
   ]
  },
  {
   "cell_type": "code",
   "execution_count": 1,
   "metadata": {},
   "outputs": [],
   "source": [
    "import numpy as np\n",
    "import matplotlib.pyplot as plt\n",
    "import scipy\n"
   ]
  },
  {
   "attachments": {},
   "cell_type": "markdown",
   "metadata": {},
   "source": [
    "### Aufgabe 1\n"
   ]
  },
  {
   "attachments": {},
   "cell_type": "markdown",
   "metadata": {},
   "source": [
    "#### a) Die Trapezregel\n"
   ]
  },
  {
   "attachments": {},
   "cell_type": "markdown",
   "metadata": {},
   "source": [
    "Überlege dir ein Grundsätzliches Vorgehen für die Implementation der Trapezregel.\n"
   ]
  },
  {
   "attachments": {},
   "cell_type": "markdown",
   "metadata": {},
   "source": [
    "- Zerlege das Intervall $[a,b]$ in $n$ gleich breite Intervalle.\n",
    "- Berechne Funktionswerte an den Intervallgrenzen und verbinde diese mit Geraden, so dass $n-1$ Trapeze entstehen.\n",
    "- Berechne die Flächen der Trapeze.\n",
    "- Die Summe aller Flächen ergibt eine Näherung des Integrals.\n",
    "- Je größer $n$ desto genauer das Ergebnis.\n",
    "\n",
    "$$ T_n = \\frac{h}{2} \\left( f(a) + 2\\sum_{i=1}^{n-1} f(a + ih) + f(b) \\right) \\,,\\qquad\\text{wobei}\\quad h = \\frac{b-a}{n} $$\n"
   ]
  },
  {
   "attachments": {},
   "cell_type": "markdown",
   "metadata": {},
   "source": [
    "#### b) Trapezregel implementieren\n"
   ]
  },
  {
   "cell_type": "markdown",
   "metadata": {},
   "source": [
    "Schreibe eine Funktion `trapezregel(func, a, b, n)`, die als Parameter die zu integrierende Funktion `func`, die Integrationsgrenzen `a` und `b` und die Anzahl Trapeze `n` nimmt.\n"
   ]
  },
  {
   "cell_type": "code",
   "execution_count": 2,
   "metadata": {},
   "outputs": [],
   "source": [
    "def trapezregel(func, a, b, n):\n",
    "    h = (b - a) / n\n",
    "    x = a + np.arange(1, n) * h\n",
    "    y = func(x)\n",
    "    sum_trapez = np.sum(y)\n",
    "    return 0.5 * h * (func(a) + 2 * sum_trapez + func(b))\n"
   ]
  },
  {
   "attachments": {},
   "cell_type": "markdown",
   "metadata": {},
   "source": [
    "#### c) Implementation testen\n"
   ]
  },
  {
   "attachments": {},
   "cell_type": "markdown",
   "metadata": {},
   "source": [
    "Berechne das folgende Integral mit deiner Funktion `trapezregel` und `n=4` Trapezen\n",
    "\n",
    "$$ \\int_0^1 e^{x^2} dx $$\n",
    "\n",
    "Genau dieses Integral wird im [Video vom MathePeter](https://youtu.be/BZbzdsvpc3c) berechnet. Er findet das Resultat $\\approx 1.4907$. Du auch?\n"
   ]
  },
  {
   "cell_type": "code",
   "execution_count": 3,
   "metadata": {},
   "outputs": [
    {
     "data": {
      "text/plain": [
       "1.4906788616988553"
      ]
     },
     "execution_count": 3,
     "metadata": {},
     "output_type": "execute_result"
    }
   ],
   "source": [
    "def f(x):\n",
    "    return np.exp(x**2)\n",
    "\n",
    "\n",
    "a = 0\n",
    "b = 1\n",
    "n = 4\n",
    "\n",
    "trapezregel(f, a, b, n)\n"
   ]
  },
  {
   "attachments": {},
   "cell_type": "markdown",
   "metadata": {},
   "source": [
    "#### d) Darstellung\n",
    "\n",
    "1. Stelle $f(x)=\\exp(x^2)$ im Bereich $x \\in [-1.5, 1.5]$ grafisch dar.\n",
    "2. Benutze die Funktion [`plt.fill_between`](https://matplotlib.org/stable/api/_as_gen/matplotlib.pyplot.fill_between.html), um die Fläche zwischen $y=f(x)$ und der $x$-Achse im integrierten Bereich $[0,1]$ einzufärben.\n",
    "3. Füge die 4 linear verbundenen Punkte hinzu, die bei der Berechnng der Trapezregel mit `n=4` benutzt werden. (Dazu kannst du `plt.plot` und `plt.stem` kombinieren.)\n"
   ]
  },
  {
   "cell_type": "code",
   "execution_count": 4,
   "metadata": {},
   "outputs": [
    {
     "data": {
      "image/png": "[encoded data removed]",
      "text/plain": [
       "<Figure size 640x480 with 1 Axes>"
      ]
     },
     "metadata": {},
     "output_type": "display_data"
    }
   ],
   "source": [
    "x = np.linspace(-1.5, 1.5, 100)\n",
    "y = f(x)\n",
    "\n",
    "x_ab = np.linspace(a, b)\n",
    "y_ab = f(x_ab)\n",
    "\n",
    "x_trapez = np.linspace(a, b, n)\n",
    "y_trapez = f(x_trapez)\n",
    "\n",
    "plt.plot(x, y, label=\"$f(x)$\")\n",
    "plt.fill_between(x_ab, y_ab, alpha=0.25, color=\"green\", label=\"$\\int_0^1 f(x)dx$\")\n",
    "plt.stem(x_trapez, y_trapez, \"ro-\")\n",
    "plt.plot(x_trapez, y_trapez, \"ro-\", label=\"Trapeze\")\n",
    "plt.xlabel(\"x\")\n",
    "plt.ylabel(\"y\")\n",
    "plt.xlim(-1.5, 1.5)\n",
    "plt.ylim(0, 10)\n",
    "plt.legend()\n",
    "plt.grid()\n",
    "plt.show()\n"
   ]
  },
  {
   "attachments": {},
   "cell_type": "markdown",
   "metadata": {},
   "source": [
    "### Aufgabe 2\n"
   ]
  },
  {
   "attachments": {},
   "cell_type": "markdown",
   "metadata": {},
   "source": [
    "#### a) Benutzen von SciPy\n"
   ]
  },
  {
   "attachments": {},
   "cell_type": "markdown",
   "metadata": {},
   "source": [
    "Das Modul [`scipy.integrate`](https://docs.scipy.org/doc/scipy/reference/integrate.html) stellt Funktionen fürs Integrieren bereit. Wir benutzen [`scipy.integrate.quad`](https://docs.scipy.org/doc/scipy/reference/generated/scipy.integrate.quad.html#scipy.integrate.quad) für die Integration von Funktionen.\n",
    "\n",
    "Überprüfe die Lösung deiner selbstgeschriebenen Funktion mit verschiedenen `n`-Werten, indem du das Ergebnis mit `scipy.integrate.quad` vergleichst. Benutze auch [Wolfram|Alpha](https://www.wolframalpha.com/), um einen weiteren Vergleichswert zu berechnen."
   ]
  },
  {
   "attachments": {},
   "cell_type": "markdown",
   "metadata": {},
   "source": [
    "Wolfram Alpha: [Lösung](https://www.wolframalpha.com/input/?i=integrate+e%5Ex%5E2+from+0+to+1) 1.46265\n"
   ]
  },
  {
   "cell_type": "code",
   "execution_count": 5,
   "metadata": {},
   "outputs": [
    {
     "data": {
      "text/plain": [
       "(1.4626517459071815, 1.623869645314337e-14)"
      ]
     },
     "execution_count": 5,
     "metadata": {},
     "output_type": "execute_result"
    }
   ],
   "source": [
    "scipy.integrate.quad(f, a, b)\n"
   ]
  },
  {
   "cell_type": "code",
   "execution_count": 6,
   "metadata": {},
   "outputs": [
    {
     "data": {
      "text/plain": [
       "[1.571583165458632,\n",
       " 1.4906788616988553,\n",
       " 1.4697122764296655,\n",
       " 1.464420310149482,\n",
       " 1.4630941026064281,\n",
       " 1.4627623485777272,\n",
       " 1.462679397418588,\n",
       " 1.4626586588377732]"
      ]
     },
     "execution_count": 6,
     "metadata": {},
     "output_type": "execute_result"
    }
   ],
   "source": [
    "[trapezregel(f, a, b, n) for n in [2, 4, 8, 16, 32, 64, 128, 256]]\n"
   ]
  },
  {
   "attachments": {},
   "cell_type": "markdown",
   "metadata": {},
   "source": [
    "#### b) Fehleranalyse\n"
   ]
  },
  {
   "attachments": {},
   "cell_type": "markdown",
   "metadata": {},
   "source": [
    "Berechne den absoluten Fehler in Abhängigkeit von $n$, also die Differenz zwischen der selbst implementierten Trapezregel und `scipy.integrate.quad`.\n",
    "\n",
    "Der absolute Fehler soll positiv sein, wenn das Resultat von `trapezregel` grösser ist als das von SciPy. Stelle den Fehler grafisch dar und schaue dir an, was passiert, wenn du $n$ änderst.\n",
    "\n",
    "- Plote den Fehler in Abhängigkeit von $n$. Wähle $n \\in \\{1, 2, 3, \\ldots , 100\\} $\n",
    "- Benutze [plt.semilogy](https://matplotlib.org/stable/api/_as_gen/matplotlib.pyplot.semilogy.html), um die y-Achse logarithmisch zu skalieren."
   ]
  },
  {
   "cell_type": "code",
   "execution_count": 7,
   "metadata": {},
   "outputs": [
    {
     "data": {
      "image/png": "[encoded data removed]",
      "text/plain": [
       "<Figure size 640x480 with 1 Axes>"
      ]
     },
     "metadata": {},
     "output_type": "display_data"
    }
   ],
   "source": [
    "n_range = np.arange(1, 100)\n",
    "reference = scipy.integrate.quad(f, a, b)[0]\n",
    "error = np.array([trapezregel(f, a, b, n) - reference for n in n_range])\n",
    "\n",
    "plt.semilogy(n_range, error, \".\")\n",
    "plt.grid()\n",
    "plt.xlabel(\"n\")\n",
    "plt.ylabel(\"absoluter Fehler\")\n",
    "plt.show()\n"
   ]
  }
 ],
 "metadata": {
  "kernelspec": {
   "display_name": "Python 3.9.13 ('base')",
   "language": "python",
   "name": "python3"
  },
  "language_info": {
   "codemirror_mode": {
    "name": "ipython",
    "version": 3
   },
   "file_extension": ".py",
   "mimetype": "text/x-python",
   "name": "python",
   "nbconvert_exporter": "python",
   "pygments_lexer": "ipython3",
   "version": "3.9.13"
  },
  "orig_nbformat": 4,
  "vscode": {
   "interpreter": {
    "hash": "4d2556984e1c68bbb8b2e1571fb1e53952da9788a323f9af554c8fb844d871f0"
   }
  }
 },
 "nbformat": 4,
 "nbformat_minor": 2
}
