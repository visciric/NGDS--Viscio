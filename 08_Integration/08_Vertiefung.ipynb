{
 "cells": [
  {
   "attachments": {},
   "cell_type": "markdown",
   "metadata": {},
   "source": [
    "# Numerische Integration"
   ]
  },
  {
   "attachments": {},
   "cell_type": "markdown",
   "metadata": {},
   "source": [
    "## Vertiefung"
   ]
  },
  {
   "cell_type": "code",
   "execution_count": 2,
   "metadata": {},
   "outputs": [],
   "source": [
    "import numpy as np\n",
    "import matplotlib.pyplot as plt\n",
    "import scipy"
   ]
  },
  {
   "attachments": {},
   "cell_type": "markdown",
   "metadata": {},
   "source": [
    "### Übersicht\n"
   ]
  },
  {
   "attachments": {},
   "cell_type": "markdown",
   "metadata": {},
   "source": [
    "1. Trapezformel vektorisiert implementieren\n",
    "2. Fehlerabschätzung\n",
    "3. Trapezformel für Daten mit ungleichmässigem Abstand\n",
    "4. SciPy-Integration"
   ]
  },
  {
   "attachments": {},
   "cell_type": "markdown",
   "metadata": {},
   "source": [
    "### 1. Trapezformel vektorisiert implementieren"
   ]
  },
  {
   "attachments": {},
   "cell_type": "markdown",
   "metadata": {},
   "source": [
    "Vorgehen beim Integrieren mit der [Trapezregel](https://de.wikipedia.org/wiki/Trapezregel):\n",
    "\n",
    "- Zerlege das Intervall $[a,b]$ in $n$ gleich breite Intervalle.\n",
    "- Berechne Funktionswerte an den Intervallgrenzen und verbinde diese mit Geraden, so dass $n-1$ Trapeze entstehen.\n",
    "- Berechne die Flächen der Trapeze.\n",
    "- Die Summe aller Flächen ergibt eine Näherung des Integrals.\n",
    "- Je größer $n$ desto genauer das Ergebnis.\n",
    "\n",
    "$$ T_n = \\frac{h}{2} \\left( f(a) + 2\\sum_{i=1}^{n-1} f(a + ih) + f(b) \\right) \\,,\\qquad\\text{wobei}\\quad h = \\frac{b-a}{n} $$"
   ]
  },
  {
   "cell_type": "code",
   "execution_count": 2,
   "metadata": {},
   "outputs": [],
   "source": [
    "def trapezregel(func, a, b, n):\n",
    "    h = b - a\n",
    "    s = 0\n",
    "    # for i in range(1, n):  # weil range nicht der letzte wert nimmt\n",
    "    # s += func(a + i * h)\n",
    "    s = sum(func(a + i * h) for i in range(1, n))\n",
    "    x = [a + i * h for i in range(1, n)]\n",
    "    s = sum(map(func, x))\n",
    "    s = sum(map(func, x))\n",
    "    s = sum(map(func, [a + i * h for i in range(1, n)] ))\n",
    "    x =  a + np.arange(1,n) * h\n",
    "    return 0.5 * h * (func(a) + 2 * s + func(b))\n"
   ]
  },
  {
   "cell_type": "code",
   "execution_count": 3,
   "metadata": {},
   "outputs": [
    {
     "data": {
      "text/plain": [
       "array([1.5, 2. , 2.5, 3. , 3.5])"
      ]
     },
     "execution_count": 3,
     "metadata": {},
     "output_type": "execute_result"
    }
   ],
   "source": [
    "\n",
    "a = 1 \n",
    "b = 4\n",
    "n = 6 \n",
    "h = (b-a) / n \n",
    "a + np.arange(1,n)*h # array nimmt lässt die aussen punkte aus \n",
    "np.linspace(a+h,b-h,n-1) "
   ]
  },
  {
   "attachments": {},
   "cell_type": "markdown",
   "metadata": {},
   "source": [
    "Test mit der Funktion\n",
    "\n",
    "$$ f(x) = \\sin(x) $$\n",
    "\n",
    "[Analytisches Resultat](https://www.wolframalpha.com/input?i=int+sin%28x%29+from+0+to+2pi):\n",
    "\n",
    "$$ \\int_0^{2\\pi} \\sin(x) \\,dx = 0 $$\n",
    "\n",
    "Numerische Näherung ausrechnen und visualisieren."
   ]
  },
  {
   "cell_type": "code",
   "execution_count": null,
   "metadata": {},
   "outputs": [],
   "source": [
    "def "
   ]
  },
  {
   "cell_type": "code",
   "execution_count": null,
   "metadata": {},
   "outputs": [],
   "source": [
    "n = 10 \n",
    "T1  = trapezregel_comprehension(np.sin, 0, )"
   ]
  },
  {
   "attachments": {},
   "cell_type": "markdown",
   "metadata": {},
   "source": [
    "### 2. Fehlerabschätzung\n"
   ]
  },
  {
   "attachments": {},
   "cell_type": "markdown",
   "metadata": {},
   "source": [
    "#### Explorativ\n",
    "\n",
    "Abhängigkeit des Fehlers von $n$. Beispiel von oben."
   ]
  },
  {
   "cell_type": "code",
   "execution_count": 4,
   "metadata": {},
   "outputs": [
    {
     "data": {
      "text/plain": [
       "array([1.00000000e+01, 1.20679264e+01, 1.45634848e+01, 1.75751062e+01,\n",
       "       2.12095089e+01, 2.55954792e+01, 3.08884360e+01, 3.72759372e+01,\n",
       "       4.49843267e+01, 5.42867544e+01, 6.55128557e+01, 7.90604321e+01,\n",
       "       9.54095476e+01, 1.15139540e+02, 1.38949549e+02, 1.67683294e+02,\n",
       "       2.02358965e+02, 2.44205309e+02, 2.94705170e+02, 3.55648031e+02,\n",
       "       4.29193426e+02, 5.17947468e+02, 6.25055193e+02, 7.54312006e+02,\n",
       "       9.10298178e+02, 1.09854114e+03, 1.32571137e+03, 1.59985872e+03,\n",
       "       1.93069773e+03, 2.32995181e+03, 2.81176870e+03, 3.39322177e+03,\n",
       "       4.09491506e+03, 4.94171336e+03, 5.96362332e+03, 7.19685673e+03,\n",
       "       8.68511374e+03, 1.04811313e+04, 1.26485522e+04, 1.52641797e+04,\n",
       "       1.84206997e+04, 2.22299648e+04, 2.68269580e+04, 3.23745754e+04,\n",
       "       3.90693994e+04, 4.71486636e+04, 5.68986603e+04, 6.86648845e+04,\n",
       "       8.28642773e+04, 1.00000000e+05])"
      ]
     },
     "execution_count": 4,
     "metadata": {},
     "output_type": "execute_result"
    }
   ],
   "source": [
    "np.logspace"
   ]
  },
  {
   "attachments": {},
   "cell_type": "markdown",
   "metadata": {},
   "source": [
    "### Logarithmische skala entscheiden \n",
    "\n",
    "**bei den einfach und zweifach logarithmisierte funktion macht man an den x, y Achse**\n",
    "\n",
    "**einfache logarithmus und gerade -> exponential**\n",
    "**zweifach logarithmus und gerade -> potenzfunktion**"
   ]
  },
  {
   "attachments": {},
   "cell_type": "markdown",
   "metadata": {},
   "source": [
    "je grösser f'' ist umso schlechter ist der fehler -> grösser \n",
    "das heisst wiederrum dass man n wieder grösser wählen muss um diesen fehler zu kompensieren was wiederrum einen grösseren E_wert git"
   ]
  },
  {
   "attachments": {},
   "cell_type": "markdown",
   "metadata": {},
   "source": [
    "#### Trapezregel Abschätzung\n",
    "\n",
    "Eine analytische Fehlerabschätzung ist auf [Wikipedia](https://de.wikipedia.org/wiki/Trapezregel) zu finden. Der Fehler\n",
    "\n",
    "$$ E_n = \\int_a^b (x) \\,dx - T_n $$\n",
    "\n",
    "ist beschränkt durch\n",
    "\n",
    "$$ \\left| E_n \\right| \\leq \\frac{(b-a)}{12} h^2 M_2 = \\frac{(b-a)^3}{12 n^2} M_2 $$\n",
    "\n",
    "wobei\n",
    "\n",
    "$$ M_2 = \\max_{a \\leq x \\leq b} \\left| f''(x) \\right| $$\n",
    "\n",
    "\n",
    "Videos:\n",
    "\n",
    "- [Fehler der Trapezregel für numerische Integration - Jörn Loviscach](https://youtu.be/JwPlWzP-K1A)\n",
    "- [Analysis Numerische Integration: Trapezformel Abschätzung des Fehlers (Trapezregel) - Henning Dierks](https://youtu.be/PifHwEaUxoo)\n"
   ]
  },
  {
   "attachments": {},
   "cell_type": "markdown",
   "metadata": {},
   "source": [
    "### 3. Trapezformel für Daten mit ungleichmässigem Abstand"
   ]
  },
  {
   "cell_type": "code",
   "execution_count": 4,
   "metadata": {},
   "outputs": [
    {
     "data": {
      "image/png": "[encoded data removed]",
      "text/plain": [
       "<Figure size 640x480 with 1 Axes>"
      ]
     },
     "metadata": {},
     "output_type": "display_data"
    }
   ],
   "source": [
    "def gauss(x, mu=0, sigma=1):\n",
    "    return np.exp(-0.5 * ((x - mu) / sigma) ** 2) / (sigma * np.sqrt(2 * np.pi))\n",
    "\n",
    "\n",
    "x = np.linspace(-2, 2, 100)\n",
    "y = gauss(x)\n",
    "\n",
    "n_samples = 10\n",
    "rng = np.random.default_rng(8888)\n",
    "xi = np.round(np.sort(rng.uniform(low=x.min(), high=x.max(), size=n_samples)), 2)\n",
    "yi = np.round(gauss(xi), 2)\n",
    "\n",
    "plt.plot(x, y, \"--\", label=\"Gauss function\")\n",
    "plt.plot(xi, yi, \"o-\", label=\"data\")\n",
    "plt.xlabel(\"x\")\n",
    "plt.ylabel(\"y\")\n",
    "plt.grid()\n",
    "plt.legend()\n",
    "plt.show()\n"
   ]
  },
  {
   "attachments": {},
   "cell_type": "markdown",
   "metadata": {},
   "source": [
    "Trapezformel für Daten mit ungleichmässigem Abstand."
   ]
  },
  {
   "cell_type": "code",
   "execution_count": null,
   "metadata": {},
   "outputs": [],
   "source": [
    "def gauss_quadratur(x_data, y_data):\n",
    "    dx = np.diff(x_data)\n",
    "    return\n"
   ]
  },
  {
   "attachments": {},
   "cell_type": "markdown",
   "metadata": {},
   "source": [
    "### 4. SciPy-Integration"
   ]
  },
  {
   "attachments": {},
   "cell_type": "markdown",
   "metadata": {},
   "source": [
    "- Übersichtsseite: [SciPy-Integration](https://docs.scipy.org/doc/scipy/tutorial/integrate.html)\n",
    "- Integration von Funktionen mit [`scipy.integrate.quad`](https://docs.scipy.org/doc/scipy/reference/generated/scipy.integrate.quad.html)\n",
    "- Integration von Daten mit [`scipy.integrate.trapezoid`](https://docs.scipy.org/doc/scipy/reference/generated/scipy.integrate.trapezoid.html)"
   ]
  }
 ],
 "metadata": {
  "kernelspec": {
   "display_name": "Python 3",
   "language": "python",
   "name": "python3"
  },
  "language_info": {
   "codemirror_mode": {
    "name": "ipython",
    "version": 3
   },
   "file_extension": ".py",
   "mimetype": "text/x-python",
   "name": "python",
   "nbconvert_exporter": "python",
   "pygments_lexer": "ipython3",
   "version": "3.10.7"
  },
  "orig_nbformat": 4,
  "vscode": {
   "interpreter": {
    "hash": "596847d8ab6363914fa5ea73948d5a3ce9b81efd154c052ef5f7b14d92cd53e5"
   }
  }
 },
 "nbformat": 4,
 "nbformat_minor": 2
}
