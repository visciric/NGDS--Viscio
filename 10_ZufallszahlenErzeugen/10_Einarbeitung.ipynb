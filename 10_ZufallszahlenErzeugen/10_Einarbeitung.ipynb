{
 "cells": [
  {
   "attachments": {},
   "cell_type": "markdown",
   "metadata": {},
   "source": [
    "# Zufallszahlen Erzeugen"
   ]
  },
  {
   "attachments": {},
   "cell_type": "markdown",
   "metadata": {},
   "source": [
    "## Arbeitsblatt zur Einarbeitung"
   ]
  },
  {
   "attachments": {},
   "cell_type": "markdown",
   "metadata": {},
   "source": [
    "Dieses Arbeitsblatt muss vor dem Präsenzunterricht durchgearbeitet werden.\n",
    "\n",
    "Das Ziel ist, ein einfaches Verständnis für die Erzeugung von Zufallszahlen zu bekommen. Dazu soll die \"Middle-Square-Methode\" implementiert und untersucht werden."
   ]
  },
  {
   "attachments": {},
   "cell_type": "markdown",
   "metadata": {},
   "source": [
    "## Pseudozufallszahlen"
   ]
  },
  {
   "attachments": {},
   "cell_type": "markdown",
   "metadata": {},
   "source": [
    "Die Erzeugung von Zufallszahlen ist ein wichtiger Bestandteil vieler Anwendungen:\n",
    "\n",
    "- **Simulationen** von biologischen, chemischen oder physikalischen Prozessen, aber auch von Wirtschaftssystemen benötigen Zufallszahlen.\n",
    "- **Optimierungsverfahren** verwenden Zufallszahlen, um verschiedene Startwerte zu erzeugen und im Suchraum umherzuspringen.\n",
    "- **Verifikation** von Algorithmen, Software und Hardware wird mithilfe von Testdaten gemacht, die auf Zufallszahlen basieren.\n",
    "- **Statistische Analysen** benötigen Zufallszahlen, beispielsweise um Signifikanz und Konfidenzintervalle zu schätzen.\n",
    "- In der **Kryptographie** werden Schlüssel für die Verschlüsselung von Daten mithilfe von Zufallszahlen erzeugt werden.\n",
    "- In **Computerspielen** werden zufällige Ereignisse und Ergebnisse mit Zufallszahlen generiert.\n",
    "\n",
    "Echte Zufallszahlen werden durch natürliche Phänomene wie Atmosphärenrauschen, Radioaktivität oder die stochastischen Natur der Quantenphysik erzeugt. Diese Zufallszahlen sind wirklich zufällig und können nicht vorhergesagt werden. Sie sind für viele Anwendungen nicht geeignet, da sie nicht reproduzierbar sind. Allerdings können sie in der Kryptographie verwendet werden, um Schlüssel zu erzeugen, die nicht vorhergesagt werden können. Quantencomputer können also wirklich zufällige Zahlen erzeugen, weshalb Quantencomputer im Begriff sind, die Kryptographie zu revolutionieren.\n",
    "\n",
    "Digitale Computer hingegen können keine wirklich zufälligen Zahlen erzeugen, da sie deterministisch arbeiten. [Pseudozufallszahlen](https://de.wikipedia.org/wiki/Pseudozufall) werden durch deterministische Algorithmen generiert, die jedoch zufällig genug für viele Anwendungen sind. Sie sind reproduzierbar und können daher für Simulationen, Tests und statistische Analysen verwendet werden.\n",
    "\n",
    "Es gibt verschiedene Algorithmen zur Erzeugung von Pseudozufallszahlen, darunter der Middle Square Number Algorithm (MSNA), der Linear Congruential Generator (LCG) und der Mersenne Twister.\n",
    "\n",
    "Bei der Erzeugung von Zufallszahlen ist es wichtig, dass der Algorithmus eine ausreichend lange Sequenz von Zahlen erzeugt, die sich nicht wiederholen. Ausserdem müssen die generierten Zahlen statistisch unabhängig und gleichverteilt sein, um ein zufälliges Verhalten zu gewährleisten.\n",
    "\n",
    "In der Programmierung können Zufallszahlen durch die Verwendung von speziellen Funktionen oder Bibliotheken erzeugt werden. Diese verwenden unterschiedliche Algorithmen, die unterschiedliche Eigenschaften haben. Die Wahl des Algorithmus hängt von der Anwendung ab.\n",
    "\n",
    "- Random sampling mit [`numpy.random`](https://numpy.org/doc/stable/reference/random/index.html)\n",
    "- Zufallsvariablen in ScyPy mit [`scipy.stats`](https://docs.scipy.org/doc/scipy/reference/stats.html#probability-distributions)"
   ]
  },
  {
   "cell_type": "code",
   "execution_count": 18,
   "metadata": {},
   "outputs": [],
   "source": [
    "import matplotlib.pyplot as plt\n",
    "import numpy as np "
   ]
  },
  {
   "attachments": {},
   "cell_type": "markdown",
   "metadata": {},
   "source": [
    "## Middle-Square-Methode"
   ]
  },
  {
   "attachments": {},
   "cell_type": "markdown",
   "metadata": {},
   "source": [
    "Die [Middle-Square-Methode (MSM)](https://de.wikipedia.org/wiki/Mittquadratmethode) ist ein einfacher Algorithmus zur Generierung von Pseudozufallszahlen. Er wurde erstmals 1946 von John von Neumann vorgestellt und ist ein Beispiel für einen deterministischen Algorithmus, der auf einem Anfangswert (engl. *seed*) basiert.\n",
    "\n",
    "Die MSM verwendet eine einfache Formel, um den nächsten Wert in der Zahlenfolge zu berechnen. Zunächst wird der Seed quadriert und das Ergebnis dann in der Mitte abgeschnitten, um eine Zahl mit der gleichen Anzahl an Stellen wie der Seed zu erhalten. Diese Zahl wird dann als nächster Seed verwendet, um den nächsten Wert in der Folge zu generieren.\n",
    "\n",
    "Die MSM ist zwar einfach zu implementieren, hat aber einige Nachteile. Wenn der Seed bestimmte Eigenschaften hat, kann es zu einem Zyklus von Zahlen kommen, die sich ständig wiederholen. Weil die Zyklen vergleichsweise kurz sind, folgen die Zahlen einem einfach verhersehbaren Muster und sind daher für moderne Anwendugen nicht genügend pseudo-zufällig.\n",
    "\n",
    "Dennoch ist die MSM ein interessantes Beispiel dafür, wie einfache mathematische Formeln zur Erzeugung von Pseudozufallszahlen verwendet werden können.\n",
    "\n",
    "- [\"middle-square method\" - Wikipedia](https://en.wikipedia.org/wiki/Middle-square_method)\n",
    "\n",
    "Das folgende Video zeigt, wie der MSM Algorithmus funktioniert:\n",
    "\n",
    "- [\"Pseudorandom number generators | Computer Science | Khan Academy\" - Khan Academy Labs](https://www.youtube.com/watch?v=GtOt7EBNEwQ)\n",
    "\n",
    "Weiteres interessantes Video:\n",
    "\n",
    "- [\"How to Generate Pseudorandom Numbers | Infinite Series\" - PBS Infinite Series](https://www.youtube.com/watch?v=C82JyCmtKWg)\n",
    "\n",
    "Und für wirklich motivierte noch ein weiteres Video:\n",
    "\n",
    "- [\"Wie kommt der Zufall in den Computer? (Teil 1 von 2)\" - Weitz / HAW HAmburg](https://www.youtube.com/watch?v=Q4J0-uvAuPI)"
   ]
  },
  {
   "cell_type": "code",
   "execution_count": 19,
   "metadata": {},
   "outputs": [
    {
     "name": "stdout",
     "output_type": "stream",
     "text": [
      "#1: 8834\n",
      "#2: 395\n",
      "#3: 1560\n",
      "#4: 4336\n",
      "#5: 8008\n",
      "#6: 1280\n",
      "#7: 6384\n",
      "#8: 7554\n",
      "#9: 629\n",
      "#10: 3956\n",
      "#11: 6499\n",
      "#12: 2370\n",
      "#13: 6169\n",
      "#14: 565\n",
      "#15: 3192\n",
      "#16: 1888\n",
      "#17: 5645\n",
      "#18: 8660\n",
      "#19: 9956\n",
      "#20: 1219\n",
      "#21: 4859\n",
      "#22: 6098\n",
      "#23: 1856\n",
      "#24: 4447\n",
      "#25: 7758\n",
      "#26: 1865\n",
      "#27: 4782\n",
      "#28: 8675\n",
      "#29: 2556\n",
      "#30: 5331\n",
      "#31: 4195\n",
      "#32: 5980\n",
      "#33: 7604\n",
      "#34: 8208\n",
      "#35: 3712\n",
      "#36: 7789\n",
      "#37: 6685\n",
      "#38: 6892\n",
      "#39: 4996\n",
      "#40: 9600\n",
      "#41: 1600\n",
      "#42: 5600\n",
      "#43: 3600\n",
      "#44: 9600\n",
      "We began with 29475996 and have repeated ourselves after 44 steps with 9600.\n"
     ]
    }
   ],
   "source": [
    "seed_number = 29475996#int(input(\"Please enter a four-digit number:\\n[####] \"))\n",
    "number = seed_number\n",
    "already_seen = set()\n",
    "counter = 0\n",
    "\n",
    "while number not in already_seen:\n",
    "    counter += 1\n",
    "    already_seen.add(number)\n",
    "    number = int(str(number * number).zfill(8)[2:6])  # zfill adds padding of zeroes\n",
    "    print(f\"#{counter}: {number}\")\n",
    "\n",
    "print(f\"We began with {seed_number} and\"\n",
    "      f\" have repeated ourselves after {counter} steps\"\n",
    "      f\" with {number}.\")"
   ]
  },
  {
   "attachments": {},
   "cell_type": "markdown",
   "metadata": {},
   "source": [
    "## Arbeitsauftrag"
   ]
  },
  {
   "attachments": {},
   "cell_type": "markdown",
   "metadata": {},
   "source": [
    "### Aufgabe 1: Implementierung der Middle-Square-Methode\n",
    "\n",
    "Wir implementieren die Middle-Square-Methode für 4-stellige Zahlen."
   ]
  },
  {
   "attachments": {},
   "cell_type": "markdown",
   "metadata": {},
   "source": [
    "#### a) Implementierung Schritt 1"
   ]
  },
  {
   "attachments": {},
   "cell_type": "markdown",
   "metadata": {},
   "source": [
    "Wir implementieren die Middle-Square-Methode für 4-stellige Zahlen.\n",
    "\n",
    "Programmiere zuerst eine Funktion namens `msm_next(number)`, die eine ganze Zahl `number` mit 4 Stellen als Parameter nimmt. Sie soll die nächste Zahl in der Zahlenfolge nach dem MSM Algorithmus zurück geben. Validiere deine Implementierung mit den folgenden Beispielen und weiteren Fällen, die du dir selbst ausdenkst:\n",
    "\n",
    "- $3333 \\to 3333^2 = 11108889 \\to 1088$\n",
    "- $1234 \\to 1234^2 = 1522756 = 01522756 \\to 5227$\n",
    "\n",
    "*Hinweise:*\n",
    "\n",
    "- Mit `str()` und `int()` wandelt man Zahlen in Strings und umgekehrt um.\n",
    "- Ein Teil eines Strings kann mit Slicing extrahiert werden.\n",
    "- Das Quadrat einer 4-stelligen Zahl hat nicht immer 8 Stellen, wie im Beispiel mit $1234$ zu sehen ist. Führende Nullen können mit `str.zfill()` hinzugefügt werden.\n",
    "\n",
    "Links:\n",
    "\n",
    "- [Python String zfill() Method - w3schools](https://www.w3schools.com/python/ref_string_zfill.asp)\n",
    "- [Python String Methods - Python docs](https://docs.python.org/3/library/stdtypes.html#string-methods)"
   ]
  },
  {
   "cell_type": "code",
   "execution_count": 20,
   "metadata": {},
   "outputs": [],
   "source": [
    "# macht aus einem int einen neuen int \n",
    "\n",
    "def msm_next(number):\n",
    "    return int(str(number * number).zfill(8)[2:6])"
   ]
  },
  {
   "cell_type": "code",
   "execution_count": 21,
   "metadata": {},
   "outputs": [
    {
     "name": "stdout",
     "output_type": "stream",
     "text": [
      "9760\n",
      "8976016\n"
     ]
    }
   ],
   "source": [
    "print(msm_next(2996))\n",
    "print(2996**2)\n"
   ]
  },
  {
   "attachments": {},
   "cell_type": "markdown",
   "metadata": {},
   "source": [
    "#### b) Implementierung Schritt 2"
   ]
  },
  {
   "attachments": {},
   "cell_type": "markdown",
   "metadata": {},
   "source": [
    "Nun schreibst du eine Funktion namenes `msm(seed, n)`, die einen Startwert `seed` und eine Anzahl an Schritten `n` als Parameter nimmt. Sie soll `msm_next()` benutzen, um ausgehend vom Startwert eine Liste von `n` Pseudozufallszahlen nach der MSM zu erzeugen. Das heisst, der Seed kommt nicht in der Liste vor, sondern nur die `n` darauffolgenden Zahlen."
   ]
  },
  {
   "cell_type": "code",
   "execution_count": 22,
   "metadata": {},
   "outputs": [
    {
     "data": {
      "text/plain": [
       "[9760, 2576, 6357, 4114, 9249, 5440, 5936, 2360, 5696, 4444]"
      ]
     },
     "execution_count": 22,
     "metadata": {},
     "output_type": "execute_result"
    }
   ],
   "source": [
    "import numpy as np\n",
    "def msm(seed, n):\n",
    "    result = []\n",
    "    current = seed\n",
    "    for i in range(n): #i wird nicht benutzt weil wir nicht den index verwenden sondern die nummer \n",
    "        current = msm_next(current)\n",
    "        result.append(current)\n",
    "    return result\n",
    "msm(2996,10)"
   ]
  },
  {
   "attachments": {},
   "cell_type": "markdown",
   "metadata": {},
   "source": [
    "#### c) Testen der Funktion"
   ]
  },
  {
   "attachments": {},
   "cell_type": "markdown",
   "metadata": {},
   "source": [
    "Teste die Funktion `msm()` mit einem Seed von 1547 und lasse dir 100 Zahlen ausgeben.\n",
    "\n",
    "Speichere die Zahlen in einer Variablen `rnd_numbers` ab und schaue sie an. Was fällt dir auf?\n",
    "\n",
    "Überprüfe, dass die Summe der Zahlen 510531 ist."
   ]
  },
  {
   "attachments": {},
   "cell_type": "markdown",
   "metadata": {},
   "source": [
    "**Ab der 75. Zahl beginnen sich die Zahlen zu repetieren**"
   ]
  },
  {
   "cell_type": "code",
   "execution_count": 23,
   "metadata": {},
   "outputs": [
    {
     "name": "stdout",
     "output_type": "stream",
     "text": [
      "[3932, 4606, 2152, 6311, 8287, 6743, 4680, 9024, 4325, 7056, 7871, 9526, 7446, 4429, 6160, 9456, 4159, 2972, 8327, 3389, 4853, 5516, 4262, 1646, 7093, 3106, 6472, 8867, 6236, 8876, 7833, 3558, 6593, 4676, 8649, 8052, 8347, 6724, 2121, 4986, 8601, 9772, 4919, 1965, 8612, 1665, 7722, 6292, 5892, 7156, 2083, 3388, 4785, 8962, 3174, 742, 5505, 3050, 3025, 1506, 2680, 1824, 3269, 6863, 1007, 140, 196, 384, 1474, 1726, 9790, 8441, 2504, 2700, 2900, 4100, 8100, 6100, 2100, 4100, 8100, 6100, 2100, 4100, 8100, 6100, 2100, 4100, 8100, 6100, 2100, 4100, 8100, 6100, 2100, 4100, 8100, 6100, 2100, 4100]\n",
      "510531\n"
     ]
    }
   ],
   "source": [
    "rnd_numbers = msm(1547,100)\n",
    "print(rnd_numbers)\n",
    "print(sum(rnd_numbers))"
   ]
  },
  {
   "attachments": {},
   "cell_type": "markdown",
   "metadata": {},
   "source": [
    "#### d) Histogramm"
   ]
  },
  {
   "cell_type": "code",
   "execution_count": 24,
   "metadata": {},
   "outputs": [
    {
     "data": {
      "image/png": "[encoded data removed]",
      "text/plain": [
       "<Figure size 640x480 with 1 Axes>"
      ]
     },
     "metadata": {},
     "output_type": "display_data"
    }
   ],
   "source": [
    "plt.hist(rnd_numbers, bins=20, \n",
    "         density=True, edgecolor=\"black\",color=\"lightsalmon\")\n",
    "plt.title(\"Zufallszahlen\")\n",
    "plt.xlabel(\"Zahlen\")\n",
    "plt.ylabel(\"Häufigkeit\")\n",
    "plt.show()\n"
   ]
  },
  {
   "cell_type": "code",
   "execution_count": 25,
   "metadata": {},
   "outputs": [
    {
     "data": {
      "image/png": "[encoded data removed]",
      "text/plain": [
       "<Figure size 640x480 with 1 Axes>"
      ]
     },
     "metadata": {},
     "output_type": "display_data"
    }
   ],
   "source": [
    "plt.hist(rnd_numbers, bins=30, \n",
    "         density=True, edgecolor=\"black\",color=\"lightsalmon\")\n",
    "plt.title(\"Zufallszahlen\")\n",
    "plt.xlabel(\"Zahlen\")\n",
    "plt.ylabel(\"Häufigkeit\")\n",
    "plt.show()\n"
   ]
  },
  {
   "attachments": {},
   "cell_type": "markdown",
   "metadata": {},
   "source": [
    "### Erkenntnis\n",
    "Auffallend ist, dass das Histogramm der generieten Zahlen keine gleichmässige Verteilung aufweist. Ein Muster ist erkennbar. Ich denke, dass das daran liegt, dass der MSM nur eine begranzte Anzahl an möglichen Werten erzeugen kann, da er nur 4-Stellige Zahlen verwendet. Das heisst, dass wenn man den Alghorithmus über eine bestimmte Zeit lässt, sich die Zahlen beginnen zu wiederholen. "
   ]
  },
  {
   "attachments": {},
   "cell_type": "markdown",
   "metadata": {},
   "source": [
    "### Aufgabe 2: Periode bei Zufallszahlen\n"
   ]
  },
  {
   "attachments": {},
   "cell_type": "markdown",
   "metadata": {},
   "source": [
    "Die Periode bei der Erzeugung von Pseudozufallszahlen gibt an, nach wie vielen Schritten sich die Zahlenfolge wiederholt.\n",
    "\n",
    "Die Periode ist ein Mass für die Qualität eines Zufallszahlengenerators. Eine kurze Periode führt dazu, dass die Zahlen schnell vorhersehbar werden, was in schlecht ist. Eine ausreichend lange Periode ist daher wichtig. Im Idealfall ist sie sogar länger sein als die Anzahl der Zahlen, die der Generator jemals generieren wird.\n",
    "\n",
    "Es gibt verschiedene Methoden, um die Periode zu erhöhen, z.B. durch Verbesserung des Algorithmus, Kombination mehrerer Methoden oder Erhöhung der Grösse des Zustandsraums (lange Seeds). Die Periode hängt auch von der Wahl des Seeds ab. Daher ist es wichtig, einen geeigneten Seed zu wählen, um sicherzustellen, dass die Periode möglichst gross ist."
   ]
  },
  {
   "attachments": {},
   "cell_type": "markdown",
   "metadata": {},
   "source": [
    "### Aufgabe 2: Periode bei Zufallszahlen"
   ]
  },
  {
   "attachments": {},
   "cell_type": "markdown",
   "metadata": {},
   "source": [
    "#### a) Funktion zur Messung der Periode"
   ]
  },
  {
   "attachments": {},
   "cell_type": "markdown",
   "metadata": {},
   "source": [
    "Schreibe eine Funktion `msm_period(seed)` die einen Seed als Parameter erhält. Sie soll die Anzahl Schritte zurückgeben, die der Generator `msm_next()` benötigt, bis er sich zum ersten Mal wiederholt."
   ]
  },
  {
   "cell_type": "code",
   "execution_count": 26,
   "metadata": {},
   "outputs": [
    {
     "name": "stdout",
     "output_type": "stream",
     "text": [
      "#1: 8834\n",
      "#2: 395\n",
      "#3: 1560\n",
      "#4: 4336\n",
      "#5: 8008\n",
      "#6: 1280\n",
      "#7: 6384\n",
      "#8: 7554\n",
      "#9: 629\n",
      "#10: 3956\n",
      "#11: 6499\n",
      "#12: 2370\n",
      "#13: 6169\n",
      "#14: 565\n",
      "#15: 3192\n",
      "#16: 1888\n",
      "#17: 5645\n",
      "#18: 8660\n",
      "#19: 9956\n",
      "#20: 1219\n",
      "#21: 4859\n",
      "#22: 6098\n",
      "#23: 1856\n",
      "#24: 4447\n",
      "#25: 7758\n",
      "#26: 1865\n",
      "#27: 4782\n",
      "#28: 8675\n",
      "#29: 2556\n",
      "#30: 5331\n",
      "#31: 4195\n",
      "#32: 5980\n",
      "#33: 7604\n",
      "#34: 8208\n",
      "#35: 3712\n",
      "#36: 7789\n",
      "#37: 6685\n",
      "#38: 6892\n",
      "#39: 4996\n",
      "#40: 9600\n",
      "#41: 1600\n",
      "#42: 5600\n",
      "#43: 3600\n",
      "#44: 9600\n",
      "We began with 29475996 and have repeated ourselves after 44 steps with 9600.\n"
     ]
    }
   ],
   "source": [
    "seed_number = 29475996#int(input(\"Please enter a four-digit number:\\n[####] \"))\n",
    "number = seed_number\n",
    "already_seen = set()\n",
    "counter = 0\n",
    "\n",
    "while number not in already_seen:\n",
    "    counter += 1\n",
    "    already_seen.add(number)\n",
    "    number = int(str(number * number).zfill(8)[2:6])  # zfill adds padding of zeroes\n",
    "    print(f\"#{counter}: {number}\")\n",
    "\n",
    "print(f\"We began with {seed_number} and\"\n",
    "      f\" have repeated ourselves after {counter} steps\"\n",
    "      f\" with {number}.\")"
   ]
  },
  {
   "cell_type": "code",
   "execution_count": 27,
   "metadata": {},
   "outputs": [
    {
     "name": "stdout",
     "output_type": "stream",
     "text": [
      "Die Zahl wiederholt sich nach 35 durchläufe\n"
     ]
    }
   ],
   "source": [
    "def msm_period(seed):\n",
    "    already_seen = set()\n",
    "    counter = 0\n",
    "    number = seed\n",
    "\n",
    "    while number not in already_seen:\n",
    "        already_seen.add(number)\n",
    "        number = msm_next(number)\n",
    "        counter += 1\n",
    "    return counter\n",
    "\n",
    "\n",
    "print(f\"Die Zahl wiederholt sich nach {msm_period(2996)} durchläufe\")"
   ]
  },
  {
   "attachments": {},
   "cell_type": "markdown",
   "metadata": {},
   "source": [
    "#### b) Verifikation der Periodenmessung"
   ]
  },
  {
   "attachments": {},
   "cell_type": "markdown",
   "metadata": {},
   "source": [
    "Mit dem Seed 1234 sollte die Periode 57 sein. Die Zahl 0 beginnt sich zu wiederholen. Überprüfe dies mit der Funktion `msm_period()`."
   ]
  },
  {
   "cell_type": "code",
   "execution_count": 28,
   "metadata": {},
   "outputs": [
    {
     "data": {
      "text/plain": [
       "57"
      ]
     },
     "execution_count": 28,
     "metadata": {},
     "output_type": "execute_result"
    }
   ],
   "source": [
    "msm_period(1234)"
   ]
  },
  {
   "attachments": {},
   "cell_type": "markdown",
   "metadata": {},
   "source": [
    "#### c) Maximale Periode finden"
   ]
  },
  {
   "attachments": {},
   "cell_type": "markdown",
   "metadata": {},
   "source": [
    "Berechne die Periode für alle Seeds von 1000 bis 9999 und finde den Seed mit der längsten Periode. Wie lang ist die Periode?"
   ]
  },
  {
   "cell_type": "code",
   "execution_count": 17,
   "metadata": {},
   "outputs": [
    {
     "ename": "AttributeError",
     "evalue": "module 'numpy' has no attribute 'arrray'",
     "output_type": "error",
     "traceback": [
      "\u001b[1;31m---------------------------------------------------------------------------\u001b[0m",
      "\u001b[1;31mAttributeError\u001b[0m                            Traceback (most recent call last)",
      "Cell \u001b[1;32mIn[17], line 3\u001b[0m\n\u001b[0;32m      1\u001b[0m seeds \u001b[39m=\u001b[39m np\u001b[39m.\u001b[39marange(\u001b[39m1000\u001b[39m,\u001b[39m10000\u001b[39m)\n\u001b[1;32m----> 3\u001b[0m perioden \u001b[39m=\u001b[39m np\u001b[39m.\u001b[39;49marrray(\u001b[39mlist\u001b[39m(\u001b[39mmap\u001b[39m(msm_period,seed)))\n\u001b[0;32m      5\u001b[0m idx \u001b[39m=\u001b[39m np\u001b[39m.\u001b[39margmax()\n",
      "File \u001b[1;32mc:\\Users\\ricca\\OneDrive - ZHAW\\Desktop\\FS23\\NGDS-DZP\\venv\\lib\\site-packages\\numpy\\__init__.py:311\u001b[0m, in \u001b[0;36m__getattr__\u001b[1;34m(attr)\u001b[0m\n\u001b[0;32m    308\u001b[0m     \u001b[39mfrom\u001b[39;00m \u001b[39m.\u001b[39;00m\u001b[39mtesting\u001b[39;00m \u001b[39mimport\u001b[39;00m Tester\n\u001b[0;32m    309\u001b[0m     \u001b[39mreturn\u001b[39;00m Tester\n\u001b[1;32m--> 311\u001b[0m \u001b[39mraise\u001b[39;00m \u001b[39mAttributeError\u001b[39;00m(\u001b[39m\"\u001b[39m\u001b[39mmodule \u001b[39m\u001b[39m{!r}\u001b[39;00m\u001b[39m has no attribute \u001b[39m\u001b[39m\"\u001b[39m\n\u001b[0;32m    312\u001b[0m                      \u001b[39m\"\u001b[39m\u001b[39m{!r}\u001b[39;00m\u001b[39m\"\u001b[39m\u001b[39m.\u001b[39mformat(\u001b[39m__name__\u001b[39m, attr))\n",
      "\u001b[1;31mAttributeError\u001b[0m: module 'numpy' has no attribute 'arrray'"
     ]
    }
   ],
   "source": [
    "seeds = np.arange(1000,10000)\n",
    "\n",
    "perioden = np.arrray(list(map(msm_period,seed)))\n",
    "\n",
    "idx = np.argmax()"
   ]
  },
  {
   "cell_type": "code",
   "execution_count": 1,
   "metadata": {},
   "outputs": [],
   "source": [
    "def fill_with_nine(number, width):\n",
    "    padded_number = str(number).rjust(width, '9')\n",
    "    return padded_number"
   ]
  },
  {
   "cell_type": "code",
   "execution_count": 2,
   "metadata": {},
   "outputs": [
    {
     "name": "stdout",
     "output_type": "stream",
     "text": [
      "99999123\n"
     ]
    }
   ],
   "source": [
    "filled_number = fill_with_nine(123, 8)\n",
    "print(filled_number)  # Ausgabe: \"99900123\"\n"
   ]
  },
  {
   "attachments": {},
   "cell_type": "markdown",
   "metadata": {},
   "source": [
    "### Weitere Informationen\n",
    "\n",
    "Zwei interessante Blogposts zum Thema:\n",
    "\n",
    "- http://bit-player.org/2022/the-middle-of-the-square\n",
    "- https://hbfs.wordpress.com/2017/11/21/the-middle-square-method-generating-random-sequences-viii/"
   ]
  }
 ],
 "metadata": {
  "kernelspec": {
   "display_name": "Python 3.9.13 ('base')",
   "language": "python",
   "name": "python3"
  },
  "language_info": {
   "codemirror_mode": {
    "name": "ipython",
    "version": 3
   },
   "file_extension": ".py",
   "mimetype": "text/x-python",
   "name": "python",
   "nbconvert_exporter": "python",
   "pygments_lexer": "ipython3",
   "version": "3.9.13"
  },
  "orig_nbformat": 4,
  "vscode": {
   "interpreter": {
    "hash": "4d2556984e1c68bbb8b2e1571fb1e53952da9788a323f9af554c8fb844d871f0"
   }
  }
 },
 "nbformat": 4,
 "nbformat_minor": 2
}
