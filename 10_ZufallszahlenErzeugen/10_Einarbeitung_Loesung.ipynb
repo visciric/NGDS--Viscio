{
 "cells": [
  {
   "attachments": {},
   "cell_type": "markdown",
   "metadata": {},
   "source": [
    "# Zufallszahlen Erzeugen"
   ]
  },
  {
   "attachments": {},
   "cell_type": "markdown",
   "metadata": {},
   "source": [
    "## Arbeitsblatt zur Einarbeitung"
   ]
  },
  {
   "attachments": {},
   "cell_type": "markdown",
   "metadata": {},
   "source": [
    "Dieses Arbeitsblatt muss vor dem Präsenzunterricht durchgearbeitet werden.\n",
    "\n",
    "Das Ziel ist, ein einfaches Verständnis für die Erzeugung von Zufallszahlen zu bekommen. Dazu soll die \"Middle-Square-Methode\" implementiert und untersucht werden."
   ]
  },
  {
   "attachments": {},
   "cell_type": "markdown",
   "metadata": {},
   "source": [
    "## Pseudozufallszahlen"
   ]
  },
  {
   "attachments": {},
   "cell_type": "markdown",
   "metadata": {},
   "source": [
    "Die Erzeugung von Zufallszahlen ist ein wichtiger Bestandteil vieler Anwendungen:\n",
    "\n",
    "- **Simulationen** von biologischen, chemischen oder physikalischen Prozessen, aber auch von Wirtschaftssystemen benötigen Zufallszahlen.\n",
    "- **Optimierungsverfahren** verwenden Zufallszahlen, um verschiedene Startwerte zu erzeugen und im Suchraum umherzuspringen.\n",
    "- **Verifikation** von Algorithmen, Software und Hardware wird mithilfe von Testdaten gemacht, die auf Zufallszahlen basieren.\n",
    "- **Statistische Analysen** benötigen Zufallszahlen, beispielsweise um Signifikanz und Konfidenzintervalle zu schätzen.\n",
    "- In der **Kryptographie** werden Schlüssel für die Verschlüsselung von Daten mithilfe von Zufallszahlen erzeugt werden.\n",
    "- In **Computerspielen** werden zufällige Ereignisse und Ergebnisse mit Zufallszahlen generiert.\n",
    "\n",
    "Echte Zufallszahlen werden durch natürliche Phänomene wie Atmosphärenrauschen, Radioaktivität oder die stochastischen Natur der Quantenphysik erzeugt. Diese Zufallszahlen sind wirklich zufällig und können nicht vorhergesagt werden. Sie sind für viele Anwendungen nicht geeignet, da sie nicht reproduzierbar sind. Allerdings können sie in der Kryptographie verwendet werden, um Schlüssel zu erzeugen, die nicht vorhergesagt werden können. Quantencomputer können also wirklich zufällige Zahlen erzeugen, weshalb Quantencomputer im Begriff sind, die Kryptographie zu revolutionieren.\n",
    "\n",
    "Digitale Computer hingegen können keine wirklich zufälligen Zahlen erzeugen, da sie deterministisch arbeiten. [Pseudozufallszahlen](https://de.wikipedia.org/wiki/Pseudozufall) werden durch deterministische Algorithmen generiert, die jedoch zufällig genug für viele Anwendungen sind. Sie sind reproduzierbar und können daher für Simulationen, Tests und statistische Analysen verwendet werden.\n",
    "\n",
    "Es gibt verschiedene Algorithmen zur Erzeugung von Pseudozufallszahlen, darunter der Middle Square Number Algorithm (MSNA), der Linear Congruential Generator (LCG) und der Mersenne Twister.\n",
    "\n",
    "Bei der Erzeugung von Zufallszahlen ist es wichtig, dass der Algorithmus eine ausreichend lange Sequenz von Zahlen erzeugt, die sich nicht wiederholen. Ausserdem müssen die generierten Zahlen statistisch unabhängig und gleichverteilt sein, um ein zufälliges Verhalten zu gewährleisten.\n",
    "\n",
    "In der Programmierung können Zufallszahlen durch die Verwendung von speziellen Funktionen oder Bibliotheken erzeugt werden. Diese verwenden unterschiedliche Algorithmen, die unterschiedliche Eigenschaften haben. Die Wahl des Algorithmus hängt von der Anwendung ab.\n",
    "\n",
    "- Random sampling mit [`numpy.random`](https://numpy.org/doc/stable/reference/random/index.html)\n",
    "- Zufallsvariablen in ScyPy mit [`scipy.stats`](https://docs.scipy.org/doc/scipy/reference/stats.html#probability-distributions)"
   ]
  },
  {
   "attachments": {},
   "cell_type": "markdown",
   "metadata": {},
   "source": [
    "## Middle-Square-Methode"
   ]
  },
  {
   "attachments": {},
   "cell_type": "markdown",
   "metadata": {},
   "source": [
    "Die [Middle-Square-Methode (MSM)](https://de.wikipedia.org/wiki/Mittquadratmethode) ist ein einfacher Algorithmus zur Generierung von Pseudozufallszahlen. Er wurde erstmals 1946 von John von Neumann vorgestellt und ist ein Beispiel für einen deterministischen Algorithmus, der auf einem Anfangswert (engl. *seed*) basiert.\n",
    "\n",
    "Die MSM verwendet eine einfache Formel, um den nächsten Wert in der Zahlenfolge zu berechnen. Zunächst wird der Seed quadriert und das Ergebnis dann in der Mitte abgeschnitten, um eine Zahl mit der gleichen Anzahl an Stellen wie der Seed zu erhalten. Diese Zahl wird dann als nächster Seed verwendet, um den nächsten Wert in der Folge zu generieren.\n",
    "\n",
    "Die MSM ist zwar einfach zu implementieren, hat aber einige Nachteile. Wenn der Seed bestimmte Eigenschaften hat, kann es zu einem Zyklus von Zahlen kommen, die sich ständig wiederholen. Weil die Zyklen vergleichsweise kurz sind, folgen die Zahlen einem einfach verhersehbaren Muster und sind daher für moderne Anwendugen nicht genügend pseudo-zufällig.\n",
    "\n",
    "Dennoch ist die MSM ein interessantes Beispiel dafür, wie einfache mathematische Formeln zur Erzeugung von Pseudozufallszahlen verwendet werden können.\n",
    "\n",
    "- [\"middle-square method\" - Wikipedia](https://en.wikipedia.org/wiki/Middle-square_method)\n",
    "\n",
    "Das folgende Video zeigt, wie der MSM Algorithmus funktioniert:\n",
    "\n",
    "- [\"Pseudorandom number generators | Computer Science | Khan Academy\" - Khan Academy Labs](https://www.youtube.com/watch?v=GtOt7EBNEwQ)\n",
    "\n",
    "Weiteres interessantes Video:\n",
    "\n",
    "- [\"How to Generate Pseudorandom Numbers | Infinite Series\" - PBS Infinite Series](https://www.youtube.com/watch?v=C82JyCmtKWg)\n",
    "\n",
    "Und für wirklich motivierte noch ein weiteres Video:\n",
    "\n",
    "- [\"Wie kommt der Zufall in den Computer? (Teil 1 von 2)\" - Weitz / HAW HAmburg](https://www.youtube.com/watch?v=Q4J0-uvAuPI)"
   ]
  },
  {
   "attachments": {},
   "cell_type": "markdown",
   "metadata": {},
   "source": [
    "## Arbeitsauftrag"
   ]
  },
  {
   "attachments": {},
   "cell_type": "markdown",
   "metadata": {},
   "source": [
    "### Aufgabe 1: Implementierung der Middle-Square-Methode\n",
    "\n",
    "Wir implementieren die Middle-Square-Methode für 4-stellige Zahlen."
   ]
  },
  {
   "attachments": {},
   "cell_type": "markdown",
   "metadata": {},
   "source": [
    "#### a) Implementierung Schritt 1"
   ]
  },
  {
   "attachments": {},
   "cell_type": "markdown",
   "metadata": {},
   "source": [
    "Wir implementieren die Middle-Square-Methode für 4-stellige Zahlen.\n",
    "\n",
    "Programmiere zuerst eine Funktion namens `msm_next(number)`, die eine ganze Zahl `number` mit 4 Stellen als Parameter nimmt. Sie soll die nächste Zahl in der Zahlenfolge nach dem MSM Algorithmus zurück geben. Validiere deine Implementierung mit den folgenden Beispielen und weiteren Fällen, die du dir selbst ausdenkst:\n",
    "\n",
    "- $3333 \\to 3333^2 = 11108889 \\to 1088$\n",
    "- $1234 \\to 1234^2 = 1522756 = 01522756 \\to 5227$\n",
    "\n",
    "*Hinweise:*\n",
    "\n",
    "- Mit `str()` und `int()` wandelt man Zahlen in Strings und umgekehrt um.\n",
    "- Ein Teil eines Strings kann mit Slicing extrahiert werden.\n",
    "- Das Quadrat einer 4-stelligen Zahl hat nicht immer 8 Stellen, wie im Beispiel mit $1234$ zu sehen ist. Führende Nullen können mit `str.zfill()` hinzugefügt werden.\n",
    "\n",
    "Links:\n",
    "\n",
    "- [Python String zfill() Method - w3schools](https://www.w3schools.com/python/ref_string_zfill.asp)\n",
    "- [Python String Methods - Python docs](https://docs.python.org/3/library/stdtypes.html#string-methods)"
   ]
  },
  {
   "cell_type": "code",
   "execution_count": 1,
   "metadata": {},
   "outputs": [
    {
     "data": {
      "text/plain": [
       "(True, True, True)"
      ]
     },
     "execution_count": 1,
     "metadata": {},
     "output_type": "execute_result"
    }
   ],
   "source": [
    "def msm_next(number):\n",
    "    \"\"\"Ein Schritt der Middle-Square-Method für 4-stellige Zahlen.\"\"\"\n",
    "    n2_padded = str(number**2).zfill(8)\n",
    "    return int(n2_padded[2:-2])\n",
    "\n",
    "\n",
    "(\n",
    "    msm_next(3333) == 1088,\n",
    "    msm_next(1234) == 5227,\n",
    "    msm_next(3839) == 7379,\n",
    ")\n"
   ]
  },
  {
   "attachments": {},
   "cell_type": "markdown",
   "metadata": {},
   "source": [
    "#### b) Implementierung Schritt 2"
   ]
  },
  {
   "attachments": {},
   "cell_type": "markdown",
   "metadata": {},
   "source": [
    "Nun schreibst du eine Funktion namenes `msm(seed, n)`, die einen Startwert `seed` und eine Anzahl an Schritten `n` als Parameter nimmt. Sie soll `msm_next()` benutzen, um ausgehend vom Startwert eine Liste von `n` Pseudozufallszahlen nach der MSM zu erzeugen. Das heisst, der Seed kommt nicht in der Liste vor, sondern nur die `n` darauffolgenden Zahlen."
   ]
  },
  {
   "cell_type": "code",
   "execution_count": 2,
   "metadata": {},
   "outputs": [],
   "source": [
    "import numpy as np\n",
    "\n",
    "\n",
    "def msm(seed, n):\n",
    "    \"\"\"Middle-Square-Method mit Seed und Anzahl Schritten n\"\"\"\n",
    "    number = seed\n",
    "    sequence = []\n",
    "    for _ in range(n):\n",
    "        number = msm_next(number)\n",
    "        sequence.append(number)\n",
    "    return np.array(sequence)\n"
   ]
  },
  {
   "attachments": {},
   "cell_type": "markdown",
   "metadata": {},
   "source": [
    "#### c) Testen der Funktion"
   ]
  },
  {
   "attachments": {},
   "cell_type": "markdown",
   "metadata": {},
   "source": [
    "Teste die Funktion `msm()` mit einem Seed von 1547 und lasse dir 100 Zahlen ausgeben.\n",
    "\n",
    "Speichere die Zahlen in einer Variablen `rnd_numbers` ab und schaue sie an. Was fällt dir auf?\n",
    "\n",
    "Überprüfe, dass die Summe der Zahlen 510531 ist."
   ]
  },
  {
   "cell_type": "code",
   "execution_count": 3,
   "metadata": {},
   "outputs": [
    {
     "name": "stdout",
     "output_type": "stream",
     "text": [
      "[3932 4606 2152 6311 8287 6743 4680 9024 4325 7056 7871 9526 7446 4429\n",
      " 6160 9456 4159 2972 8327 3389 4853 5516 4262 1646 7093 3106 6472 8867\n",
      " 6236 8876 7833 3558 6593 4676 8649 8052 8347 6724 2121 4986 8601 9772\n",
      " 4919 1965 8612 1665 7722 6292 5892 7156 2083 3388 4785 8962 3174  742\n",
      " 5505 3050 3025 1506 2680 1824 3269 6863 1007  140  196  384 1474 1726\n",
      " 9790 8441 2504 2700 2900 4100 8100 6100 2100 4100 8100 6100 2100 4100\n",
      " 8100 6100 2100 4100 8100 6100 2100 4100 8100 6100 2100 4100 8100 6100\n",
      " 2100 4100]\n"
     ]
    },
    {
     "data": {
      "text/plain": [
       "True"
      ]
     },
     "execution_count": 3,
     "metadata": {},
     "output_type": "execute_result"
    }
   ],
   "source": [
    "rnd_numbers = msm(1547, 100)\n",
    "print(rnd_numbers)\n",
    "np.sum(rnd_numbers) == 510531\n"
   ]
  },
  {
   "attachments": {},
   "cell_type": "markdown",
   "metadata": {},
   "source": [
    "#### d) Histogramm"
   ]
  },
  {
   "attachments": {},
   "cell_type": "markdown",
   "metadata": {},
   "source": [
    "Erzeuge ein Histogram der Zufallszahlen `rnd_numbers`. Verwende dazu die Funktion [`plt.hist()`](https://matplotlib.org/stable/api/_as_gen/matplotlib.pyplot.hist.html).\n",
    "\n",
    "- [Matplotlib-Tutorial: Histogramme](https://www.python-kurs.eu/matplotlib_histogramme.php)\n",
    "\n",
    "Erhöhe die Anzahl Bins auf (Option `bins`) auf 20 - 30. Was fällt dir auf? Schau dir die Zahlenfolge nochmals an. Kannst du erklären, warum das Histogramm so aussieht?"
   ]
  },
  {
   "cell_type": "code",
   "execution_count": 4,
   "metadata": {},
   "outputs": [
    {
     "data": {
      "image/png": "[encoded data removed]",
      "text/plain": [
       "<Figure size 640x480 with 1 Axes>"
      ]
     },
     "metadata": {},
     "output_type": "display_data"
    }
   ],
   "source": [
    "import matplotlib.pyplot as plt\n",
    "\n",
    "plt.hist(rnd_numbers, bins=30)\n",
    "plt.show()\n"
   ]
  },
  {
   "attachments": {},
   "cell_type": "markdown",
   "metadata": {},
   "source": [
    "### Aufgabe 2: Periode bei Zufallszahlen\n"
   ]
  },
  {
   "attachments": {},
   "cell_type": "markdown",
   "metadata": {},
   "source": [
    "Die Periode bei der Erzeugung von Pseudozufallszahlen gibt an, nach wie vielen Schritten sich die Zahlenfolge wiederholt.\n",
    "\n",
    "Die Periode ist ein Mass für die Qualität eines Zufallszahlengenerators. Eine kurze Periode führt dazu, dass die Zahlen schnell vorhersehbar werden, was in schlecht ist. Eine ausreichend lange Periode ist daher wichtig. Im Idealfall ist sie sogar länger sein als die Anzahl der Zahlen, die der Generator jemals generieren wird.\n",
    "\n",
    "Es gibt verschiedene Methoden, um die Periode zu erhöhen, z.B. durch Verbesserung des Algorithmus, Kombination mehrerer Methoden oder Erhöhung der Grösse des Zustandsraums (lange Seeds). Die Periode hängt auch von der Wahl des Seeds ab. Daher ist es wichtig, einen geeigneten Seed zu wählen, um sicherzustellen, dass die Periode möglichst gross ist."
   ]
  },
  {
   "attachments": {},
   "cell_type": "markdown",
   "metadata": {},
   "source": [
    "### Aufgabe 2: Periode bei Zufallszahlen"
   ]
  },
  {
   "attachments": {},
   "cell_type": "markdown",
   "metadata": {},
   "source": [
    "#### a) Funktion zur Messung der Periode"
   ]
  },
  {
   "attachments": {},
   "cell_type": "markdown",
   "metadata": {},
   "source": [
    "Schreibe eine Funktion `msm_period(seed)` die einen Seed als Parameter erhält. Sie soll die Anzahl Schritte zurückgeben, die der Generator `msm_next()` benötigt, bis er sich zum ersten Mal wiederholt."
   ]
  },
  {
   "cell_type": "code",
   "execution_count": 5,
   "metadata": {},
   "outputs": [],
   "source": [
    "def msm_period(seed):\n",
    "    number = seed\n",
    "    sequence_set = set()\n",
    "    while number not in sequence_set:\n",
    "        sequence_set.add(number)\n",
    "        number = msm_next(number)\n",
    "    period = len(sequence_set)\n",
    "    return period, number\n"
   ]
  },
  {
   "attachments": {},
   "cell_type": "markdown",
   "metadata": {},
   "source": [
    "#### b) Verifikation der Periodenmessung"
   ]
  },
  {
   "attachments": {},
   "cell_type": "markdown",
   "metadata": {},
   "source": [
    "Mit dem Seed 1234 sollte die Periode 57 sein. Die Zahl 0 beginnt sich zu wiederholen. Überprüfe dies mit der Funktion `msm_period()`."
   ]
  },
  {
   "cell_type": "code",
   "execution_count": 6,
   "metadata": {},
   "outputs": [
    {
     "data": {
      "text/plain": [
       "(57, 0)"
      ]
     },
     "execution_count": 6,
     "metadata": {},
     "output_type": "execute_result"
    }
   ],
   "source": [
    "msm_period(1234)\n"
   ]
  },
  {
   "attachments": {},
   "cell_type": "markdown",
   "metadata": {},
   "source": [
    "#### c) Maximale Periode finden"
   ]
  },
  {
   "attachments": {},
   "cell_type": "markdown",
   "metadata": {},
   "source": [
    "Berechne die Periode für alle Seeds von 1000 bis 9999 und finde den Seed mit der längsten Periode. Wie lang ist die Periode?"
   ]
  },
  {
   "cell_type": "code",
   "execution_count": 7,
   "metadata": {},
   "outputs": [
    {
     "name": "stdout",
     "output_type": "stream",
     "text": [
      "Die maximale Periode ist 111 und wird erreicht bei Seed 6239.\n"
     ]
    }
   ],
   "source": [
    "periods = [(seed, msm_period(seed)[0]) for seed in range(1000, 10000)]\n",
    "max_seed, max_period = max(periods, key=lambda x: x[1])\n",
    "\n",
    "print(f\"Die maximale Periode ist {max_period} und wird erreicht bei Seed {max_seed}.\")\n"
   ]
  },
  {
   "attachments": {},
   "cell_type": "markdown",
   "metadata": {},
   "source": [
    "### Weitere Informationen\n",
    "\n",
    "Zwei interessante Blogposts zum Thema:\n",
    "\n",
    "- http://bit-player.org/2022/the-middle-of-the-square\n",
    "- https://hbfs.wordpress.com/2017/11/21/the-middle-square-method-generating-random-sequences-viii/"
   ]
  }
 ],
 "metadata": {
  "kernelspec": {
   "display_name": "base",
   "language": "python",
   "name": "python3"
  },
  "language_info": {
   "codemirror_mode": {
    "name": "ipython",
    "version": 3
   },
   "file_extension": ".py",
   "mimetype": "text/x-python",
   "name": "python",
   "nbconvert_exporter": "python",
   "pygments_lexer": "ipython3",
   "version": "3.10.10"
  },
  "orig_nbformat": 4
 },
 "nbformat": 4,
 "nbformat_minor": 2
}
