{
 "cells": [
  {
   "attachments": {},
   "cell_type": "markdown",
   "metadata": {},
   "source": [
    "# Zufallszahlen Erzeugen"
   ]
  },
  {
   "attachments": {},
   "cell_type": "markdown",
   "metadata": {},
   "source": [
    "## Vertiefung"
   ]
  },
  {
   "attachments": {},
   "cell_type": "markdown",
   "metadata": {},
   "source": [
    "### Übersicht\n",
    "\n",
    "1. Middle-Square-Methode mit $n$-stelligen Zahlen\n",
    "2. Mapping auf das Einheitsintervall \n",
    "3. NumPy Random\n",
    "4. Inversionsmethode (Inverse Transform Sampling)"
   ]
  },
  {
   "cell_type": "code",
   "execution_count": 1,
   "metadata": {},
   "outputs": [],
   "source": [
    "import numpy as np\n",
    "import matplotlib.pyplot as plt\n"
   ]
  },
  {
   "attachments": {},
   "cell_type": "markdown",
   "metadata": {},
   "source": [
    "### Middle-Square-Methode mit $n$-stelligen Zahlen"
   ]
  },
  {
   "attachments": {},
   "cell_type": "markdown",
   "metadata": {},
   "source": [
    "In der Einarbeitung haben wir die Middle-Square-Methode mit 4-stelligen Zahlen kennengelernt. Diese Methode lässt sich auch auf eine beliebige Anzahl Stellen verallgemeinern. Es muss aber eine gerade Anzahl sein."
   ]
  },
  {
   "cell_type": "code",
   "execution_count": 2,
   "metadata": {},
   "outputs": [],
   "source": [
    "def msm_next_4(number):\n",
    "    \"\"\"Ein Schritt der Middle-Square-Method für 4-stellige Zahlen.\"\"\"\n",
    "    n2_padded = str(number**2).zfill(8)\n",
    "    return int(n2_padded[2:-2])\n",
    "\n",
    "\n",
    "def msm_next(number, n_digits):\n",
    "    \"\"\"Ein Schritt der Middle-Square-Method für beliebig-stellige Zahlen.\"\"\"\n",
    "    assert n_digits % 2 == 0  # n_digits must be even\n",
    "    assert len(str(number)) <= n_digits  # number cannot must more than n_digits digits\n",
    "    n_digits_half = n_digits // 2\n",
    "    n2_padded = str(number**2).zfill(n_digits * 2)\n",
    "    return int(n2_padded[n_digits_half:-n_digits_half])\n",
    "\n",
    "\n",
    "# msm_next(234534512346, 12)\n"
   ]
  },
  {
   "cell_type": "code",
   "execution_count": 3,
   "metadata": {},
   "outputs": [],
   "source": [
    "def msm(seed, n):\n",
    "    \"\"\"Middle-Square-Method mit Seed und Anzahl Schritten n\"\"\"\n",
    "    n_digits = len(str(seed))\n",
    "    number = seed\n",
    "    sequence = []\n",
    "    for _ in range(n):\n",
    "        number = msm_next(number, n_digits)\n",
    "        sequence.append(number)\n",
    "    return np.array(sequence)\n"
   ]
  },
  {
   "cell_type": "code",
   "execution_count": 4,
   "metadata": {},
   "outputs": [
    {
     "data": {
      "image/png": "[encoded data removed]",
      "text/plain": [
       "<Figure size 640x480 with 1 Axes>"
      ]
     },
     "metadata": {},
     "output_type": "display_data"
    }
   ],
   "source": [
    "x = msm(234534512346, 100)\n",
    "\n",
    "plt.hist(x, bins=20)\n",
    "plt.xlabel(\"Zufallszahl\")\n",
    "plt.ylabel(\"Anzahl\")\n",
    "plt.show()\n"
   ]
  },
  {
   "attachments": {},
   "cell_type": "markdown",
   "metadata": {},
   "source": [
    "#### Maximale Periodenlänge"
   ]
  },
  {
   "cell_type": "code",
   "execution_count": 5,
   "metadata": {},
   "outputs": [],
   "source": [
    "def msm_period(seed):\n",
    "    n_digits = len(str(seed))\n",
    "    number = seed\n",
    "    sequence_set = set()\n",
    "    while number not in sequence_set:\n",
    "        sequence_set.add(number)\n",
    "        number = msm_next(number, n_digits)\n",
    "    period = len(sequence_set)\n",
    "    return period, number\n"
   ]
  },
  {
   "cell_type": "code",
   "execution_count": 6,
   "metadata": {},
   "outputs": [
    {
     "name": "stdout",
     "output_type": "stream",
     "text": [
      "Die maximale Periode für 2-stellige Seeds ist 15 und wird erreicht bei Seed 42.\n",
      "Die maximale Periode für 4-stellige Seeds ist 111 und wird erreicht bei Seed 6239.\n",
      "Die maximale Periode für 6-stellige Seeds ist 943 und wird erreicht bei Seed 229339.\n"
     ]
    }
   ],
   "source": [
    "# Für 2-stellige Seeds\n",
    "periods_2_digits = [(seed, msm_period(seed)[0]) for seed in range(10, 100)]\n",
    "max_seed_2_digits, max_period_2_digits = max(periods_2_digits, key=lambda x: x[1])\n",
    "print(\n",
    "    f\"Die maximale Periode für 2-stellige Seeds ist {max_period_2_digits} und wird erreicht bei Seed {max_seed_2_digits}.\"\n",
    ")\n",
    "\n",
    "# Für 4-stellige Seeds\n",
    "periods_4_digits = [(seed, msm_period(seed)[0]) for seed in range(1000, 10000)]\n",
    "max_seed_4_digits, max_period_4_digits = max(periods_4_digits, key=lambda x: x[1])\n",
    "print(\n",
    "    f\"Die maximale Periode für 4-stellige Seeds ist {max_period_4_digits} und wird erreicht bei Seed {max_seed_4_digits}.\"\n",
    ")\n",
    "\n",
    "# Für 6-stellige Seeds (läuft ca. 5 min!)\n",
    "periods_6_digits = [(seed, msm_period(seed)[0]) for seed in range(100000, 1000000)]\n",
    "max_seed_6_digits, max_period_6_digits = max(periods_6_digits, key=lambda x: x[1])\n",
    "print(\n",
    "    f\"Die maximale Periode für 6-stellige Seeds ist {max_period_6_digits} und wird erreicht bei Seed {max_seed_6_digits}.\"\n",
    ")\n"
   ]
  },
  {
   "attachments": {},
   "cell_type": "markdown",
   "metadata": {},
   "source": [
    "### Mapping auf das Einheitsintervall"
   ]
  },
  {
   "attachments": {},
   "cell_type": "markdown",
   "metadata": {},
   "source": [
    "Der MSM Algorithmus (wie bessere Algorithmen auch) erzeugt ganzzahlige Zufallszahlen, die Gleichverteilt sind. Diese müssen für viele Anwendungen zuerst auf das Einheitsintervall von 0 bis 1 abgebildet werden. Je nach Konvention wird das Intervall entweder inklusive oder exklusive der Grenzen betrachtet. Wir folgen hier der Konvention von NumPy und nehmen das halb-offene Intervall, siehe [`numpy.random.Generator.uniform`](https://numpy.org/doc/stable/reference/random/generated/numpy.random.Generator.uniform.html).\n",
    "\n",
    "$$\n",
    "    X \\sim U(1,0)\n",
    "    \\quad \\Rightarrow \\quad\n",
    "    f(x) = \\begin{cases}\n",
    "        1 & \\text{für } x \\in [0,1) \\\\\n",
    "        0 & \\text{sonst}\n",
    "    \\end{cases}\n",
    "$$\n",
    "\n",
    "Hier steht $U(0,1)$ für die Gleichverteilung auf dem Intervall $[0,1)$ und $f(x)$ für die Wahrscheinlichkeitsdichte."
   ]
  },
  {
   "cell_type": "code",
   "execution_count": 7,
   "metadata": {},
   "outputs": [],
   "source": [
    "def uniform(seed, n):\n",
    "    numbers = msm(seed, n)\n",
    "    upper_bound = 10 ** len(str(seed))\n",
    "    return numbers / upper_bound\n"
   ]
  },
  {
   "cell_type": "code",
   "execution_count": 8,
   "metadata": {},
   "outputs": [
    {
     "data": {
      "image/png": "[encoded data removed]",
      "text/plain": [
       "<Figure size 1000x500 with 4 Axes>"
      ]
     },
     "metadata": {},
     "output_type": "display_data"
    }
   ],
   "source": [
    "u = uniform(9018723491827345, 1_000)\n",
    "\n",
    "fig, axes = plt.subplots(2, 2, figsize=(10, 5), sharex=True, sharey=True)\n",
    "for ax, bins in zip(axes.flat, (10, 20, 30, 40)):\n",
    "    ax.hist(u, bins=bins, density=True)\n",
    "    ax.plot([0, 1], [1, 1], color=\"red\", linewidth=2)\n",
    "    ax.set_xlabel(\"x\")\n",
    "    ax.set_ylabel(\"relative Häufigkeit\")\n",
    "    ax.set_title(f\"bins = {bins}\")\n",
    "plt.suptitle(f\"n = {len(u)}, mean = {u.mean():.4f}, std = {u.std():.4f}\")\n",
    "plt.tight_layout()\n",
    "plt.show()\n"
   ]
  },
  {
   "attachments": {},
   "cell_type": "markdown",
   "metadata": {},
   "source": [
    "### NumPy Random"
   ]
  },
  {
   "attachments": {},
   "cell_type": "markdown",
   "metadata": {},
   "source": [
    "Der Einstiegspunkt in die Dokumentation ist hier: https://numpy.org/doc/stable/reference/random/index.html\n",
    "\n",
    "Grundsätzlich wird zuerst ein [Random Generator](https://numpy.org/doc/stable/reference/random/generator.html) mit einem Seed instanziert und dann für die Erzeugung von Pseudozufallszahlen verwendet"
   ]
  },
  {
   "attachments": {},
   "cell_type": "markdown",
   "metadata": {},
   "source": [
    "#### Gleichverteilung"
   ]
  },
  {
   "cell_type": "code",
   "execution_count": 9,
   "metadata": {},
   "outputs": [],
   "source": [
    "rng = np.random.default_rng(12345678)\n",
    "u = rng.uniform(0, 1, 1_000)\n"
   ]
  },
  {
   "attachments": {},
   "cell_type": "markdown",
   "metadata": {},
   "source": [
    "#### Weitere Verteilungen\n",
    "\n",
    "Der NumPy Random Generator bietet eine grosse [Auswahl Verteilungen](https://numpy.org/doc/stable/reference/random/generator.html#distributions) an. Scipy bietet noch [weitere Verteilungen](https://docs.scipy.org/doc/scipy/reference/stats.html) an, unter anderem auch [multivariate Verteilungen](https://docs.scipy.org/doc/scipy/reference/stats.html#multivariate-distributions).\n",
    "\n",
    "Beispiel: [Gammaverteilung](https://de.wikipedia.org/wiki/Gammaverteilung) mit [`rng.gamma`](https://numpy.org/doc/stable/reference/random/generated/numpy.random.Generator.gamma.html)"
   ]
  },
  {
   "cell_type": "code",
   "execution_count": 10,
   "metadata": {},
   "outputs": [
    {
     "data": {
      "image/png": "[encoded data removed]",
      "text/plain": [
       "<Figure size 640x480 with 1 Axes>"
      ]
     },
     "metadata": {},
     "output_type": "display_data"
    }
   ],
   "source": [
    "rng = np.random.default_rng(39485928374)\n",
    "g = rng.gamma(4, 1, 1_000)\n",
    "\n",
    "plt.hist(g, bins=20, density=True)\n",
    "plt.xlabel(\"x\")\n",
    "plt.ylabel(\"relative Häufigkeit\")\n",
    "plt.show()\n"
   ]
  },
  {
   "attachments": {},
   "cell_type": "markdown",
   "metadata": {},
   "source": [
    "#### Mischen\n",
    "\n",
    "- [`rng.shuffle`](https://numpy.org/doc/stable/reference/random/generated/numpy.random.Generator.shuffle.html)\t\n",
    "- [`rng.permutation`](https://numpy.org/doc/stable/reference/random/generated/numpy.random.Generator.permutation.html)\n",
    "- [`rng.permuted`](https://numpy.org/doc/stable/reference/random/generated/numpy.random.Generator.permuted.html)\n",
    "\n",
    "Vorsicht: Dokumentation genau lesen.\n",
    "\n",
    "- `rng.shuffle` verändern das Array inplace (Mutation!), `rng.permuted` und `rng.permutation` gibt ein neues Array zurück.\n",
    "- `rng.shuffle` und `rng.permutation` mischen das Array entlang einer Achse (default `axis=0`). Das heisst, es werden nur Zeilen (bzw. Spalten) vertauscht aber nicht die Elemente innerhalb einer Zeile (bzw. Spalte).\n",
    "- `rng.permuted` mischt das ganze Array."
   ]
  },
  {
   "cell_type": "code",
   "execution_count": 11,
   "metadata": {},
   "outputs": [
    {
     "name": "stdout",
     "output_type": "stream",
     "text": [
      "None\n",
      "\n",
      " [[6 7]\n",
      " [4 5]\n",
      " [2 3]\n",
      " [0 1]]\n"
     ]
    }
   ],
   "source": [
    "rng = np.random.default_rng(42)\n",
    "x = np.arange(8).reshape(4, 2)\n",
    "\n",
    "print(rng.shuffle(x))\n",
    "print(\"\\n\", x)\n"
   ]
  },
  {
   "cell_type": "code",
   "execution_count": 12,
   "metadata": {},
   "outputs": [
    {
     "name": "stdout",
     "output_type": "stream",
     "text": [
      "[[6 7]\n",
      " [4 5]\n",
      " [2 3]\n",
      " [0 1]]\n",
      "\n",
      " [[0 1]\n",
      " [2 3]\n",
      " [4 5]\n",
      " [6 7]]\n"
     ]
    }
   ],
   "source": [
    "rng = np.random.default_rng(42)\n",
    "x = np.arange(8).reshape(4, 2)\n",
    "\n",
    "print(rng.permutation(x))\n",
    "print(\"\\n\", x)\n"
   ]
  },
  {
   "cell_type": "code",
   "execution_count": 13,
   "metadata": {},
   "outputs": [
    {
     "name": "stdout",
     "output_type": "stream",
     "text": [
      "[[3 4]\n",
      " [2 7]\n",
      " [6 1]\n",
      " [5 0]]\n",
      "\n",
      " [[0 1]\n",
      " [2 3]\n",
      " [4 5]\n",
      " [6 7]]\n"
     ]
    }
   ],
   "source": [
    "rng = np.random.default_rng(42)\n",
    "x = np.arange(8).reshape(4, 2)\n",
    "\n",
    "print(rng.permuted(x))\n",
    "print(\"\\n\", x)\n"
   ]
  },
  {
   "attachments": {},
   "cell_type": "markdown",
   "metadata": {},
   "source": [
    "#### Auswählen\n",
    "\n",
    "Samples aus einer Menge zieht man mit [`rng.choice`](https://numpy.org/doc/stable/reference/random/generated/numpy.random.Generator.choice.html) entweder mit oder ohnr zurücklegen `replace=True/False`."
   ]
  },
  {
   "cell_type": "code",
   "execution_count": 14,
   "metadata": {},
   "outputs": [
    {
     "data": {
      "text/plain": [
       "array([0, 6, 5, 3, 3, 6, 0, 5, 1, 0, 4, 7, 5, 6, 5, 6, 4, 1, 6, 3, 4, 2,\n",
       "       1, 7, 6, 5, 3, 6, 4, 3, 3, 1, 0, 4, 7, 0, 6, 6, 2, 5, 1, 6, 5, 2,\n",
       "       0, 7, 3, 7, 5, 6, 6, 1, 2, 3, 3, 0, 4, 1, 5, 5, 7, 5, 2, 7, 3, 2,\n",
       "       7, 2, 0, 3, 6, 1, 3, 1, 5, 3, 2, 1, 4, 5, 7, 3, 1, 6, 5, 5, 0, 2,\n",
       "       6, 6, 3, 6, 6, 3, 7, 2, 1, 5, 5])"
      ]
     },
     "execution_count": 14,
     "metadata": {},
     "output_type": "execute_result"
    }
   ],
   "source": [
    "rng = np.random.default_rng(42)\n",
    "x = np.arange(8)\n",
    "\n",
    "rng.choice(x, size=99)\n"
   ]
  },
  {
   "cell_type": "code",
   "execution_count": 15,
   "metadata": {},
   "outputs": [
    {
     "data": {
      "text/plain": [
       "array([4, 3, 6, 7, 2, 0])"
      ]
     },
     "execution_count": 15,
     "metadata": {},
     "output_type": "execute_result"
    }
   ],
   "source": [
    "rng = np.random.default_rng(42)\n",
    "x = np.arange(8)\n",
    "\n",
    "rng.choice(x, size=6, replace=False)\n"
   ]
  },
  {
   "attachments": {},
   "cell_type": "markdown",
   "metadata": {},
   "source": [
    "### Inversionsmethode (Inverse Transform Sampling)"
   ]
  },
  {
   "attachments": {},
   "cell_type": "markdown",
   "metadata": {},
   "source": [
    "Wie werden nun Verteilungen erzeugt, die nicht Gleichverteilungen sind? Die einfachsten Verfahren sind:\n",
    "\n",
    "- [Inversionsmethode](https://de.wikipedia.org/wiki/Inversionsmethode)\n",
    "- [Verwerfungsmethode](https://de.wikipedia.org/wiki/Verwerfungsmethode)\n",
    "\n",
    "Hier diskutieren und implementieren wir die Inversionsmethode für [diskrete Verteilungen](https://de.wikipedia.org/wiki/Diskrete_Wahrscheinlichkeitsverteilung). Die Inversionsmethode für [stetige Verteilungen](https://de.wikipedia.org/wiki/Stetige_Wahrscheinlichkeitsverteilung) wird im Übungsblatt implementiert und kam bereits im Modul \"Statistik & Wahrscheinlichkeit\" vor (Serie 3, Aufgabe 3c).\n",
    "\n",
    "Als Beispiel schauen wir an, welche Farbe wohl eine Verkehrsampel anzeigt, wenn man bei ihr ankommt. Wenn die Ampel immer 10 Sekunden auf grün steht, 20 Sekunden auf rot und dazwischen je 1 Sekunden auf Orange, dann ist die Wahrscheinlichkeit folgendermassen\n",
    "\n",
    "$$\n",
    "\\begin{align*}\n",
    "    P(\\text{grün}) &= \\frac{10}{32} \\,,\\qquad&\n",
    "    P(\\text{rot}) &= \\frac{20}{32} \\,,\\qquad&\n",
    "    P(\\text{orange}) &= \\frac{2}{32}\n",
    "\\end{align*}\n",
    "$$"
   ]
  },
  {
   "cell_type": "code",
   "execution_count": 16,
   "metadata": {},
   "outputs": [
    {
     "data": {
      "image/png": "[encoded data removed]",
      "text/plain": [
       "<Figure size 640x480 with 1 Axes>"
      ]
     },
     "metadata": {},
     "output_type": "display_data"
    }
   ],
   "source": [
    "probabilities = {\n",
    "    \"grün\": 10 / 32,\n",
    "    \"rot\": 20 / 32,\n",
    "    \"orange\": 2 / 32,\n",
    "}\n",
    "\n",
    "x = np.array(list(probabilities.keys()))\n",
    "pdf = np.array(list(probabilities.values()))\n",
    "\n",
    "plt.bar(x, pdf)\n",
    "plt.ylabel(\"Wahrscheinlichkeit\")\n",
    "plt.show()\n"
   ]
  },
  {
   "attachments": {},
   "cell_type": "markdown",
   "metadata": {},
   "source": [
    "Das Ziel ist nun, Realisierungen der Zufallsvariable mit Wahrscheinlichkeit $P(x)$ und $x\\in\\{\\text{grün}, \\text{rot}, \\text{orange}\\}$ zu erzeugen."
   ]
  },
  {
   "cell_type": "code",
   "execution_count": 17,
   "metadata": {},
   "outputs": [],
   "source": [
    "rng = np.random.default_rng(42)\n"
   ]
  },
  {
   "cell_type": "code",
   "execution_count": 18,
   "metadata": {},
   "outputs": [
    {
     "name": "stdout",
     "output_type": "stream",
     "text": [
      "rot oder orange\n"
     ]
    }
   ],
   "source": [
    "# Auf Wahrscheinlichkeit für grün würfeln\n",
    "\n",
    "r = rng.uniform()\n",
    "if r < probabilities[\"grün\"]:\n",
    "    print(\"grün\")\n",
    "else:\n",
    "    print(\"rot oder orange\")\n"
   ]
  },
  {
   "attachments": {},
   "cell_type": "markdown",
   "metadata": {},
   "source": [
    "Wie bestimmt man, welches Licht an ist, wenn nicht das grüne?\n",
    "\n",
    "Dazu schauen wir die kumulative Verteilungsfunktion (CDF) an."
   ]
  },
  {
   "cell_type": "code",
   "execution_count": 19,
   "metadata": {},
   "outputs": [
    {
     "data": {
      "image/png": "[encoded data removed]",
      "text/plain": [
       "<Figure size 640x480 with 1 Axes>"
      ]
     },
     "metadata": {},
     "output_type": "display_data"
    }
   ],
   "source": [
    "# Kumulative Verteilungsfunktion\n",
    "# pdf = [10,    20,       2] / 32\n",
    "# cdf = [10, 10+20, 10+20+2] / 32\n",
    "\n",
    "cdf = np.cumsum(pdf)\n",
    "xx = [\"grün\", \"grün | rot\", \"grün | rot | orange\"]\n",
    "\n",
    "plt.bar(xx, cdf)\n",
    "plt.ylabel(\"Wahrscheinlichkeit\")\n",
    "plt.show()\n"
   ]
  },
  {
   "cell_type": "code",
   "execution_count": 20,
   "metadata": {},
   "outputs": [
    {
     "data": {
      "text/plain": [
       "(array([0.3125, 0.9375, 1.    ]), 0.4388784397520523, 1)"
      ]
     },
     "execution_count": 20,
     "metadata": {},
     "output_type": "execute_result"
    }
   ],
   "source": [
    "r = rng.uniform(0, 1)\n",
    "cdf, r, np.searchsorted(cdf, r)\n"
   ]
  },
  {
   "cell_type": "code",
   "execution_count": 21,
   "metadata": {},
   "outputs": [
    {
     "data": {
      "text/plain": [
       "(array([0.93  , 0.4845, 0.0855]),\n",
       " array([0.        , 0.66666667, 1.33333333, 2.        ]),\n",
       " <BarContainer object of 3 artists>)"
      ]
     },
     "execution_count": 21,
     "metadata": {},
     "output_type": "execute_result"
    },
    {
     "data": {
      "image/png": "[encoded data removed]",
      "text/plain": [
       "<Figure size 640x480 with 1 Axes>"
      ]
     },
     "metadata": {},
     "output_type": "display_data"
    }
   ],
   "source": [
    "r = rng.uniform(0, 1, 1000)\n",
    "i = np.searchsorted(cdf, r)\n",
    "lights = x[i]\n",
    "\n",
    "plt.hist(lights, bins=3, density=True)\n"
   ]
  },
  {
   "attachments": {},
   "cell_type": "markdown",
   "metadata": {},
   "source": [
    "#### Direkte Variante mit `rng.choice`"
   ]
  },
  {
   "cell_type": "code",
   "execution_count": 22,
   "metadata": {},
   "outputs": [
    {
     "data": {
      "text/plain": [
       "(array([0.4545, 0.942 , 0.1035]),\n",
       " array([0.        , 0.66666667, 1.33333333, 2.        ]),\n",
       " <BarContainer object of 3 artists>)"
      ]
     },
     "execution_count": 22,
     "metadata": {},
     "output_type": "execute_result"
    },
    {
     "data": {
      "image/png": "[encoded data removed]",
      "text/plain": [
       "<Figure size 640x480 with 1 Axes>"
      ]
     },
     "metadata": {},
     "output_type": "display_data"
    }
   ],
   "source": [
    "lights = rng.choice(x, size=1000, p=pdf)\n",
    "plt.hist(lights, bins=3, density=True)\n"
   ]
  },
  {
   "attachments": {},
   "cell_type": "markdown",
   "metadata": {},
   "source": [
    "### Alternative: Verwerfungsmethode (Rejection Sampling)\n",
    "\n",
    "Optionale Übung: Implementiere die Verwerfungsmethode für die Gamma-Verteilung\n",
    "\n",
    "- [\"Zufallszahlen generieren: Verwerfungsmethode 01: Die Idee\" - LernenInVerschiedenenFormen](https://www.youtube.com/watch?v=il9W8vdESX0)\n",
    "- [\"Zufallszahlen generieren: Verwerfungsmethode 02: Algorithmus\" - LernenInVerschiedenenFormen](https://www.youtube.com/watch?v=SaHA_NhELIo)"
   ]
  }
 ],
 "metadata": {
  "kernelspec": {
   "display_name": "venv",
   "language": "python",
   "name": "python3"
  },
  "language_info": {
   "codemirror_mode": {
    "name": "ipython",
    "version": 3
   },
   "file_extension": ".py",
   "mimetype": "text/x-python",
   "name": "python",
   "nbconvert_exporter": "python",
   "pygments_lexer": "ipython3",
   "version": "3.10.10"
  },
  "orig_nbformat": 4
 },
 "nbformat": 4,
 "nbformat_minor": 2
}
