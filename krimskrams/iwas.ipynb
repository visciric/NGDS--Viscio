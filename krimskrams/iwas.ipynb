{
 "cells": [
  {
   "cell_type": "code",
   "execution_count": 43,
   "metadata": {},
   "outputs": [],
   "source": [
    "import numpy as np"
   ]
  },
  {
   "cell_type": "code",
   "execution_count": 62,
   "metadata": {},
   "outputs": [
    {
     "data": {
      "text/plain": [
       "array([[ 111,   89,  453,    0],\n",
       "       [   3,    6,   13,  345],\n",
       "       [ 111,  234, 2314,  345],\n",
       "       [ 111,    3,   12,    3]])"
      ]
     },
     "execution_count": 62,
     "metadata": {},
     "output_type": "execute_result"
    }
   ],
   "source": [
    "filling_values = (111,89,453,345)\n",
    "np.genfromtxt(\"123.csv\", delimiter=';', skip_header=1,filling_values=filling_values,dtype='int') "
   ]
  }
 ],
 "metadata": {
  "kernelspec": {
   "display_name": "Python 3.9.13 ('base')",
   "language": "python",
   "name": "python3"
  },
  "language_info": {
   "codemirror_mode": {
    "name": "ipython",
    "version": 3
   },
   "file_extension": ".py",
   "mimetype": "text/x-python",
   "name": "python",
   "nbconvert_exporter": "python",
   "pygments_lexer": "ipython3",
   "version": "3.9.13"
  },
  "orig_nbformat": 4,
  "vscode": {
   "interpreter": {
    "hash": "4d2556984e1c68bbb8b2e1571fb1e53952da9788a323f9af554c8fb844d871f0"
   }
  }
 },
 "nbformat": 4,
 "nbformat_minor": 2
}
