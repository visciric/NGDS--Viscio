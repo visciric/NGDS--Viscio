{
 "cells": [
  {
   "attachments": {},
   "cell_type": "markdown",
   "metadata": {},
   "source": [
    "Spline interpolation für projekt.\n"
   ]
  },
  {
   "attachments": {},
   "cell_type": "markdown",
   "metadata": {},
   "source": [
    "kalenderwochen rechnen im projekt /KW / 24 somit hat man dann die  richtigen Daten. \n",
    "\n",
    "nach time diff berechnen. \n",
    "diesen paramenter dann nehemen und dan zurückrechnen oder nachschauen besser ist wenn man nachrchnet. \n",
    "nochmals nachschauen wichtig für das weiter vorgehen. \n"
   ]
  }
 ],
 "metadata": {
  "language_info": {
   "name": "python"
  },
  "orig_nbformat": 4
 },
 "nbformat": 4,
 "nbformat_minor": 2
}
