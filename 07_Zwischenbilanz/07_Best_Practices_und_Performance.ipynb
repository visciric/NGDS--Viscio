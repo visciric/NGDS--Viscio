{
 "cells": [
  {
   "attachments": {},
   "cell_type": "markdown",
   "metadata": {},
   "source": [
    "# Best Practices und Performance"
   ]
  },
  {
   "attachments": {},
   "cell_type": "markdown",
   "metadata": {},
   "source": [
    "## Ziele"
   ]
  },
  {
   "attachments": {},
   "cell_type": "markdown",
   "metadata": {},
   "source": [
    "### Kurz\n",
    "\n",
    "- **Genauigkeit:** Der Code liefert genaue Ergebnisse und ist robust gegenüber numerischen Instabilitäten und Rundungsfehlern.\n",
    "- **Effizienz:** Der Code ist optimiert, um die bestmögliche Leistung aus der zugrunde liegenden Hardware herauszuholen.\n",
    "- **Modularität:** Der Code ist modular und wiederverwendbar, was das Testen und Debuggen erleichtert.\n",
    "- **Verständlichkeit:** Der Code ist gut strukturiert, dokumentiert und leicht verständlich."
   ]
  },
  {
   "attachments": {},
   "cell_type": "markdown",
   "metadata": {},
   "source": [
    "### Ausführlich\n",
    "\n",
    "- **Genauigkeit:** Numerische Algorithmen müssen in der Lage sein, genaue Ergebnisse zu liefern. Dazu gehört auch, dass der Code numerische Instabilitäten vermeidet und robust gegenüber Störungen und Rundungsfehlern ist.\n",
    "- **Effizienz:** Numerische Verfahren arbeiten oft mit grossen Datenmengen und müssen daher effizient sein, um innerhalb eines angemessenen Zeitrahmens ausgeführt werden zu können. Dazu gehört auch, dass der Code optimiert wird, um die bestmögliche Leistung aus der zugrunde liegenden Hardware herauszuholen.\n",
    "- **Modularität:** Die Methoden bestehen oft aus mehreren Schritten oder Teilproblemen, die modular und wiederverwendbar sein sollten. Eine gute Modularität erleichtert auch das Testen und Debuggen des Codes.\n",
    "- **Verständlichkeit:** Numerische Algorithmen können komplex sein, und es ist wichtig, dass der Code so geschrieben ist, dass er leicht verständlich ist. Dazu gehört auch, dass der Code gut dokumentiert und strukturiert ist."
   ]
  },
  {
   "attachments": {},
   "cell_type": "markdown",
   "metadata": {},
   "source": [
    "## Best Practices"
   ]
  },
  {
   "attachments": {},
   "cell_type": "markdown",
   "metadata": {},
   "source": [
    "### Ziel Genauigkeit\n",
    "\n",
    "- Bestehende Lösungen (Packages) verwenden (aber nur vertrauenswürdige Quellen)\n",
    "- Fehlerhafte und inkonsistente Inputs abfangen und rückmelden\n",
    "- Numerische Instabilitäten vermeiden (64-bit Fliesskommazahlen verwenden, Subtraktion von ähnlichen Zahlen und Division durch sehr kleine Zahlen vermeiden, etc.)\n",
    "- Ergebnisse für mehrere Probleme validieren (z.B. mit anderen Methoden oder mit analytischen Lösungen)\n",
    "- \"Edge-Cases\" auch in den Tests abdecken (z.B. Division durch Null, etc.)"
   ]
  },
  {
   "attachments": {},
   "cell_type": "markdown",
   "metadata": {},
   "source": [
    "### Ziel Effizienz\n",
    "\n",
    "- Vermeiden von IO-Operationen (Console, Disk, Netzwerk, etc.)\n",
    "- Vektorisierung (z.B. mit [`numpy.vectorize`](https://numpy.org/doc/stable/reference/generated/numpy.vectorize.html))\n",
    "- Parallelisierung (z.B. mit [`multiprocessing`](https://docs.python.org/3/library/multiprocessing.html))\n",
    "- C-Code Kompilierung (z.B. mit [`numba`](https://numba.pydata.org/) oder [`cython`](https://cython.org/))\n",
    "- Manchmal durch Mutationen (z.B. in-place Operationen auf Arrays)"
   ]
  },
  {
   "attachments": {},
   "cell_type": "markdown",
   "metadata": {},
   "source": [
    "### Ziel Modularität\n",
    "\n",
    "- Funktionen und Methoden schreiben, die nur eine Aufgabe erfüllen.\n",
    "- Gleichartige Funktionalität in ein Module oder wenn nötig in eine Klasse packen.\n",
    "- Klare Schnittstellen für Funktionen, Module und Klassen definieren, um Abhängigkeiten zu minimieren und transporent zu machen.\n",
    "- Schnittstellen sollen sich an Standards orientieren (z.B. [`numpy`](https://numpy.org/), [`scipy`](https://www.scipy.org/), [`pandas`](https://pandas.pydata.org/), etc.)"
   ]
  },
  {
   "attachments": {},
   "cell_type": "markdown",
   "metadata": {},
   "source": [
    "### Verständlichkeit\n",
    "\n",
    "- Klare, konsistente und aussagekräftige Namen für Funktionen, Module, Klassen und Variablen verwenden.\n",
    "- Funktionen, Module und Klasse mit aussagekräftiger Dokumentationen versehen, z.B. auch Referenzen zur implementierten Methode angeben.\n",
    "- Tests schreiben, um die Funktionalität zu testen und um die Verständlichkeit zu erhöhen, indem sie gleich Beispielcode liefern."
   ]
  },
  {
   "attachments": {},
   "cell_type": "markdown",
   "metadata": {},
   "source": [
    "## Performance"
   ]
  },
  {
   "attachments": {},
   "cell_type": "markdown",
   "metadata": {},
   "source": [
    "> \"Premature optimization is the root of all evil\" (Donald Knuth)"
   ]
  },
  {
   "attachments": {},
   "cell_type": "markdown",
   "metadata": {},
   "source": [
    "### Einfache Zeitmessung mit [`timeit`](https://docs.python.org/3/library/timeit.html)"
   ]
  },
  {
   "cell_type": "code",
   "execution_count": null,
   "metadata": {},
   "outputs": [],
   "source": [
    "import numpy as np\n",
    "\n",
    "l = list(range(1_000))\n",
    "%timeit \"-\".join(str(n) for n in l)\n",
    "%timeit \"-\".join([str(n) for n in l])\n",
    "%timeit \"-\".join(map(str, l))\n",
    "%timeit \"-\".join(np.array(l, dtype=str))"
   ]
  },
  {
   "attachments": {},
   "cell_type": "markdown",
   "metadata": {},
   "source": [
    "### Profiling mit [`cProfile`](https://docs.python.org/3/library/profile.html)\n",
    "\n",
    "Video: [\"Using \"cProfile\" to analyze Python code performance\" - IDG TECHtalk](https://www.youtube.com/watch?v=dmnA3axZ3FY)"
   ]
  },
  {
   "attachments": {},
   "cell_type": "markdown",
   "metadata": {},
   "source": [
    "### Testfälle erzeugen"
   ]
  },
  {
   "cell_type": "code",
   "execution_count": null,
   "metadata": {},
   "outputs": [],
   "source": []
  }
 ],
 "metadata": {
  "kernelspec": {
   "display_name": "venv",
   "language": "python",
   "name": "python3"
  },
  "language_info": {
   "codemirror_mode": {
    "name": "ipython",
    "version": 3
   },
   "file_extension": ".py",
   "mimetype": "text/x-python",
   "name": "python",
   "nbconvert_exporter": "python",
   "pygments_lexer": "ipython3",
   "version": "3.10.10"
  },
  "orig_nbformat": 4
 },
 "nbformat": 4,
 "nbformat_minor": 2
}
